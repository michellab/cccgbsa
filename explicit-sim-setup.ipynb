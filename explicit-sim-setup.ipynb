{
 "cells": [
  {
   "cell_type": "code",
   "execution_count": null,
   "metadata": {},
   "outputs": [],
   "source": [
    "from simtk.openmm.app import *\n",
    "from simtk.openmm import *\n",
    "from simtk.unit import*\n",
    "from sys import stdout\n",
    "\n",
    "import time"
   ]
  },
  {
   "cell_type": "code",
   "execution_count": null,
   "metadata": {},
   "outputs": [],
   "source": [
    "start_time = time.time()\n",
    "\n",
    "prmtop = AmberPrmtopFile('/home/eva/Documents/structures/explicit-fromh++/ff19SB-OPC/hex_L24E/pH6/6q5j_pH6_explicit.top')\n",
    "inpcrd = AmberInpcrdFile('/home/eva/Documents/structures/explicit-fromh++/ff19SB-OPC/hex_L24E/pH6/6q5j_pH6_explicit.crd')\n",
    "\n",
    "system = prmtop.createSystem(nonbondedMethod=PME,\n",
    "        nonbondedCutoff=1*nanometer, constraints=HBonds, switchDistance=0.9*nanometers)\n",
    "\n",
    "#include barostat to run simulation in constant pressure\n",
    "system.addForce(MonteCarloBarostat(1*bar, 298.15*kelvin))\n",
    "\n",
    "#Langevin Integrators for constant temperature\n",
    "integrator = LangevinMiddleIntegrator(298.15*kelvin, 1/picosecond, 0.002*picoseconds)\n",
    "\n",
    "\n",
    "platform = Platform.getPlatformByName('CUDA')\n",
    "\n",
    "properties = {'Precision': 'mixed'}\n",
    "\n",
    "simulation = Simulation(prmtop.topology, system, integrator, platform, properties)\n",
    "simulation.context.setPositions(inpcrd.positions)\n",
    "if inpcrd.boxVectors is not None:\n",
    "    simulation.context.setPeriodicBoxVectors(*inpcrd.boxVectors)\n",
    "simulation.minimizeEnergy()\n",
    "simulation.reporters.append(DCDReporter('output.dcd', 1000))\n",
    "simulation.reporters.append(StateDataReporter(stdout, 1000, step=True,\n",
    "        potentialEnergy=True, temperature=True))\n",
    "simulation.reporters.append(CheckpointReporter('checkpnt.chk', 5000))\n",
    "simulation.step(100000000)\n",
    "\n",
    "print (\"simulation time:\", time.time() - start_time, \"s\")"
   ]
  }
 ],
 "metadata": {
  "kernelspec": {
   "display_name": "Python 3.9.5 64-bit",
   "language": "python",
   "name": "python3"
  },
  "language_info": {
   "name": "python",
   "version": "3.9.5"
  },
  "orig_nbformat": 4,
  "vscode": {
   "interpreter": {
    "hash": "f9f85f796d01129d0dd105a088854619f454435301f6ffec2fea96ecbd9be4ac"
   }
  }
 },
 "nbformat": 4,
 "nbformat_minor": 2
}
