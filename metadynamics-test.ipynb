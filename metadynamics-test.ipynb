{
 "cells": [
  {
   "cell_type": "code",
   "execution_count": null,
   "id": "e9ee5142",
   "metadata": {},
   "outputs": [],
   "source": [
    "from openmm.app import *\n",
    "from openmm import *\n",
    "from openmm.unit import *\n",
    "from sys import stdout\n",
    "import time\n",
    "import mdtraj as md\n",
    "import numpy as np"
   ]
  },
  {
   "cell_type": "code",
   "execution_count": null,
   "id": "2c49d670",
   "metadata": {},
   "outputs": [],
   "source": [
    "prot = md.load_pdb('/home/eva/Documents/structures/structures-obc2-ff96/tet_L24E/GLU/6q5i_GLU_cv.pdb')\n",
    "topology = prot.topology\n",
    "\n",
    "g1 = [atom.index for atom in topology.chain(0).atoms]\n",
    "g2 = [atom.index for atom in topology.chain(1).atoms]\n",
    "g3 = [atom.index for atom in topology.chain(2).atoms]\n",
    "g4 = [atom.index for atom in topology.chain(3).atoms]"
   ]
  },
  {
   "cell_type": "code",
   "execution_count": null,
   "id": "49ad0635",
   "metadata": {
    "scrolled": true
   },
   "outputs": [],
   "source": [
    "prmtop = AmberPrmtopFile('apart-lastframe.prmtop')\n",
    "inpcrd = AmberInpcrdFile('apart-lastframe.inpcrd')\n",
    "pdb = PDBFile('/home/eva/Documents/structures/structures-obc2-ff96/tet_L24E/GLU/6q5i_GLU_cv.pdb')\n",
    "\n",
    "system = prmtop.createSystem(nonbondedMethod=NoCutoff, constraints=HBonds, hydrogenMass=1.5*amu, \n",
    "                             implicitSolvent=OBC2)\n",
    "\n",
    "expr = 'distance(g1,g2)+distance(g1,g3)+distance(g1,g4)+distance(g2,g3)+distance(g2,g4)+distance(g3,g4)'\n",
    "\n",
    "\n",
    "dist_force_1 = openmm.CustomCentroidBondForce(4, expr)\n",
    "dist_force_1.addGroup(g1)\n",
    "dist_force_1.addGroup(g2)\n",
    "dist_force_1.addGroup(g3)\n",
    "dist_force_1.addGroup(g4)\n",
    "dist_force_1.addBond([0,1,2,3])\n",
    "#dist_force.setForceGroup(1)\n",
    "#do not add force to the system manually, it will get added in the metadynamics step as a CV force\n",
    "dist_bias_1 = BiasVariable(dist_force_1, 1, 100, 0.5, False)\n",
    "\n",
    "\n",
    "meta = Metadynamics(system, [dist_bias_1], 298.15*kelvin, 5.0, 1*kilojoule_per_mole, 1)\n",
    "\n",
    "integrator = LangevinMiddleIntegrator(298.15*kelvin, 1/picosecond, 0.004*picoseconds)\n",
    "\n",
    "platform = Platform.getPlatformByName('CUDA')\n",
    "properties = {'Precision': 'mixed'}\n",
    "\n",
    "simulation = Simulation(prmtop.topology, system, integrator, platform, properties)\n",
    "\n",
    "simulation.context.setPositions(inpcrd.positions)\n",
    "simulation.minimizeEnergy()\n",
    "simulation.reporters.append(DCDReporter('test-output.dcd', 1000))\n",
    "simulation.reporters.append(StateDataReporter(stdout, 1000, step=True,\n",
    "        potentialEnergy=True, temperature=True))\n",
    "meta.step(simulation, 100000)\n"
   ]
  },
  {
   "cell_type": "code",
   "execution_count": null,
   "id": "7e786925",
   "metadata": {},
   "outputs": [],
   "source": []
  },
  {
   "cell_type": "code",
   "execution_count": null,
   "id": "123e4ef4",
   "metadata": {},
   "outputs": [],
   "source": []
  },
  {
   "cell_type": "code",
   "execution_count": null,
   "id": "46137d9a",
   "metadata": {},
   "outputs": [],
   "source": []
  }
 ],
 "metadata": {
  "kernelspec": {
   "display_name": "Python 3 (ipykernel)",
   "language": "python",
   "name": "python3"
  },
  "language_info": {
   "codemirror_mode": {
    "name": "ipython",
    "version": 3
   },
   "file_extension": ".py",
   "mimetype": "text/x-python",
   "name": "python",
   "nbconvert_exporter": "python",
   "pygments_lexer": "ipython3",
   "version": "3.8.8"
  }
 },
 "nbformat": 4,
 "nbformat_minor": 5
}
