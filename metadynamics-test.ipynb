{
 "cells": [
  {
   "cell_type": "code",
   "execution_count": null,
   "id": "e9ee5142",
   "metadata": {},
   "outputs": [],
   "source": [
    "from openmm.app import *\n",
    "from openmm import *\n",
    "from openmm.unit import *\n",
    "from sys import stdout\n",
    "import time\n",
    "import mdtraj as md\n",
    "import numpy as np\n",
    "import matplotlib.pyplot as plt"
   ]
  },
  {
   "cell_type": "code",
   "execution_count": null,
   "id": "2c49d670",
   "metadata": {},
   "outputs": [],
   "source": [
    "prot = md.load_pdb('/home/eva/Documents/structures/structures-obc2-ff96/tet_L24E/GLU/6q5i_GLU_cv.pdb')\n",
    "topology = prot.topology\n",
    "\n",
    "g1 = [atom.index for atom in topology.chain(0).atoms]\n",
    "g2 = [atom.index for atom in topology.chain(1).atoms]\n",
    "g3 = [atom.index for atom in topology.chain(2).atoms]\n",
    "g4 = [atom.index for atom in topology.chain(3).atoms]"
   ]
  },
  {
   "cell_type": "code",
   "execution_count": null,
   "id": "ec82bd41",
   "metadata": {},
   "outputs": [],
   "source": [
    "coord = md.load('apart-lastframe.inpcrd', top = 'apart-lastframe.prmtop')"
   ]
  },
  {
   "cell_type": "code",
   "execution_count": null,
   "id": "193cce9f",
   "metadata": {},
   "outputs": [],
   "source": [
    "phi_array = md.compute_phi(coord)\n",
    "psi_array = md.compute_psi(coord)\n",
    "\n",
    "phi_atoms = phi_array[0].tolist()\n",
    "psi_atoms = psi_array[0].tolist()\n",
    "\n",
    "phi_atoms_res_5_25 = phi_atoms[4:25]+phi_atoms[34:55]+phi_atoms[64:85]+phi_atoms[94:115]\n",
    "psi_atoms_res_5_25 = psi_atoms[4:25]+psi_atoms[34:55]+psi_atoms[64:85]+psi_atoms[94:115]"
   ]
  },
  {
   "cell_type": "code",
   "execution_count": null,
   "id": "2d819631",
   "metadata": {},
   "outputs": [],
   "source": [
    "start_time = time.time()"
   ]
  },
  {
   "cell_type": "code",
   "execution_count": null,
   "id": "49ad0635",
   "metadata": {
    "scrolled": true
   },
   "outputs": [],
   "source": [
    "prmtop = AmberPrmtopFile('apart-lastframe.prmtop')\n",
    "inpcrd = AmberInpcrdFile('apart-lastframe.inpcrd')\n",
    "pdb = PDBFile('/home/eva/Documents/structures/structures-obc2-ff96/tet_L24E/GLU/6q5i_GLU_cv.pdb')\n",
    "\n",
    "system = prmtop.createSystem(nonbondedMethod=NoCutoff, constraints=HBonds, hydrogenMass=1.5*amu, \n",
    "                             implicitSolvent=OBC2)\n",
    "\n",
    "expr = 'distance(g1,g2)+distance(g1,g3)+distance(g1,g4)+distance(g2,g3)+distance(g2,g4)+distance(g3,g4)'\n",
    "#in metadynamics, the expression inside the Force object needs to be the CV, not an energy expression\n",
    "\n",
    "dist_force_1 = openmm.CustomCentroidBondForce(4, expr)\n",
    "dist_force_1.addGroup(g1)\n",
    "dist_force_1.addGroup(g2)\n",
    "dist_force_1.addGroup(g3)\n",
    "dist_force_1.addGroup(g4)\n",
    "dist_force_1.addBond([0,1,2,3])\n",
    "#dist_force.setForceGroup(1)\n",
    "#do not add force to the system manually, it will get added in the metadynamics step as a CV force\n",
    "dist_bias_1 = BiasVariable(dist_force_1, 0.1, 100, 0.5, False)\n",
    "\n",
    "#average alpha helix phi and psi dihedrals\n",
    "phi_avg = (-57.0*np.pi)/180.0\n",
    "psi_avg = (-47.0*np.pi)/180.0\n",
    "\n",
    "#Ramachandran plot region for right-handed alpha-helix (in deg)\n",
    "phi_min = -130.0\n",
    "phi_max = -30.0\n",
    "psi_min = -68.0\n",
    "psi_max = 30.0\n",
    "\n",
    "phi0 = (phi_min +phi_max)/2.0\n",
    "psi0 = (psi_min+psi_max)/2.0\n",
    "phicutoff = abs(phi_max-phi_min)/2.0\n",
    "psicutoff = abs(psi_max-psi_min)/2.0\n",
    "        \n",
    "phiforce = CustomTorsionForce('select({},{},{})'.format('step(-k_dihed*cos(theta-phi0)-(-k_dihed*cos_phicutoff))', '-k_dihed*cos(theta-phi0)', '-k_dihed*cos_phicutoff'))\n",
    "phiforce.addGlobalParameter('k_dihed', 100.0*kilojoules_per_mole)\n",
    "phiforce.addGlobalParameter('phi0', (phi0*np.pi/180.0)*radians)\n",
    "phiforce.addGlobalParameter('cos_phicutoff', cos(phicutoff*np.pi/180.0))\n",
    "\n",
    "psiforce = CustomTorsionForce('select({},{},{})'.format('step(-k_dihed*cos(theta-psi0)-(-k_dihed*cos_psicutoff))', '-k_dihed*cos(theta-psi0)', '-k_dihed*cos_psicutoff'))\n",
    "psiforce.addGlobalParameter('k_dihed', 100.0*kilojoules_per_mole)\n",
    "psiforce.addGlobalParameter('psi0', (psi0*np.pi/180.0)*radians)\n",
    "psiforce.addGlobalParameter('cos_psicutoff', cos(psicutoff*np.pi/180.0))\n",
    "\n",
    "\n",
    "for i in range(len(phi_atoms_res_5_25)):\n",
    "    phiforce.addTorsion(phi_atoms_res_5_25[i][0], phi_atoms_res_5_25[i][1], phi_atoms_res_5_25[i][2], phi_atoms_res_5_25[i][3])\n",
    "    psiforce.addTorsion(psi_atoms_res_5_25[i][0], psi_atoms_res_5_25[i][1], psi_atoms_res_5_25[i][2], psi_atoms_res_5_25[i][3])\n",
    "    \n",
    "phiforce.setForceGroup(2)\n",
    "psiforce.setForceGroup(3)\n",
    "system.addForce(phiforce)\n",
    "system.addForce(psiforce)\n",
    "\n",
    "\n",
    "meta = Metadynamics(system, [dist_bias_1], 298.15*kelvin, 5.0, 1*kilojoule_per_mole, 1)\n",
    "\n",
    "integrator = LangevinMiddleIntegrator(298.15*kelvin, 1/picosecond, 0.004*picoseconds)\n",
    "\n",
    "platform = Platform.getPlatformByName('CUDA')\n",
    "properties = {'Precision': 'mixed'}\n",
    "\n",
    "simulation = Simulation(prmtop.topology, system, integrator, platform, properties)\n",
    "\n",
    "simulation.context.setPositions(inpcrd.positions)\n",
    "simulation.minimizeEnergy()\n",
    "simulation.reporters.append(DCDReporter('test-output.dcd', 100))\n",
    "simulation.reporters.append(StateDataReporter(stdout, 1000, step=True,\n",
    "        potentialEnergy=True, temperature=True))\n",
    "\n",
    "meta.step(simulation, 100000)\n",
    "\n",
    "print (\"simulation time:\", time.time() - start_time, \"s\")\n"
   ]
  },
  {
   "cell_type": "code",
   "execution_count": null,
   "id": "7e786925",
   "metadata": {},
   "outputs": [],
   "source": [
    "traj = md.load('test-output.dcd', top = 'apart-lastframe.prmtop')\n",
    "\n",
    "cv_tuple=[]\n",
    "\n",
    "for crd in traj.xyz: #getting atom coordinates in each frame to make the simulation context\n",
    "    simulation.context.setPositions(crd)\n",
    "    cv_tuple.append(meta.getCollectiveVariables(simulation)) #get CV per frame"
   ]
  },
  {
   "cell_type": "code",
   "execution_count": null,
   "id": "46137d9a",
   "metadata": {},
   "outputs": [],
   "source": [
    "fe = []\n",
    "for i in meta.getFreeEnergy():\n",
    "    fe.append(i._value)"
   ]
  },
  {
   "cell_type": "code",
   "execution_count": null,
   "id": "a3c8aad0",
   "metadata": {},
   "outputs": [],
   "source": [
    "fe"
   ]
  },
  {
   "cell_type": "code",
   "execution_count": null,
   "id": "0666c7a9",
   "metadata": {},
   "outputs": [],
   "source": [
    "cv = []\n",
    "for i in range(len(cv_tuple)):\n",
    "    cv.append(cv_tuple[i][0])"
   ]
  },
  {
   "cell_type": "code",
   "execution_count": null,
   "id": "5c3f553a",
   "metadata": {},
   "outputs": [],
   "source": [
    "cv"
   ]
  },
  {
   "cell_type": "code",
   "execution_count": null,
   "id": "bbe176f9",
   "metadata": {
    "scrolled": true
   },
   "outputs": [],
   "source": [
    "fig,ax = plt.subplots()\n",
    "ax.plot(cv[1:], fe)\n",
    "ax.set(xlabel='CV (nm)', ylabel='Free Energy (kJ/mol)', title='')\n",
    "#ax.grid()\n",
    "#ax.set_xlim([0.0, 20.0])\n",
    "\n",
    "fig.savefig('fe-cv.png')\n",
    "plt.show()"
   ]
  },
  {
   "cell_type": "markdown",
   "id": "016ffe5a",
   "metadata": {},
   "source": [
    "algebraic expression for calculating CV per frame - comparison with CV computed from simulation context"
   ]
  },
  {
   "cell_type": "code",
   "execution_count": null,
   "id": "306c8326",
   "metadata": {},
   "outputs": [],
   "source": [
    "g1_positions=[]\n",
    "g2_positions=[]\n",
    "g3_positions=[]\n",
    "g4_positions=[]\n",
    "\n",
    "#get x,y,z coordinates for each individual chain\n",
    "for crd in traj.xyz:\n",
    "    g1_positions.append(crd[g1[0]:g1[-1]+1]) \n",
    "    g2_positions.append(crd[g2[0]:g2[-1]+1])\n",
    "    g3_positions.append(crd[g3[0]:g3[-1]+1])\n",
    "    g4_positions.append(crd[g4[0]:g4[-1]+1])\n",
    "\n",
    "\n",
    "cv_linalg = []\n",
    "\n",
    "for idx in range(len(traj.xyz)):\n",
    "    dist12 = np.linalg.norm(np.mean(np.asarray(g1_positions[idx]),axis=0) - np.mean(np.asarray(g2_positions[idx]), axis=0))\n",
    "    dist13 = np.linalg.norm(np.mean(np.asarray(g1_positions[idx]),axis=0) - np.mean(np.asarray(g3_positions[idx]), axis=0))\n",
    "    dist14 = np.linalg.norm(np.mean(np.asarray(g1_positions[idx]),axis=0) - np.mean(np.asarray(g4_positions[idx]), axis=0))\n",
    "    dist23 = np.linalg.norm(np.mean(np.asarray(g2_positions[idx]),axis=0) - np.mean(np.asarray(g3_positions[idx]), axis=0))\n",
    "    dist24 = np.linalg.norm(np.mean(np.asarray(g2_positions[idx]),axis=0) - np.mean(np.asarray(g4_positions[idx]), axis=0))\n",
    "    dist34 = np.linalg.norm(np.mean(np.asarray(g3_positions[idx]),axis=0) - np.mean(np.asarray(g4_positions[idx]), axis=0))\n",
    "    \n",
    "    cv_lin = dist12+dist13+dist14+dist23+dist24+dist34\n",
    "    cv_linalg.append(cv_lin)"
   ]
  }
 ],
 "metadata": {
  "kernelspec": {
   "display_name": "Python 3 (ipykernel)",
   "language": "python",
   "name": "python3"
  },
  "language_info": {
   "codemirror_mode": {
    "name": "ipython",
    "version": 3
   },
   "file_extension": ".py",
   "mimetype": "text/x-python",
   "name": "python",
   "nbconvert_exporter": "python",
   "pygments_lexer": "ipython3",
   "version": "3.8.8"
  }
 },
 "nbformat": 4,
 "nbformat_minor": 5
}
