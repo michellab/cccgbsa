{
 "cells": [
  {
   "cell_type": "markdown",
   "id": "996d194a",
   "metadata": {},
   "source": [
    "# Coiled Coil Descriptors Analysis"
   ]
  },
  {
   "cell_type": "code",
   "execution_count": null,
   "id": "db5fe5f0",
   "metadata": {},
   "outputs": [],
   "source": [
    "import mdtraj as md\n",
    "import numpy\n",
    "import pandas as pd\n",
    "import ampal\n",
    "import nglview as nv\n",
    "import matplotlib.pyplot as plt\n",
    "from contextlib import redirect_stdout"
   ]
  },
  {
   "cell_type": "code",
   "execution_count": null,
   "id": "3184f696",
   "metadata": {},
   "outputs": [],
   "source": [
    "import isambard\n",
    "import isambard.specifications as specs\n",
    "import isambard.modelling as modelling\n",
    "\n",
    "from ampal.analyse_protein import reference_axis_from_chains, alpha_angles, crick_angles,polymer_to_reference_axis_distances, polypeptide_vector\n",
    "from ampal.pseudo_atoms import Primitive\n",
    "from ampal.geometry import is_acute"
   ]
  },
  {
   "cell_type": "code",
   "execution_count": null,
   "id": "92f2b246",
   "metadata": {},
   "outputs": [],
   "source": [
    "class PACCAnalysis(object):\n",
    "    def __init__(self, coiledcoil):\n",
    "        \"\"\"Class for the parametric analysis of coiled coils.\n",
    "        Currently only functions for parallel and ap blunt ended assemblies.\n",
    "        Parameters\n",
    "        ----------\n",
    "        coiledcoil: Assembly\n",
    "            Must contain only the coiled coil polypeptides which need to be of\n",
    "            equal length.\n",
    "        \"\"\"\n",
    "        len_set = set([len(x) for x in coiledcoil])\n",
    "        if len(len_set) != 1:\n",
    "            raise ValueError('The helices of the coiled coil must be of equal length.')\n",
    "        self.cc_len = len_set.pop()\n",
    "        self.cc = coiledcoil\n",
    "        self.ra = reference_axis_from_chains(self.cc)\n",
    "        # create flipped axis\n",
    "        self.ra_flipped = Primitive.from_coordinates(numpy.flipud(self.ra.coordinates))\n",
    "        ref_polypeptide_vec = polypeptide_vector(self.cc[0])\n",
    "\n",
    "        for ch in self.cc:\n",
    "            ch_polypeptide_vec = polypeptide_vector(ch)\n",
    "            # if both vectors point in the same direction (angle less than 90 deg)\n",
    "            if is_acute(ref_polypeptide_vec, ch_polypeptide_vec):\n",
    "                ref_ax = self.ra\n",
    "            else:\n",
    "                ref_ax = self.ra_flipped\n",
    "            polymer_to_reference_axis_distances(ch, ref_ax)\n",
    "            alpha_angles(ch, ref_ax)\n",
    "            crick_angles(ch, ref_ax)\n",
    "\n",
    "        self.radii_layers = []\n",
    "        self.alpha_layers = []\n",
    "        self.ca_layers = []\n",
    "        self.gather_layer_info()\n",
    "\n",
    "    def gather_layer_info(self):\n",
    "        \"\"\"Extracts the tagged coiled-coil parameters for each layer.\"\"\"\n",
    "        for i in range(len(self.cc[0])):\n",
    "            layer_radii = [x[i].tags['distance_to_ref_axis'] for x in self.cc]\n",
    "            self.radii_layers.append(layer_radii)\n",
    "            layer_alpha = [x[i].tags['alpha_angle_ref_axis'] for x in self.cc]\n",
    "            self.alpha_layers.append(layer_alpha)\n",
    "            layer_ca = [x[i].tags['crick_angle_ref_axis'] for x in self.cc]\n",
    "            self.ca_layers.append(layer_ca)\n",
    "        return\n",
    "\n",
    "    @staticmethod\n",
    "    def calc_average_parameters(parameter_layers):\n",
    "        \"\"\"Takes a group of equal length lists and averages them across each index.\n",
    "        Returns\n",
    "        -------\n",
    "        mean_layers: [float]\n",
    "            List of values averaged by index\n",
    "        overall_mean: float\n",
    "            Mean of the averaged values.\n",
    "        \"\"\"\n",
    "        mean_layers = [numpy.mean(x) if x[0] else 0 for x in parameter_layers]\n",
    "        overall_mean = numpy.mean([x for x in mean_layers if x])\n",
    "        return mean_layers, overall_mean\n",
    "\n",
    "    def heptad_register(self):\n",
    "        \"\"\"Returns the calculated register of the coiled coil and the fit quality.\"\"\"\n",
    "        base_reg = 'abcdefg'\n",
    "        exp_base = base_reg * (self.cc_len//7+2)\n",
    "        ave_ca_layers = self.calc_average_parameters(self.ca_layers)[0][:-1]\n",
    "        reg_fit = fit_heptad_register(ave_ca_layers)\n",
    "        hep_pos = reg_fit[0][0]\n",
    "        return exp_base[hep_pos:hep_pos+self.cc_len], reg_fit[0][1:]\n",
    "\n",
    "    def generate_report(self):\n",
    "        \"\"\"Generates a report on the coiled coil parameters.\n",
    "        Returns\n",
    "        -------\n",
    "        report: str\n",
    "            A string detailing the register and parameters of the coiled coil.\n",
    "        \"\"\"\n",
    "        # Find register\n",
    "        lines = ['Register Assignment\\n-------------------']\n",
    "        register, fit = self.heptad_register()\n",
    "        lines.append('{}\\n{}\\n'.format(register, '\\n'.join(self.cc.sequences)))\n",
    "        lines.append('Fit Quality - Mean Angular Discrepancy = {:3.2f} (Std Dev = {:3.2f})\\n'.format(*fit))\n",
    "        # Find coiled coil parameters\n",
    "        lines.append('Coiled Coil Parameters\\n----------------------')\n",
    "        layer_info = (self.radii_layers, self.alpha_layers, self.ca_layers)\n",
    "        r_layer_aves, a_layer_aves, c_layer_aves = [self.calc_average_parameters(x) for x in layer_info]\n",
    "        start_line = ['Res#'.rjust(5), 'Radius'.rjust(9), 'Alpha'.rjust(9), 'CrAngle'.rjust(9)]\n",
    "        lines.append(''.join(start_line))\n",
    "        for i in range(len(r_layer_aves[0])):\n",
    "            residue = '{:>5}'.format(i+1)\n",
    "            average_r = '{:+3.3f}'.format(r_layer_aves[0][i]).rjust(9)\n",
    "            average_a = '{:+3.3f}'.format(a_layer_aves[0][i]).rjust(9)\n",
    "            average_c = '{:+3.3f}'.format(c_layer_aves[0][i]).rjust(9)\n",
    "            line = [residue, average_r, average_a, average_c]\n",
    "            lines.append(''.join(line))\n",
    "        # Average for assembly\n",
    "        lines.append('-'*32)\n",
    "        residue = '  Ave'\n",
    "        average_r = '{:+3.3f}'.format(r_layer_aves[1]).rjust(9)\n",
    "        average_a = '{:+3.3f}'.format(a_layer_aves[1]).rjust(9)\n",
    "        average_c = '{:+3.3f}'.format(c_layer_aves[1]).rjust(9)\n",
    "        line = [residue, average_r, average_a, average_c]\n",
    "        lines.append(''.join(line))\n",
    "        # Std dev\n",
    "        residue = 'Std D'\n",
    "        std_d_r = '{:+3.3f}'.format(numpy.std(r_layer_aves[0])).rjust(9)\n",
    "        std_d_a = '{:+3.3f}'.format(numpy.std(a_layer_aves[0][:-1])).rjust(9)\n",
    "        std_d_c = '{:+3.3f}'.format(numpy.std(c_layer_aves[0][:-1])).rjust(9)\n",
    "        line = [residue, std_d_r, std_d_a, std_d_c]\n",
    "        lines.append(''.join(line))\n",
    "        return '\\n'.join(lines)\n",
    "    \n",
    "def fit_heptad_register(crangles):\n",
    "    \"\"\"Attempts to fit a heptad repeat to a set of Crick angles.\n",
    "    Parameters\n",
    "    ----------\n",
    "    crangles: [float]\n",
    "        A list of average Crick angles for the coiled coil.\n",
    "    Returns\n",
    "    -------\n",
    "    fit_data: [(float, float, float)]\n",
    "        Sorted list of fits for each heptad position.\n",
    "    \"\"\"\n",
    "    crangles = [x if x > 0 else 360 + x for x in crangles]\n",
    "    hept_p = [x * (360.0 / 7.0) + ((360.0 / 7.0) / 2.0) for x in range(7)]\n",
    "    ideal_crangs = [\n",
    "        hept_p[0],\n",
    "        hept_p[2],\n",
    "        hept_p[4],\n",
    "        hept_p[6],\n",
    "        hept_p[1],\n",
    "        hept_p[3],\n",
    "        hept_p[5]\n",
    "    ]\n",
    "    full_hept = len(crangles) // 7\n",
    "    ideal_crang_list = ideal_crangs * (full_hept + 2)  \n",
    "    fitting = []\n",
    "    for i in range(7):\n",
    "        ang_pairs = zip(crangles, ideal_crang_list[i:])\n",
    "        ang_diffs = [abs(y - x) for x, y in ang_pairs]\n",
    "        fitting.append((i, numpy.mean(ang_diffs), numpy.std(ang_diffs)))\n",
    "    return sorted(fitting, key=lambda x: x[1])\n",
    "\n",
    "\n",
    "__author__ = 'Christopher W. Wood'"
   ]
  },
  {
   "cell_type": "markdown",
   "id": "99160726",
   "metadata": {},
   "source": [
    "Specifying the working and topology directories:"
   ]
  },
  {
   "cell_type": "code",
   "execution_count": null,
   "id": "d338fe24",
   "metadata": {},
   "outputs": [],
   "source": [
    "work_dir = '/home/eva/Documents/gbsa-sims/sims-3/CC-Hex/3r3k_W/GLH/'"
   ]
  },
  {
   "cell_type": "code",
   "execution_count": null,
   "id": "15179b56",
   "metadata": {},
   "outputs": [],
   "source": [
    "top_dir = '/home/eva/Documents/structures/structures-obc2-ff96/CC-Hex/3r3k_W/GLH/'"
   ]
  },
  {
   "cell_type": "code",
   "execution_count": null,
   "id": "54414f46",
   "metadata": {},
   "outputs": [],
   "source": [
    "system_name = 'CC-Hex*-W, all E protonated'"
   ]
  },
  {
   "cell_type": "markdown",
   "id": "4405cbdb",
   "metadata": {},
   "source": [
    "Loading a trajectory with a stride of 100, to make analysis with ampal feasible"
   ]
  },
  {
   "cell_type": "markdown",
   "id": "4a7a83e2",
   "metadata": {},
   "source": [
    "The topology used needs to be a new .pdb file that includes the number of chains (prepared with parmed and ambpdb)"
   ]
  },
  {
   "cell_type": "code",
   "execution_count": null,
   "id": "b26df407",
   "metadata": {},
   "outputs": [],
   "source": [
    "traj = md.load(work_dir+'output.dcd', top = top_dir+'3r3k_T_GLU_new_top.pdb', stride = 100)"
   ]
  },
  {
   "cell_type": "code",
   "execution_count": null,
   "id": "a4f74d80",
   "metadata": {},
   "outputs": [],
   "source": [
    "traj"
   ]
  },
  {
   "cell_type": "code",
   "execution_count": null,
   "id": "6564686b",
   "metadata": {},
   "outputs": [],
   "source": [
    "traj.topology"
   ]
  },
  {
   "cell_type": "code",
   "execution_count": null,
   "id": "01615397",
   "metadata": {},
   "outputs": [],
   "source": [
    "traj.save_pdb(work_dir+'6q5i_GLH_traj.pdb')"
   ]
  },
  {
   "cell_type": "markdown",
   "id": "fb32d18f",
   "metadata": {},
   "source": [
    "Creating the dataframe that will process the PDB file to be readable by ampal"
   ]
  },
  {
   "cell_type": "code",
   "execution_count": null,
   "id": "e14851f8",
   "metadata": {},
   "outputs": [],
   "source": [
    "colnames = ['atom', 'atomnumber', 'atomtype', 'resname', 'chain', 'resnumber', 'x', 'y', 'z', 'occupancy', 'beta', 'element']"
   ]
  },
  {
   "cell_type": "code",
   "execution_count": null,
   "id": "bb23c6c2",
   "metadata": {},
   "outputs": [],
   "source": [
    "df = pd.read_csv(work_dir+'6q5i_GLH_traj.pdb', names=colnames, dtype=object, sep='\\s+')"
   ]
  },
  {
   "cell_type": "code",
   "execution_count": null,
   "id": "b5d7e958",
   "metadata": {},
   "outputs": [],
   "source": [
    "df.loc[df.resname == 'ACE', 'atom'] = 'HETATM'\n",
    "df.loc[df.resname == 'NHE', 'atom'] = 'HETATM'\n",
    "df.loc[df.resname == 'GLH', 'atom'] = 'HETATM'"
   ]
  },
  {
   "cell_type": "code",
   "execution_count": null,
   "id": "5175ef8d",
   "metadata": {},
   "outputs": [],
   "source": [
    "df = df[~df['atom'].isin(['CONECT'])]"
   ]
  },
  {
   "cell_type": "code",
   "execution_count": null,
   "id": "9f22c238",
   "metadata": {},
   "outputs": [],
   "source": [
    "df = df.fillna('0')"
   ]
  },
  {
   "cell_type": "code",
   "execution_count": null,
   "id": "923cbb94",
   "metadata": {},
   "outputs": [],
   "source": [
    "attributes =[]\n",
    "attributes_small = range(0, df.columns.size)\n",
    "for attribute in attributes_small:\n",
    "    attributes.append([])\n",
    "    \n",
    "for i in range(0, df.columns.size):\n",
    "    for j in df[colnames[i]]: \n",
    "        attributes[i].append(j)"
   ]
  },
  {
   "cell_type": "markdown",
   "id": "2a05a42d",
   "metadata": {},
   "source": [
    "Additional list for the charge - needed for the correct PDB format"
   ]
  },
  {
   "cell_type": "code",
   "execution_count": null,
   "id": "a8afcbff",
   "metadata": {},
   "outputs": [],
   "source": [
    "charge=[]\n",
    "for i in range(len(df['atom'])):\n",
    "    charge.append('')"
   ]
  },
  {
   "cell_type": "code",
   "execution_count": null,
   "id": "2bf330c0",
   "metadata": {},
   "outputs": [],
   "source": [
    "f = open(work_dir+'traj_for_ampal.pdb', 'w')\n",
    "\n",
    "\n",
    "idx=0\n",
    "\n",
    "for i in range(len(df.atom)):\n",
    "    f.write('{:6s}{:5d} {:^4s} {:3s} {:1s}{:4d}    {:8.3f}{:8.3f}{:8.3f}{:6.2f}{:6.2f}          {:>2s}{:2s}\\n'.format(attributes[0][idx], int(attributes[1][idx]), attributes[2][idx], attributes[3][idx], attributes[4][idx], int(attributes[5][idx]), float(attributes[6][idx]), float(attributes[7][idx]), float(attributes[8][idx]), float(attributes[9][idx]), float(attributes[10][idx]), attributes[11][idx], charge[idx]))\n",
    "    idx+=1\n",
    "    \n",
    "f.close()"
   ]
  },
  {
   "cell_type": "code",
   "execution_count": null,
   "id": "429b0a7c",
   "metadata": {},
   "outputs": [],
   "source": [
    "myprotein=ampal.load_pdb(work_dir+'traj_for_ampal.pdb')"
   ]
  },
  {
   "cell_type": "code",
   "execution_count": null,
   "id": "da9324fb",
   "metadata": {},
   "outputs": [],
   "source": [
    "myprotein"
   ]
  },
  {
   "cell_type": "code",
   "execution_count": null,
   "id": "f21fd4d9",
   "metadata": {},
   "outputs": [],
   "source": [
    "def show_ball_and_stick(ampal):\n",
    "    view = nv.show_text(ampal.pdb)\n",
    "    view.add_ball_and_stick()\n",
    "    view.remove_cartoon()\n",
    "    return view"
   ]
  },
  {
   "cell_type": "code",
   "execution_count": null,
   "id": "32ac6fcb",
   "metadata": {},
   "outputs": [],
   "source": [
    "#show_ball_and_stick(myprotein)"
   ]
  },
  {
   "cell_type": "code",
   "execution_count": null,
   "id": "86cafcac",
   "metadata": {},
   "outputs": [],
   "source": [
    "myprotein[0].sequences"
   ]
  },
  {
   "cell_type": "code",
   "execution_count": null,
   "id": "e833a93a",
   "metadata": {},
   "outputs": [],
   "source": [
    "indx=0\n",
    "\n",
    "for frame in myprotein:\n",
    "    instance=PACCAnalysis(frame)\n",
    "    with open(work_dir+'pacc-report.txt', 'a') as out:\n",
    "        with redirect_stdout(out):\n",
    "            print('MODEL '+str(indx)+'\\n'+instance.generate_report()+'\\n')\n",
    "    indx+=1"
   ]
  },
  {
   "cell_type": "markdown",
   "id": "4135e699",
   "metadata": {},
   "source": [
    "Extracting radius, alpha and Crick angle values from PACC report, per residue"
   ]
  },
  {
   "cell_type": "code",
   "execution_count": null,
   "id": "99360d08",
   "metadata": {},
   "outputs": [],
   "source": [
    "aa = myprotein[0][0]\n",
    "resids =[]\n",
    "resids_str = range(1,len(aa)+1)\n",
    "for resid in resids_str:\n",
    "    resids.append(str(resid))\n",
    "\n",
    "\n",
    "radius=[]\n",
    "for i in range(0,len(aa)):\n",
    "    radius.append([])\n",
    "\n",
    "alpha = []\n",
    "for i in range(0,len(aa)):\n",
    "    alpha.append([])\n",
    "    \n",
    "crangle = []\n",
    "for i in range(0,len(aa)):\n",
    "    crangle.append([])\n",
    "\n",
    "with open(work_dir+'pacc-report.txt') as f:\n",
    "    for line in f:\n",
    "        line = line.split()\n",
    "        if line==[]: continue\n",
    "        if line[0] in resids:\n",
    "            radius[int(line[0])-1].append(float(line[1]))\n",
    "            alpha[int(line[0])-1].append(float(line[2]))\n",
    "            crangle[int(line[0])-1].append(float(line[3]))"
   ]
  },
  {
   "cell_type": "code",
   "execution_count": null,
   "id": "d3cb956f",
   "metadata": {},
   "outputs": [],
   "source": [
    "len(radius[0])"
   ]
  },
  {
   "cell_type": "markdown",
   "id": "4f75d5a9",
   "metadata": {},
   "source": [
    "Extracting the average radius, alpha and crick angle per frame, plus their st.dev., from the PACC report"
   ]
  },
  {
   "cell_type": "code",
   "execution_count": null,
   "id": "0266c4af",
   "metadata": {},
   "outputs": [],
   "source": [
    "radius_per_frame = []\n",
    "radius_std_per_frame = []\n",
    "alpha_per_frame = []\n",
    "alpha_std_per_frame = []\n",
    "crick_per_frame = []\n",
    "crick_std_per_frame = []\n",
    "\n",
    "with open(work_dir+'pacc-report.txt') as f:\n",
    "    for line in f:\n",
    "        line = line.split()\n",
    "        if line==[]: continue\n",
    "        if line[0]=='Ave':\n",
    "            radius_per_frame.append(float(line[1]))\n",
    "            alpha_per_frame.append(float(line[2]))\n",
    "            crick_per_frame.append(float(line[3]))\n",
    "        if line[0]=='Std':\n",
    "            radius_std_per_frame.append(float(line[2]))\n",
    "            alpha_std_per_frame.append(float(line[3]))\n",
    "            crick_std_per_frame.append(float(line[4]))"
   ]
  },
  {
   "cell_type": "code",
   "execution_count": null,
   "id": "a4d74615",
   "metadata": {},
   "outputs": [],
   "source": [
    "t = numpy.arange(0.0, 200.0, 0.4)"
   ]
  },
  {
   "cell_type": "markdown",
   "id": "ee294c31",
   "metadata": {},
   "source": [
    "## Radius analysis"
   ]
  },
  {
   "cell_type": "markdown",
   "id": "8492a06e",
   "metadata": {},
   "source": [
    "Plotting the radius of a single residue over the course of the simulation"
   ]
  },
  {
   "cell_type": "code",
   "execution_count": null,
   "id": "b6016181",
   "metadata": {},
   "outputs": [],
   "source": [
    "fig,ax = plt.subplots()\n",
    "ax.plot(t, radius[0])\n",
    "ax.set(xlabel='t (ns)', ylabel='radius ($\\AA$)', title='Radius - residue 1')\n",
    "#ax.grid()\n",
    "\n",
    "fig.savefig(work_dir+'analysis/radius-res1.png')\n",
    "plt.show()"
   ]
  },
  {
   "cell_type": "markdown",
   "id": "373c1460",
   "metadata": {},
   "source": [
    "Calculating and the mean radius for each residue averaged across the simulation"
   ]
  },
  {
   "cell_type": "code",
   "execution_count": null,
   "id": "084cbd8a",
   "metadata": {},
   "outputs": [],
   "source": [
    "mean_radius =[]\n",
    "std_radius = []\n",
    "\n",
    "for rad_list in radius:\n",
    "    mean_rad = numpy.mean(rad_list)\n",
    "    std_rad = numpy.std(rad_list)\n",
    "    mean_radius.append(mean_rad)\n",
    "    std_radius.append(std_rad)"
   ]
  },
  {
   "cell_type": "code",
   "execution_count": null,
   "id": "d507dd43",
   "metadata": {},
   "outputs": [],
   "source": [
    "fig,ax = plt.subplots()\n",
    "ax.plot(range(0, len(aa)), mean_radius, color = 'seagreen')\n",
    "ax.set(xlabel='residue number', ylabel='radius ($\\AA$)', title = system_name)\n",
    "#ax.grid()\n",
    "ax.set_ylim([-5.0, 50.0])\n",
    "\n",
    "ax.errorbar(range(0, len(aa)), mean_radius, yerr = std_radius, fmt = '.k', elinewidth = 0.6, capsize = 1)\n",
    "\n",
    "fig.savefig(work_dir+'analysis/radius-per-res.png')\n",
    "plt.show()"
   ]
  },
  {
   "cell_type": "markdown",
   "id": "70f5d2d8",
   "metadata": {},
   "source": [
    "Comparison between replicates"
   ]
  },
  {
   "cell_type": "code",
   "execution_count": null,
   "id": "81254815",
   "metadata": {},
   "outputs": [],
   "source": [
    "radius2=[]\n",
    "for i in range(0,len(aa)):\n",
    "    radius2.append([])\n",
    "\n",
    "alpha2 = []\n",
    "for i in range(0,len(aa)):\n",
    "    alpha2.append([])\n",
    "    \n",
    "crangle2 = []\n",
    "for i in range(0,len(aa)):\n",
    "    crangle2.append([])\n",
    "\n",
    "with open(work_dir+'replicate-2/pacc-report.txt') as f:\n",
    "    for line in f:\n",
    "        line = line.split()\n",
    "        if line==[]: continue\n",
    "        if line[0] in resids:\n",
    "            radius2[int(line[0])-1].append(float(line[1]))\n",
    "            alpha2[int(line[0])-1].append(float(line[2]))\n",
    "            crangle2[int(line[0])-1].append(float(line[3]))"
   ]
  },
  {
   "cell_type": "code",
   "execution_count": null,
   "id": "99aa1c9c",
   "metadata": {},
   "outputs": [],
   "source": [
    "radius3=[]\n",
    "for i in range(0,len(aa)):\n",
    "    radius3.append([])\n",
    "\n",
    "alpha3 = []\n",
    "for i in range(0,len(aa)):\n",
    "    alpha3.append([])\n",
    "    \n",
    "crangle3 = []\n",
    "for i in range(0,len(aa)):\n",
    "    crangle3.append([])\n",
    "\n",
    "with open(work_dir+'replicate-3/pacc-report.txt') as f:\n",
    "    for line in f:\n",
    "        line = line.split()\n",
    "        if line==[]: continue\n",
    "        if line[0] in resids:\n",
    "            radius3[int(line[0])-1].append(float(line[1]))\n",
    "            alpha3[int(line[0])-1].append(float(line[2]))\n",
    "            crangle3[int(line[0])-1].append(float(line[3]))"
   ]
  },
  {
   "cell_type": "code",
   "execution_count": null,
   "id": "f2c40611",
   "metadata": {},
   "outputs": [],
   "source": [
    "radius_123 = []\n",
    "\n",
    "for i in range(len(radius)):\n",
    "    radius_123.append(radius[i]+radius2[i]+radius3[i])"
   ]
  },
  {
   "cell_type": "code",
   "execution_count": null,
   "id": "a5f1f2a0",
   "metadata": {},
   "outputs": [],
   "source": [
    "len(radius_123[0])"
   ]
  },
  {
   "cell_type": "code",
   "execution_count": null,
   "id": "e5da540e",
   "metadata": {},
   "outputs": [],
   "source": [
    "mean_radius_123 = []\n",
    "std_radius_123 = []\n",
    "\n",
    "for rad_list in radius_123:\n",
    "    mean_rad = numpy.mean(rad_list)\n",
    "    std_rad = numpy.std(rad_list)\n",
    "    mean_radius_123.append(mean_rad)\n",
    "    std_radius_123.append(std_rad)"
   ]
  },
  {
   "cell_type": "code",
   "execution_count": null,
   "id": "9fe64bbf",
   "metadata": {},
   "outputs": [],
   "source": [
    "fig,ax = plt.subplots()\n",
    "ax.plot(range(0, len(aa)), mean_radius_123, color = 'seagreen')\n",
    "ax.set(xlabel='residue number', ylabel='radius ($\\AA$)', title = system_name)\n",
    "#ax.grid()\n",
    "\n",
    "ax.set_ylim([0.0, 20.0])\n",
    "\n",
    "ax.errorbar(range(0, len(aa)), mean_radius_123, yerr = std_radius_123, fmt = '.k', elinewidth = 0.6, capsize = 1)\n",
    "\n",
    "fig.savefig(work_dir+'analysis/radius-per-res-all-replicates.png')\n",
    "plt.show()"
   ]
  },
  {
   "cell_type": "markdown",
   "id": "fadaad02",
   "metadata": {},
   "source": [
    "Plotting how the average radius changes per frame"
   ]
  },
  {
   "cell_type": "code",
   "execution_count": null,
   "id": "67e91968",
   "metadata": {},
   "outputs": [],
   "source": [
    "fig,ax = plt.subplots()\n",
    "ax.plot(t, radius_per_frame, color = 'black')\n",
    "ax.set(xlabel='time (ns)', ylabel='radius ($\\AA$)', title=system_name)\n",
    "#ax.grid()\n",
    "#ax.set_ylim([6.0, 13.0])\n",
    "#ax.set_ylim([5.0, 10.0])\n",
    "\n",
    "ax.errorbar(t, radius_per_frame, yerr = radius_std_per_frame, fmt = '.k', ecolor = 'grey', elinewidth = 0.6)\n",
    "\n",
    "fig.savefig(work_dir+'analysis/radius-per-time.png')\n",
    "plt.show()\n"
   ]
  },
  {
   "cell_type": "markdown",
   "id": "cc9a7c2d",
   "metadata": {},
   "source": [
    "## Alpha angle analysis"
   ]
  },
  {
   "cell_type": "markdown",
   "id": "82193625",
   "metadata": {},
   "source": [
    "Plotting the alpha angle of a single residue over the course of the simulation"
   ]
  },
  {
   "cell_type": "code",
   "execution_count": null,
   "id": "80814e69",
   "metadata": {},
   "outputs": [],
   "source": [
    "fig,ax = plt.subplots()\n",
    "ax.plot(t, alpha[0])\n",
    "ax.set(xlabel='t (ns)', ylabel='alpha angle (deg)', title='Alpha angle - residue 1')\n",
    "#ax.grid()\n",
    "\n",
    "fig.savefig(work_dir+'analysis/alpha-res1.png')\n",
    "plt.show()"
   ]
  },
  {
   "cell_type": "code",
   "execution_count": null,
   "id": "f54f7dce",
   "metadata": {},
   "outputs": [],
   "source": [
    "mean_alpha =[]\n",
    "std_alpha = []\n",
    "\n",
    "for alpha_list in alpha:\n",
    "    mean_alp = numpy.mean(alpha_list)\n",
    "    std_alp = numpy.std(alpha_list)\n",
    "    mean_alpha.append(mean_alp)\n",
    "    std_alpha.append(std_alp)"
   ]
  },
  {
   "cell_type": "code",
   "execution_count": null,
   "id": "b2843357",
   "metadata": {},
   "outputs": [],
   "source": [
    "fig,ax = plt.subplots()\n",
    "ax.plot(range(0, len(aa)), mean_alpha, color = 'purple')\n",
    "ax.set(xlabel='residue number', ylabel='alpha angle (deg)', title=system_name)\n",
    "#ax.grid()\n",
    "ax.set_ylim([-5.0, 100.0])\n",
    "\n",
    "ax.errorbar(range(0, len(aa)), mean_alpha, yerr = std_alpha, fmt = '.k', elinewidth = 0.6, capsize = 1)\n",
    "\n",
    "fig.savefig(work_dir+'analysis/alpha-per-res.png')\n",
    "plt.show()"
   ]
  },
  {
   "cell_type": "markdown",
   "id": "1c1d730b",
   "metadata": {},
   "source": [
    "Comparing between all replicates:"
   ]
  },
  {
   "cell_type": "code",
   "execution_count": null,
   "id": "efb515c8",
   "metadata": {},
   "outputs": [],
   "source": [
    "alpha_123 = []\n",
    "\n",
    "for i in range(len(alpha)):\n",
    "    alpha_123.append(alpha[i]+alpha2[i]+alpha3[i])"
   ]
  },
  {
   "cell_type": "code",
   "execution_count": null,
   "id": "970cec06",
   "metadata": {},
   "outputs": [],
   "source": [
    "len(alpha_123[0])"
   ]
  },
  {
   "cell_type": "code",
   "execution_count": null,
   "id": "bda09c92",
   "metadata": {},
   "outputs": [],
   "source": [
    "mean_alpha123 =[]\n",
    "std_alpha123 = []\n",
    "\n",
    "for alpha_list in alpha_123:\n",
    "    mean_alp = numpy.mean(alpha_list)\n",
    "    std_alp = numpy.std(alpha_list)\n",
    "    mean_alpha123.append(mean_alp)\n",
    "    std_alpha123.append(std_alp)"
   ]
  },
  {
   "cell_type": "code",
   "execution_count": null,
   "id": "aa0199a8",
   "metadata": {},
   "outputs": [],
   "source": [
    "fig,ax = plt.subplots()\n",
    "ax.plot(range(0, len(aa)), mean_alpha123, color = 'purple')\n",
    "ax.set(xlabel='residue number', ylabel='alpha angle (deg)', title=system_name)\n",
    "#ax.grid()\n",
    "ax.set_ylim([-5.0, 100.0])\n",
    "\n",
    "ax.errorbar(range(0, len(aa)), mean_alpha123, yerr = std_alpha123, fmt = '.k', elinewidth = 0.6, capsize = 1)\n",
    "\n",
    "fig.savefig(work_dir+'analysis/alpha-per-res-all-replicates.png')\n",
    "plt.show()"
   ]
  },
  {
   "cell_type": "markdown",
   "id": "28855e8d",
   "metadata": {},
   "source": [
    "Plotting how the average alpha angle changes per frame"
   ]
  },
  {
   "cell_type": "code",
   "execution_count": null,
   "id": "71f4c126",
   "metadata": {},
   "outputs": [],
   "source": [
    "fig,ax = plt.subplots()\n",
    "ax.plot(t, alpha_per_frame, color = 'black')\n",
    "ax.set(xlabel='time (ns)', ylabel='alpha angle (deg)', title=system_name)\n",
    "#ax.grid()\n",
    "ax.set_ylim([-5.0, 50.0])\n",
    "\n",
    "ax.errorbar(t, alpha_per_frame, yerr = alpha_std_per_frame, fmt = '.k', ecolor = 'gray', elinewidth = 0.6)\n",
    "\n",
    "fig.savefig(work_dir+'analysis/alpha-per-time.png')\n",
    "plt.show()"
   ]
  },
  {
   "cell_type": "markdown",
   "id": "48240df9",
   "metadata": {},
   "source": [
    "## Crick Angle Analysis"
   ]
  },
  {
   "cell_type": "markdown",
   "id": "d378bca7",
   "metadata": {},
   "source": [
    "Plotting the Crick angle of a single residue over the course of the simulation"
   ]
  },
  {
   "cell_type": "code",
   "execution_count": null,
   "id": "a55a01a2",
   "metadata": {},
   "outputs": [],
   "source": [
    "fig,ax = plt.subplots()\n",
    "ax.plot(t, crangle[0])\n",
    "ax.set(xlabel='t (ns)', ylabel='Crick angle (deg)', title='Crick angle - residue 1')\n",
    "#ax.grid()\n",
    "\n",
    "fig.savefig(work_dir+'analysis/crangle-res1.png')\n",
    "plt.show()"
   ]
  },
  {
   "cell_type": "code",
   "execution_count": null,
   "id": "e441029b",
   "metadata": {},
   "outputs": [],
   "source": [
    "mean_crangle =[]\n",
    "std_crangle = []\n",
    "\n",
    "for crangle_list in crangle:\n",
    "    mean_crick = numpy.mean(crangle_list)\n",
    "    std_crick = numpy.std(crangle_list)\n",
    "    mean_crangle.append(mean_crick)\n",
    "    std_crangle.append(std_crick)"
   ]
  },
  {
   "cell_type": "code",
   "execution_count": null,
   "id": "ccca9e45",
   "metadata": {},
   "outputs": [],
   "source": [
    "fig,ax = plt.subplots()\n",
    "ax.plot(range(0, len(aa)), mean_crangle, color = 'royalblue')\n",
    "ax.set(xlabel='residue number', ylabel='Crick angle (deg)', title=system_name)\n",
    "#ax.grid()\n",
    "ax.set_ylim([-200.0, 200.0])\n",
    "\n",
    "ax.errorbar(range(0, len(aa)), mean_crangle, yerr = std_crangle, fmt = '.k', elinewidth = 0.6, capsize = 1)\n",
    "\n",
    "fig.savefig(work_dir+'analysis/crangle-per-res.png')\n",
    "plt.show()"
   ]
  },
  {
   "cell_type": "markdown",
   "id": "8f62d676",
   "metadata": {},
   "source": [
    "Comparing between all replicates"
   ]
  },
  {
   "cell_type": "code",
   "execution_count": null,
   "id": "3f1fa593",
   "metadata": {},
   "outputs": [],
   "source": [
    "crangle_123 = []\n",
    "\n",
    "for i in range(len(crangle)):\n",
    "    crangle_123.append(crangle[i]+crangle2[i]+crangle3[i])"
   ]
  },
  {
   "cell_type": "code",
   "execution_count": null,
   "id": "36dfef80",
   "metadata": {},
   "outputs": [],
   "source": [
    "mean_crangle123 =[]\n",
    "std_crangle123 = []\n",
    "\n",
    "for crangle_list in crangle_123:\n",
    "    mean_crick = numpy.mean(crangle_list)\n",
    "    std_crick = numpy.std(crangle_list)\n",
    "    mean_crangle123.append(mean_crick)\n",
    "    std_crangle123.append(std_crick)"
   ]
  },
  {
   "cell_type": "code",
   "execution_count": null,
   "id": "32dd6e82",
   "metadata": {},
   "outputs": [],
   "source": [
    "fig,ax = plt.subplots()\n",
    "ax.plot(range(0, len(aa)), mean_crangle123, color = 'royalblue')\n",
    "ax.set(xlabel='residue number', ylabel='Crick angle (deg)', title=system_name)\n",
    "#ax.grid()\n",
    "ax.set_ylim([-200.0, 200.0])\n",
    "\n",
    "ax.errorbar(range(0, len(aa)), mean_crangle123, yerr = std_crangle123, fmt = '.k', elinewidth = 0.6, capsize = 1)\n",
    "\n",
    "fig.savefig(work_dir+'analysis/crangle-per-res-all-replicates.png')\n",
    "plt.show()"
   ]
  },
  {
   "cell_type": "markdown",
   "id": "c8d7b94a",
   "metadata": {},
   "source": [
    "Plotting how the average Crick angle changes per frame"
   ]
  },
  {
   "cell_type": "code",
   "execution_count": null,
   "id": "8367ea71",
   "metadata": {},
   "outputs": [],
   "source": [
    "fig,ax = plt.subplots()\n",
    "ax.plot(t, crick_per_frame, color = 'black')\n",
    "ax.set(xlabel='time (ns)', ylabel='Crick angle (deg)', title=system_name)\n",
    "#ax.grid()\n",
    "ax.set_ylim([-200.0, 200.0])\n",
    "\n",
    "ax.errorbar(t, crick_per_frame, yerr = crick_std_per_frame, fmt = '.k', ecolor = 'gray', elinewidth = 0.6)\n",
    "\n",
    "fig.savefig(work_dir+'analysis/crangle-per-time.png')\n",
    "plt.show()"
   ]
  }
 ],
 "metadata": {
  "kernelspec": {
   "display_name": "Python 3 (ipykernel)",
   "language": "python",
   "name": "python3"
  },
  "language_info": {
   "codemirror_mode": {
    "name": "ipython",
    "version": 3
   },
   "file_extension": ".py",
   "mimetype": "text/x-python",
   "name": "python",
   "nbconvert_exporter": "python",
   "pygments_lexer": "ipython3",
   "version": "3.9.12"
  }
 },
 "nbformat": 4,
 "nbformat_minor": 5
}
