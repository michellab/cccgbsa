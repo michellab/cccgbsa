{
 "cells": [
  {
   "cell_type": "code",
   "execution_count": null,
   "id": "e065195a",
   "metadata": {},
   "outputs": [],
   "source": [
    "from openmm.app import *\n",
    "from openmm import *\n",
    "from openmm.unit import *\n",
    "from sys import stdout\n",
    "import time\n",
    "import mdtraj as md\n",
    "import numpy as np\n",
    "from contextlib import redirect_stdout\n",
    "import time"
   ]
  },
  {
   "cell_type": "markdown",
   "id": "b9f25866",
   "metadata": {},
   "source": [
    "Building the topology and selecting the atoms in each chain"
   ]
  },
  {
   "cell_type": "code",
   "execution_count": null,
   "id": "eb321797",
   "metadata": {},
   "outputs": [],
   "source": [
    "work_dir = '/home/eva/Documents/gbsa-sims/cv-sims/monomer_restraints/cvmon-1/tet_L24E/GLU/'\n",
    "\n",
    "top_dir = '/home/eva/Documents/structures/structures-obc2-ff96/tet_L24E/GLU/'"
   ]
  },
  {
   "cell_type": "code",
   "execution_count": null,
   "id": "11a65293",
   "metadata": {},
   "outputs": [],
   "source": [
    "prot = md.load_pdb(top_dir+'6q5i_GLU_cv.pdb')\n",
    "topology = prot.topology\n",
    "\n",
    "g1 = [atom.index for atom in topology.chain(0).atoms]\n",
    "g2 = [atom.index for atom in topology.chain(1).atoms]\n",
    "g3 = [atom.index for atom in topology.chain(2).atoms]\n",
    "g4 = [atom.index for atom in topology.chain(3).atoms]"
   ]
  },
  {
   "cell_type": "code",
   "execution_count": null,
   "id": "03c138dd",
   "metadata": {},
   "outputs": [],
   "source": [
    "topology"
   ]
  },
  {
   "cell_type": "markdown",
   "id": "8b3552fc",
   "metadata": {},
   "source": [
    "First finding out which atoms participate in phi and psi dihedral angles"
   ]
  },
  {
   "cell_type": "markdown",
   "id": "340904d1",
   "metadata": {},
   "source": [
    "Loading the inpcrd file instead of a trajectory, as we are only interested in which atoms participate in the dihedrals"
   ]
  },
  {
   "cell_type": "code",
   "execution_count": null,
   "id": "cfc03831",
   "metadata": {},
   "outputs": [],
   "source": [
    "coord = md.load(top_dir+'6q5i_GLU.inpcrd', top = top_dir+'6q5i_GLU.prmtop')"
   ]
  },
  {
   "cell_type": "code",
   "execution_count": null,
   "id": "b3f3a217",
   "metadata": {},
   "outputs": [],
   "source": [
    "phi_array = md.compute_phi(coord)\n",
    "psi_array = md.compute_psi(coord)"
   ]
  },
  {
   "cell_type": "code",
   "execution_count": null,
   "id": "ea7d7535",
   "metadata": {},
   "outputs": [],
   "source": [
    "phi_atoms = phi_array[0].tolist()\n",
    "psi_atoms = psi_array[0].tolist()"
   ]
  },
  {
   "cell_type": "markdown",
   "id": "1510a186",
   "metadata": {},
   "source": [
    "Select residues 5-25 in each chain to pose restraints"
   ]
  },
  {
   "cell_type": "code",
   "execution_count": null,
   "id": "f4545b95",
   "metadata": {},
   "outputs": [],
   "source": [
    "#selecting residues 5-25, needs to be implemented later"
   ]
  },
  {
   "cell_type": "code",
   "execution_count": null,
   "id": "458c7999",
   "metadata": {},
   "outputs": [],
   "source": [
    "start_time = time.time()"
   ]
  },
  {
   "cell_type": "markdown",
   "id": "cb8bdbdf",
   "metadata": {},
   "source": [
    "Modified energy expression with individual harmonic potentials.\n",
    "Note that there is one CV (r0)"
   ]
  },
  {
   "cell_type": "code",
   "execution_count": null,
   "id": "99f69067",
   "metadata": {},
   "outputs": [],
   "source": [
    "prmtop = AmberPrmtopFile(top_dir+'6q5i_GLU.prmtop')\n",
    "inpcrd = AmberInpcrdFile(top_dir+'6q5i_GLU.inpcrd')\n",
    "pdb = PDBFile(top_dir+'6q5i_GLU_cv.pdb')\n",
    "\n",
    "system = prmtop.createSystem(nonbondedMethod=NoCutoff, constraints=HBonds, hydrogenMass=1.5*amu, \n",
    "                             implicitSolvent=OBC2)\n",
    "\n",
    "expr = '0.5*k*(distance(g1,g2)-r0)^2 + 0.5*k*(distance(g1,g3)-distance(g1,g2))^2 + 0.5*k*(distance(g1,g4)-distance(g1,g2))^2 + 0.5*k*(distance(g2,g3)-distance(g1,g2))^2 + 0.5*k*(distance(g2,g4)-distance(g1,g2))^2 + 0.5*k*(distance(g3,g4)-distance(g1,g2))^2'\n",
    "\n",
    "force = openmm.CustomCentroidBondForce(4, expr)\n",
    "force.addGlobalParameter('k', 100.0*kilojoules_per_mole/nanometers**2)\n",
    "force.addGlobalParameter('r0', 50*nanometers)\n",
    "force.addGroup(g1)\n",
    "force.addGroup(g2)\n",
    "force.addGroup(g3)\n",
    "force.addGroup(g4)\n",
    "force.addBond([0,1,2,3])\n",
    "force.setForceGroup(1)\n",
    "system.addForce(force)\n",
    "\n",
    "#average alpha helix phi and psi dihedrals\n",
    "phi0 = (-57.0*np.pi)/180.0\n",
    "psi0 = (-47.0*np.pi)/180.0\n",
    "\n",
    "phiforce = CustomTorsionForce('k_dihed*(1+ cos(theta-phi0))')\n",
    "phiforce.addGlobalParameter('k_dihed', 10.0*kilojoules_per_mole)\n",
    "phiforce.addGlobalParameter('phi0', phi0)\n",
    "\n",
    "psiforce = CustomTorsionForce('k_dihed*(1+ cos(theta-psi0))')\n",
    "psiforce.addGlobalParameter('k_dihed', 10.0*kilojoules_per_mole)\n",
    "psiforce.addGlobalParameter('psi0', psi0)\n",
    "\n",
    "\n",
    "for i in range(len(phi_atoms)):\n",
    "    phiforce.addTorsion(phi_atoms[i][0], phi_atoms[i][1], phi_atoms[i][2], phi_atoms[i][3])\n",
    "    psiforce.addTorsion(psi_atoms[i][0], psi_atoms[i][1], psi_atoms[i][2], psi_atoms[i][3])\n",
    "    \n",
    "phiforce.setForceGroup(2)\n",
    "psiforce.setForceGroup(3)\n",
    "system.addForce(phiforce)\n",
    "system.addForce(psiforce)\n",
    "\n",
    "#adding a ghost force whose energy numerical value is equal to the distance between the monomers\n",
    "#so equal to the collective variable\n",
    "#CV force easier to query than other custom forces\n",
    "dist = 'distance(g1,g2)+distance(g1,g3)+distance(g1,g4)+distance(g2,g3)+distance(g2,g4)+distance(g3,g4)'\n",
    "ghost_force = openmm.CustomCentroidBondForce(4, dist)\n",
    "ghost_force.addGroup(g1)\n",
    "ghost_force.addGroup(g2)\n",
    "ghost_force.addGroup(g3)\n",
    "ghost_force.addGroup(g4)\n",
    "ghost_force.addBond([0,1,2,3])\n",
    "#ghost_force.setForceGroup(4)\n",
    "#system.addForce(ghost_force)\n",
    "\n",
    "cvforce = openmm.CustomCVForce('r')\n",
    "cvforce.addCollectiveVariable('r', ghost_force)\n",
    "cvforce.setForceGroup(4) #have to exclude force group 4 from the integrator\n",
    "system.addForce(cvforce)\n",
    "\n",
    "integrator = LangevinMiddleIntegrator(298.15*kelvin, 1/picosecond, 0.004*picoseconds)\n",
    "integrator.setIntegrationForceGroups(set(range(4))) #excluding ghost force/CV force from the integration\n",
    "\n",
    "platform = Platform.getPlatformByName('CUDA')\n",
    "properties = {'Precision': 'mixed'}\n",
    "\n",
    "simulation = Simulation(prmtop.topology, system, integrator, platform, properties)\n",
    "\n",
    "simulation.context.setPositions(inpcrd.positions)\n",
    "simulation.minimizeEnergy()\n",
    "simulation.reporters.append(DCDReporter(work_dir+'test-output.dcd', 1000))\n",
    "simulation.reporters.append(StateDataReporter(stdout, 1000, step=True,\n",
    "        potentialEnergy=True, temperature=True))\n",
    "\n",
    "print(cvforce.getCollectiveVariableValues(simulation.context)) #get CV value for the input structure\n",
    "\n",
    "simulation.step(100000)\n",
    "\n",
    "print (\"simulation time:\", time.time() - start_time, \"s\")"
   ]
  },
  {
   "cell_type": "code",
   "execution_count": null,
   "id": "5a9921ab",
   "metadata": {},
   "outputs": [],
   "source": [
    "traj = md.load(work_dir+'test-output.dcd', top = top_dir+'6q5i_GLU.prmtop')\n",
    "\n",
    "forces = []\n",
    "cv_forces = []\n",
    "\n",
    "for crd in traj.xyz: #getting atom coordinates in each frame to make the simulation context\n",
    "    simulation.context.setPositions(crd)\n",
    "    cv_forces.append(cvforce.getCollectiveVariableValues(simulation.context)) #get CV per frame\n",
    "    forces.append(simulation.context.getState(getForces=True, groups={1}).getForces(asNumpy=True)) \n",
    "    #query custom centroid bond force only"
   ]
  },
  {
   "cell_type": "code",
   "execution_count": null,
   "id": "2f54d2a1",
   "metadata": {},
   "outputs": [],
   "source": [
    "cvforce_list =[]\n",
    "for i in cv_forces:\n",
    "    cvforce_list.append(i[0])\n",
    "\n",
    "with open(work_dir+'cv-values.txt', 'w') as out:\n",
    "        with redirect_stdout(out):\n",
    "            for frc in cvforce_list:\n",
    "                print(frc)"
   ]
  },
  {
   "cell_type": "code",
   "execution_count": null,
   "id": "c4ec0eb5",
   "metadata": {},
   "outputs": [],
   "source": [
    "g1_positions=[]\n",
    "g2_positions=[]\n",
    "g3_positions=[]\n",
    "g4_positions=[]\n",
    "\n",
    "#get x,y,z coordinates for each individual chain\n",
    "for crd in traj.xyz:\n",
    "    g1_positions.append(crd[g1[0]:g1[-1]+1]) \n",
    "    g2_positions.append(crd[g2[0]:g2[-1]+1])\n",
    "    g3_positions.append(crd[g3[0]:g3[-1]+1])\n",
    "    g4_positions.append(crd[g4[0]:g4[-1]+1])"
   ]
  },
  {
   "cell_type": "code",
   "execution_count": null,
   "id": "bfb56b8b",
   "metadata": {},
   "outputs": [],
   "source": [
    "#forces = np.vstack(forces)"
   ]
  },
  {
   "cell_type": "code",
   "execution_count": null,
   "id": "2f2f604d",
   "metadata": {},
   "outputs": [],
   "source": [
    "#algebraic expression for calculating CV per frame - comparison with CVs computed from simulation context\n",
    "\n",
    "cv_linalg = []\n",
    "\n",
    "for idx in range(len(traj.xyz)):\n",
    "    dist12 = np.linalg.norm(np.mean(np.asarray(g1_positions[idx]),axis=0) - np.mean(np.asarray(g2_positions[idx]), axis=0))\n",
    "    dist13 = np.linalg.norm(np.mean(np.asarray(g1_positions[idx]),axis=0) - np.mean(np.asarray(g3_positions[idx]), axis=0))\n",
    "    dist14 = np.linalg.norm(np.mean(np.asarray(g1_positions[idx]),axis=0) - np.mean(np.asarray(g4_positions[idx]), axis=0))\n",
    "    dist23 = np.linalg.norm(np.mean(np.asarray(g2_positions[idx]),axis=0) - np.mean(np.asarray(g3_positions[idx]), axis=0))\n",
    "    dist24 = np.linalg.norm(np.mean(np.asarray(g2_positions[idx]),axis=0) - np.mean(np.asarray(g4_positions[idx]), axis=0))\n",
    "    dist34 = np.linalg.norm(np.mean(np.asarray(g3_positions[idx]),axis=0) - np.mean(np.asarray(g4_positions[idx]), axis=0))\n",
    "    \n",
    "    cv = dist12+dist13+dist14+dist23+dist24+dist34\n",
    "    cv_linalg.append(cv)"
   ]
  },
  {
   "cell_type": "code",
   "execution_count": null,
   "id": "6f27f77d",
   "metadata": {},
   "outputs": [],
   "source": [
    "with open(work_dir+'cv-linalg.txt', 'w') as out:\n",
    "        with redirect_stdout(out):\n",
    "                for j in cv_linalg:\n",
    "                    print(j)"
   ]
  }
 ],
 "metadata": {
  "kernelspec": {
   "display_name": "Python 3 (ipykernel)",
   "language": "python",
   "name": "python3"
  },
  "language_info": {
   "codemirror_mode": {
    "name": "ipython",
    "version": 3
   },
   "file_extension": ".py",
   "mimetype": "text/x-python",
   "name": "python",
   "nbconvert_exporter": "python",
   "pygments_lexer": "ipython3",
   "version": "3.8.8"
  }
 },
 "nbformat": 4,
 "nbformat_minor": 5
}
