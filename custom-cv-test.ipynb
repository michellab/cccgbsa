{
 "cells": [
  {
   "cell_type": "code",
   "execution_count": null,
   "id": "e065195a",
   "metadata": {},
   "outputs": [],
   "source": [
    "from openmm.app import *\n",
    "from openmm import *\n",
    "from openmm.unit import *\n",
    "from sys import stdout\n",
    "import time\n",
    "import mdtraj as md\n",
    "import numpy as np"
   ]
  },
  {
   "cell_type": "code",
   "execution_count": null,
   "id": "11a65293",
   "metadata": {},
   "outputs": [],
   "source": [
    "prot = md.load_pdb('/home/eva/Documents/structures/structures-obc2-ff96/tet_L24E/GLU/6q5i_GLU_cv.pdb')\n",
    "topology = prot.topology\n",
    "\n",
    "g1 = [atom.index for atom in topology.chain(0).atoms]\n",
    "g2 = [atom.index for atom in topology.chain(1).atoms]\n",
    "g3 = [atom.index for atom in topology.chain(2).atoms]\n",
    "g4 = [atom.index for atom in topology.chain(3).atoms]"
   ]
  },
  {
   "cell_type": "code",
   "execution_count": null,
   "id": "99f69067",
   "metadata": {},
   "outputs": [],
   "source": [
    "prmtop = AmberPrmtopFile('/home/eva/Documents/structures/structures-obc2-ff96/tet_L24E/GLU/6q5i_GLU.prmtop')\n",
    "inpcrd = AmberInpcrdFile('/home/eva/Documents/structures/structures-obc2-ff96/tet_L24E/GLU/6q5i_GLU.inpcrd')\n",
    "#pdb = PDBFile('/home/eva/Documents/structures/structures-obc2-ff96/tet_L24E/GLU/6q5i_GLU_cv.pdb')\n",
    "\n",
    "system = prmtop.createSystem(nonbondedMethod=NoCutoff, constraints=HBonds, hydrogenMass=1.5*amu, \n",
    "                             implicitSolvent=OBC2)\n",
    "\n",
    "expr = '0.5*k*(distance(g1,g2)+distance(g1,g3)+distance(g1,g4)+distance(g2,g3)+distance(g2,g4)+distance(g3,g4)-r0)^2'\n",
    "\n",
    "force = openmm.CustomCentroidBondForce(4, expr)\n",
    "force.addGlobalParameter('k', 1.0*kilojoules_per_mole/nanometers**2)\n",
    "force.addGlobalParameter('r0', 5*nanometers)\n",
    "force.addGroup(g1)\n",
    "force.addGroup(g2)\n",
    "force.addGroup(g3)\n",
    "force.addGroup(g4)\n",
    "force.addBond([0,1,2,3])\n",
    "system.addForce(force)\n",
    "\n",
    "\n",
    "#cvforce = openmm.CustomCVForce('0.5*r^2')\n",
    "#cvforce.addCollectiveVariable('r', force) \n",
    "#system.addForce(cvforce)\n",
    "\n",
    "integrator = LangevinMiddleIntegrator(298.15*kelvin, 1/picosecond, 0.004*picoseconds)\n",
    "\n",
    "platform = Platform.getPlatformByName('CUDA')\n",
    "properties = {'Precision': 'mixed'}\n",
    "\n",
    "simulation = Simulation(prmtop.topology, system, integrator, platform, properties)\n",
    "\n",
    "simulation.context.setPositions(inpcrd.positions)\n",
    "simulation.minimizeEnergy()\n",
    "simulation.reporters.append(DCDReporter('/home/eva/Documents/gbsa-sims/cv-sims/cv-test/tet_L24E/GLU/output.dcd', 1000))\n",
    "simulation.reporters.append(StateDataReporter(stdout, 1000, step=True,\n",
    "        potentialEnergy=True, temperature=True))\n",
    "simulation.step(100000)\n",
    "\n",
    "\n",
    "#print(cvforce.getCollectiveVariableValues(simulation.context))"
   ]
  }
 ],
 "metadata": {
  "kernelspec": {
   "display_name": "Python 3 (ipykernel)",
   "language": "python",
   "name": "python3"
  },
  "language_info": {
   "codemirror_mode": {
    "name": "ipython",
    "version": 3
   },
   "file_extension": ".py",
   "mimetype": "text/x-python",
   "name": "python",
   "nbconvert_exporter": "python",
   "pygments_lexer": "ipython3",
   "version": "3.8.8"
  }
 },
 "nbformat": 4,
 "nbformat_minor": 5
}
