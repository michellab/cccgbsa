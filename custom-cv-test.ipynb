{
 "cells": [
  {
   "cell_type": "markdown",
   "id": "00003868",
   "metadata": {},
   "source": [
    "Code for introducing custom CV forces "
   ]
  },
  {
   "cell_type": "code",
   "execution_count": 1,
   "id": "efc46f1a",
   "metadata": {},
   "outputs": [
    {
     "name": "stderr",
     "output_type": "stream",
     "text": [
      "Warning: importing 'simtk.openmm' is deprecated.  Import 'openmm' instead.\n"
     ]
    }
   ],
   "source": [
    "from openmm.app import *\n",
    "from openmm import *\n",
    "from openmm.unit import *\n",
    "from sys import stdout\n",
    "import time\n",
    "import mdtraj as md\n",
    "import numpy as np"
   ]
  },
  {
   "cell_type": "code",
   "execution_count": 2,
   "id": "677e7cf0",
   "metadata": {},
   "outputs": [],
   "source": [
    "prot = md.load_pdb('custom-test/test-dimer/dimer.pdb')"
   ]
  },
  {
   "cell_type": "code",
   "execution_count": 3,
   "id": "c8ddab66",
   "metadata": {},
   "outputs": [],
   "source": [
    "topology = prot.topology #need to delete TER records before NHE"
   ]
  },
  {
   "cell_type": "code",
   "execution_count": 4,
   "id": "b71d1022",
   "metadata": {},
   "outputs": [],
   "source": [
    "g1 = [atom.index for atom in topology.chain(0).atoms]"
   ]
  },
  {
   "cell_type": "code",
   "execution_count": 5,
   "id": "aecdd9c3",
   "metadata": {},
   "outputs": [],
   "source": [
    "g2 = [atom.index for atom in topology.chain(1).atoms]"
   ]
  },
  {
   "cell_type": "code",
   "execution_count": 32,
   "id": "0833f82f",
   "metadata": {},
   "outputs": [
    {
     "name": "stdout",
     "output_type": "stream",
     "text": [
      "(0.9757857918739319,)\n"
     ]
    }
   ],
   "source": [
    "prmtop = AmberPrmtopFile('custom-test/test-dimer/dimer.prmtop')\n",
    "inpcrd = AmberInpcrdFile('custom-test/test-dimer/dimer.inpcrd')\n",
    "pdb = PDBFile('custom-test/test-dimer/dimer.pdb')\n",
    "\n",
    "system = prmtop.createSystem(nonbondedMethod=CutoffNonPeriodic, nonbondedCutoff=1*nanometer,\n",
    "        constraints=HBonds, implicitSolvent=OBC2)\n",
    "\n",
    "g1_positions = [pdb.positions[index] for index in g1]\n",
    "g2_positions = [pdb.positions[index] for index in g2]\n",
    "\n",
    "r = openmm.CustomCentroidBondForce(2, 'distance(g1, g2)')\n",
    "r.addGroup(g1)\n",
    "r.addGroup(g2)\n",
    "r.addBond([0,1])\n",
    "\n",
    "cvforce = openmm.CustomCVForce('r')\n",
    "cvforce.addCollectiveVariable('r', r)\n",
    "system.addForce(cvforce)\n",
    "\n",
    "integrator = LangevinMiddleIntegrator(298.15*kelvin, 1/picosecond, 0.002*picoseconds)\n",
    "\n",
    "platform = Platform.getPlatformByName('CUDA')\n",
    "\n",
    "simulation = Simulation(prmtop.topology, system, integrator, platform)\n",
    "simulation.context.setPositions(inpcrd.positions)\n",
    "simulation.minimizeEnergy()\n",
    "simulation.reporters.append(DCDReporter('custom-test/test-dimer/output-3.dcd', 1000))\n",
    "#simulation.reporters.append(StateDataReporter(stdout, 1000, step=True,\n",
    "#        potentialEnergy=True, temperature=True))\n",
    "\n",
    "\n",
    "simulation.step(100000)\n",
    "print(cvforce.getCollectiveVariableValues(simulation.context))"
   ]
  },
  {
   "cell_type": "code",
   "execution_count": null,
   "id": "8039b73d",
   "metadata": {},
   "outputs": [],
   "source": []
  },
  {
   "cell_type": "code",
   "execution_count": 9,
   "id": "e03ded71",
   "metadata": {},
   "outputs": [],
   "source": [
    "#prmtop = AmberPrmtopFile('custom-test/dimer.prmtop')\n",
    "#inpcrd = AmberInpcrdFile('custom-test/dimer.inpcrd')\n",
    "#pdb = PDBFile('custom-test/dimer.pdb')\n",
    "\n",
    "#system = prmtop.createSystem(nonbondedMethod=CutoffNonPeriodic, nonbondedCutoff=1*nanometer,\n",
    "#        constraints=HBonds, implicitSolvent=OBC2)\n",
    "\n",
    "#integrator = LangevinMiddleIntegrator(298.15*kelvin, 1/picosecond, 0.002*picoseconds)\n",
    "\n",
    "#platform = Platform.getPlatformByName('CUDA')\n",
    "\n",
    "#simulation = Simulation(prmtop.topology, system, integrator, platform)\n",
    "#simulation.context.setPositions(inpcrd.positions)\n",
    "#simulation.minimizeEnergy()\n",
    "#simulation.reporters.append(DCDReporter('custom-test/simple.dcd', 1000))\n",
    "#simulation.reporters.append(StateDataReporter(stdout, 1000, step=True,\n",
    "#        potentialEnergy=True, temperature=True))\n",
    "#simulation.step(100000)"
   ]
  },
  {
   "cell_type": "code",
   "execution_count": 52,
   "id": "7a8cbec3",
   "metadata": {},
   "outputs": [],
   "source": []
  },
  {
   "cell_type": "markdown",
   "id": "7fa7b977",
   "metadata": {},
   "source": [
    "Scale up for tetramer"
   ]
  },
  {
   "cell_type": "code",
   "execution_count": 2,
   "id": "29208d77",
   "metadata": {},
   "outputs": [
    {
     "data": {
      "text/plain": [
       "<mdtraj.Topology with 4 chains, 128 residues, 1916 atoms, 1908 bonds at 0x7faed843ba30>"
      ]
     },
     "execution_count": 2,
     "metadata": {},
     "output_type": "execute_result"
    }
   ],
   "source": [
    "prot = md.load_pdb('custom-test/test-tetramer/tetramer.pdb')\n",
    "topology = prot.topology\n",
    "topology"
   ]
  },
  {
   "cell_type": "code",
   "execution_count": 72,
   "id": "23b52692",
   "metadata": {},
   "outputs": [],
   "source": [
    "g1 = [atom.index for atom in topology.chain(0).atoms]\n",
    "g2 = [atom.index for atom in topology.chain(1).atoms]\n",
    "g3 = [atom.index for atom in topology.chain(2).atoms]\n",
    "g4 = [atom.index for atom in topology.chain(3).atoms]"
   ]
  },
  {
   "cell_type": "code",
   "execution_count": null,
   "id": "e0b3e61b",
   "metadata": {},
   "outputs": [],
   "source": [
    "g1_positions = [pdb.positions[index] for index in g1]\n",
    "g2_positions = [pdb.positions[index] for index in g2]\n",
    "g3_positions = [pdb.positions[index] for index in g3]\n",
    "g4_positions = [pdb.positions[index] for index in g4]\n",
    "\n",
    "#d12 = np.linalg.norm(np.mean(np.asarray(g1_positions), axis=0) - np.mean(np.asarray(g2_positions), axis=0))"
   ]
  },
  {
   "cell_type": "code",
   "execution_count": 86,
   "id": "00f7f98a",
   "metadata": {},
   "outputs": [
    {
     "name": "stdout",
     "output_type": "stream",
     "text": [
      "#\"Step\",\"Potential Energy (kJ/mole)\",\"Temperature (K)\"\n",
      "1000,-11335.005934715271,260.9061401170132\n",
      "2000,-10540.799880981445,302.39191526349674\n",
      "3000,-10342.21229171753,293.7682363136886\n",
      "4000,-10443.635043144226,300.7833187289228\n",
      "5000,-10298.682028770447,296.68632260892394\n",
      "6000,-10523.131711959839,292.9011936436644\n",
      "7000,-10336.002591133118,291.3093203418392\n",
      "8000,-10232.676971435547,304.2400623958286\n",
      "9000,-10415.02967453003,304.0774909955328\n",
      "10000,-10532.85629940033,295.6784032639435\n",
      "(10.05385684967041,)\n",
      "<openmm.openmm.CustomCentroidBondForce; proxy of <Swig Object of type 'OpenMM::CustomCentroidBondForce *' at 0x7fae7dcc9d50> >\n"
     ]
    }
   ],
   "source": [
    "prmtop = AmberPrmtopFile('custom-test/test-tetramer/tetramer.prmtop')\n",
    "inpcrd = AmberInpcrdFile('custom-test/test-tetramer/tetramer.inpcrd')\n",
    "pdb = PDBFile('custom-test/test-tetramer/tetramer.pdb')\n",
    "\n",
    "system = prmtop.createSystem(nonbondedMethod=CutoffNonPeriodic, nonbondedCutoff=1*nanometer,\n",
    "        constraints=HBonds, implicitSolvent=OBC2)\n",
    "\n",
    "expr = 'distance(g1,g2) + distance(g1,g3) + distance(g1,g4) + distance(g2,g3)+ distance(g2,g4) +distance(g3,g4)'\n",
    "\n",
    "force = openmm.CustomCentroidBondForce(4, expr)\n",
    "force.addGroup(g1)\n",
    "force.addGroup(g2)\n",
    "force.addGroup(g3)\n",
    "force.addGroup(g4)\n",
    "ainds=[0,1,2,3]\n",
    "force.addBond(ainds)\n",
    "\n",
    "\n",
    "cvforce = openmm.CustomCVForce('r')\n",
    "cvforce.addCollectiveVariable('r', force) \n",
    "system.addForce(cvforce)\n",
    "\n",
    "integrator = LangevinMiddleIntegrator(298.15*kelvin, 1/picosecond, 0.002*picoseconds)\n",
    "\n",
    "platform = Platform.getPlatformByName('CUDA')\n",
    "\n",
    "simulation = Simulation(prmtop.topology, system, integrator, platform)\n",
    "simulation.context.setPositions(inpcrd.positions)\n",
    "simulation.minimizeEnergy()\n",
    "simulation.reporters.append(DCDReporter('custom-test/test-tetramer/output-2.dcd', 1000))\n",
    "simulation.reporters.append(StateDataReporter(stdout, 1000, step=True,\n",
    "        potentialEnergy=True, temperature=True))\n",
    "\n",
    "\n",
    "simulation.step(10000)\n",
    "print(cvforce.getCollectiveVariableValues(simulation.context))"
   ]
  },
  {
   "cell_type": "code",
   "execution_count": null,
   "id": "5fe18337",
   "metadata": {},
   "outputs": [],
   "source": []
  }
 ],
 "metadata": {
  "kernelspec": {
   "display_name": "Python 3 (ipykernel)",
   "language": "python",
   "name": "python3"
  },
  "language_info": {
   "codemirror_mode": {
    "name": "ipython",
    "version": 3
   },
   "file_extension": ".py",
   "mimetype": "text/x-python",
   "name": "python",
   "nbconvert_exporter": "python",
   "pygments_lexer": "ipython3",
   "version": "3.8.8"
  }
 },
 "nbformat": 4,
 "nbformat_minor": 5
}
