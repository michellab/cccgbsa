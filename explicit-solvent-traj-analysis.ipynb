{
 "cells": [
  {
   "cell_type": "code",
   "execution_count": null,
   "metadata": {},
   "outputs": [],
   "source": [
    "import numpy as np\n",
    "import matplotlib.pyplot as plt\n",
    "import mdtraj as md\n",
    "import MDAnalysis as mda\n",
    "%matplotlib inline"
   ]
  },
  {
   "cell_type": "code",
   "execution_count": null,
   "metadata": {},
   "outputs": [],
   "source": [
    "work_dir = '/home/eva/Documents/explicit-solvent-sims/ff19SB-OPC/hex_L24E/pH6/'\n",
    "top_dir = '/home/eva/Documents/structures/explicit-fromh++/ff19SB-OPC/hex_L24E/pH6/'\n",
    "system_code = 'CC-Hex*-L24E-hex, pH 6'"
   ]
  },
  {
   "cell_type": "markdown",
   "metadata": {},
   "source": [
    "Loading the imaged trajectory, after it has been post-processed by cpptraj"
   ]
  },
  {
   "cell_type": "code",
   "execution_count": null,
   "metadata": {},
   "outputs": [],
   "source": [
    "traj_imaged = md.load(work_dir+'imaged_output.dcd', top = top_dir+'6q5j_pH6_explicit.prmtop')"
   ]
  },
  {
   "cell_type": "code",
   "execution_count": null,
   "metadata": {},
   "outputs": [],
   "source": [
    "#traj_imaged[::10].save_dcd(work_dir+'imaged_output_every10thframe.dcd')"
   ]
  },
  {
   "cell_type": "code",
   "execution_count": null,
   "metadata": {},
   "outputs": [],
   "source": [
    "#traj_skip10 = md.load(work_dir+'imaged_output_every10thframe.dcd', top = top_dir+'6q5j_pH8.5_explicit.prmtop')"
   ]
  },
  {
   "cell_type": "code",
   "execution_count": null,
   "metadata": {},
   "outputs": [],
   "source": [
    "traj_imaged.n_frames"
   ]
  },
  {
   "cell_type": "markdown",
   "metadata": {},
   "source": [
    "Deleting water molecules from the imaged trajectory"
   ]
  },
  {
   "cell_type": "code",
   "execution_count": null,
   "metadata": {},
   "outputs": [],
   "source": [
    "protein_traj = traj_imaged.remove_solvent(inplace=False)"
   ]
  },
  {
   "cell_type": "code",
   "execution_count": null,
   "metadata": {},
   "outputs": [],
   "source": [
    "protein_traj"
   ]
  },
  {
   "cell_type": "code",
   "execution_count": null,
   "metadata": {},
   "outputs": [],
   "source": [
    "protein_traj.topology"
   ]
  },
  {
   "cell_type": "code",
   "execution_count": null,
   "metadata": {},
   "outputs": [],
   "source": [
    "protein_traj.save_dcd(work_dir+'protein_traj.dcd')"
   ]
  },
  {
   "cell_type": "code",
   "execution_count": null,
   "metadata": {},
   "outputs": [],
   "source": [
    "protein_traj_trunc = md.iterload(work_dir+'protein_traj.dcd', top = top_dir+'0.15_80_10_pH6_6q5j_mod_noh_rename_noconect.genpdb.cpptraj.pdb', chunk = 0, skip = 1000)\n",
    "\n",
    "for tr in protein_traj_trunc:\n",
    "    protein_traj_short = tr\n",
    "print(protein_traj_short)"
   ]
  },
  {
   "cell_type": "code",
   "execution_count": null,
   "metadata": {},
   "outputs": [],
   "source": [
    "#imaged_traj = traj.image_molecules(inplace=False)\n",
    "#imaged_traj.save_dcd(work_dir+'imaged_output.dcd')"
   ]
  },
  {
   "cell_type": "code",
   "execution_count": null,
   "metadata": {},
   "outputs": [],
   "source": [
    "t = np.arange(0.0, 200.0, 0.02)\n",
    "t_trunc = np.arange(20.0, 200.0, 0.02)"
   ]
  },
  {
   "cell_type": "markdown",
   "metadata": {},
   "source": [
    "Loading replicate runs and saving the trajectories without solvent"
   ]
  },
  {
   "cell_type": "code",
   "execution_count": null,
   "metadata": {},
   "outputs": [],
   "source": [
    "work_dir_2 = work_dir+'replicate-2/'\n",
    "top_dir_2 = top_dir\n",
    "\n",
    "traj_2 = md.load(work_dir_2+'imaged_output.dcd', top = top_dir_2+'6q5j_pH6_explicit.prmtop')\n",
    "\n",
    "protein_traj_2 = traj_2.remove_solvent(inplace=False)\n",
    "protein_traj_2.save_dcd(work_dir_2+'protein_traj.dcd')\n",
    "\n",
    "#skip number needs to be changed according to timestep\n",
    "protein_traj_trunc_2 = md.iterload(work_dir_2+'protein_traj.dcd', top = top_dir_2+'0.15_80_10_pH6_6q5j_mod_noh_rename_noconect.genpdb.cpptraj.pdb', chunk = 0, skip = 1000)\n",
    "\n",
    "for tr_2 in protein_traj_trunc_2:\n",
    "    protein_traj_short_2 = tr_2\n",
    "print(protein_traj_short_2)"
   ]
  },
  {
   "cell_type": "code",
   "execution_count": null,
   "metadata": {},
   "outputs": [],
   "source": [
    "work_dir_3 = work_dir+'replicate-3/'\n",
    "top_dir_3 = top_dir\n",
    "\n",
    "traj_3 = md.load(work_dir_3+'imaged_output.dcd', top = top_dir_3+'6q5j_pH6_explicit.prmtop')\n",
    "\n",
    "protein_traj_3 = traj_3.remove_solvent(inplace=False)\n",
    "protein_traj_3.save_dcd(work_dir_3+'protein_traj.dcd')\n",
    "\n",
    "#skip number needs to be changed according to timestep\n",
    "protein_traj_trunc_3 = md.iterload(work_dir_3+'protein_traj.dcd', top = top_dir_3+'0.15_80_10_pH6_6q5j_mod_noh_rename_noconect.genpdb.cpptraj.pdb', chunk = 0, skip = 1000)\n",
    "\n",
    "for tr_3 in protein_traj_trunc_3:\n",
    "    protein_traj_short_3 = tr_3\n",
    "print(protein_traj_short_3)"
   ]
  },
  {
   "cell_type": "markdown",
   "metadata": {},
   "source": [
    "### Structure"
   ]
  },
  {
   "cell_type": "markdown",
   "metadata": {},
   "source": [
    "Separating the amino acids and the ACE-NH2 caps, and creating lists for their indexes:"
   ]
  },
  {
   "cell_type": "code",
   "execution_count": null,
   "metadata": {},
   "outputs": [],
   "source": [
    "res_obj = protein_traj.topology.residues\n",
    "res_list=[]\n",
    "caps_positions =[]\n",
    "all_residues=[]\n",
    "\n",
    "\n",
    "for res in res_obj:\n",
    "        all_residues.append(str(res))\n",
    "        if res.name == 'ACE' or res.name == 'NHE':\n",
    "            print('excluding the ACE and NH2 caps')\n",
    "            caps_positions.append(str(res))\n",
    "        else:\n",
    "            res_list.append(str(res))\n",
    "            \n",
    "res_idx=[]\n",
    "for res in res_list:\n",
    "    res_idx.append(int(res[3:6]))\n",
    "    \n",
    "caps_idx=[]\n",
    "for cap in caps_positions:\n",
    "    caps_idx.append(int(cap[3:6]))\n",
    "    \n",
    "all_residues_idx=[]\n",
    "for re in all_residues:\n",
    "    all_residues_idx.append(int(re[3:6]))"
   ]
  },
  {
   "cell_type": "code",
   "execution_count": null,
   "metadata": {},
   "outputs": [],
   "source": [
    "chain_number = int(len(caps_idx)/2)\n",
    "print('the number of chains in the structure is', chain_number)"
   ]
  },
  {
   "cell_type": "code",
   "execution_count": null,
   "metadata": {},
   "outputs": [],
   "source": [
    "ace=caps_idx[0::2]\n",
    "nh2=caps_idx[1::2]\n",
    "print('the ACE positions are', ace)\n",
    "print('the NH2 positions are', nh2)"
   ]
  },
  {
   "cell_type": "code",
   "execution_count": null,
   "metadata": {},
   "outputs": [],
   "source": [
    "chain_list=[]\n",
    "chain=[]\n",
    "chain_idx = []\n",
    "all_idx=[]\n",
    "\n",
    "for i in range(len(ace)):\n",
    "    chain = all_residues[(ace[i]+1):(nh2[i])]\n",
    "    chain_list.append(chain)\n",
    "    chain=[]\n",
    "\n",
    "for ch in chain_list:\n",
    "    for re in ch:\n",
    "        all_idx.append(int(re[3:6]))    \n",
    "\n",
    "for i in range(len(ace)):\n",
    "    chain = all_residues_idx[(ace[i]+1):(nh2[i])]\n",
    "    chain_idx.append(chain)\n",
    "    chain=[]"
   ]
  },
  {
   "cell_type": "code",
   "execution_count": null,
   "metadata": {},
   "outputs": [],
   "source": [
    "chain_length = len(chain_idx[0])\n",
    "print('the length of each chain is', chain_length, 'residues')"
   ]
  },
  {
   "cell_type": "markdown",
   "metadata": {},
   "source": [
    "### RMSD Calculation"
   ]
  },
  {
   "cell_type": "code",
   "execution_count": null,
   "metadata": {},
   "outputs": [],
   "source": [
    "rmsds = md.rmsd(protein_traj, protein_traj, 0, atom_indices = [a.index for a in protein_traj.topology.atoms if a.is_backbone])"
   ]
  },
  {
   "cell_type": "code",
   "execution_count": null,
   "metadata": {},
   "outputs": [],
   "source": [
    "rmsds_100 = []\n",
    "for rmsd in rmsds:\n",
    "    rmsds_100.append(rmsd/(1+np.log(np.sqrt(chain_number*chain_length/100))))"
   ]
  },
  {
   "cell_type": "markdown",
   "metadata": {},
   "source": [
    "RMSD plot"
   ]
  },
  {
   "cell_type": "code",
   "execution_count": null,
   "metadata": {},
   "outputs": [],
   "source": [
    "fig,ax = plt.subplots()\n",
    "ax.plot(t, rmsds)\n",
    "ax.set(xlabel='t (ns)', ylabel='RMSD (nm)', title='RMSD')\n",
    "#ax.grid()\n",
    "#ax.set_ylim([0.0, 1.0])\n",
    "\n",
    "fig.savefig(work_dir+'analysis/rmsd.png')\n",
    "plt.show()"
   ]
  },
  {
   "cell_type": "markdown",
   "metadata": {},
   "source": [
    "RMSD100 plot"
   ]
  },
  {
   "cell_type": "code",
   "execution_count": null,
   "metadata": {},
   "outputs": [],
   "source": [
    "fig,ax = plt.subplots()\n",
    "ax.plot(t, rmsds_100)\n",
    "ax.set(xlabel='t (ns)', ylabel='$RMSD_{100}$ (nm)', title='$RMSD_{100}$')\n",
    "#ax.grid()\n",
    "ax.set_xlim([0.0, 210.0])\n",
    "\n",
    "fig.savefig(work_dir+'analysis/rmsd_100.png')\n",
    "plt.show()"
   ]
  },
  {
   "cell_type": "markdown",
   "metadata": {},
   "source": [
    "RMSDs for the truncated trajectory"
   ]
  },
  {
   "cell_type": "code",
   "execution_count": null,
   "metadata": {},
   "outputs": [],
   "source": [
    "rmsds_trunc = md.rmsd(protein_traj_short, protein_traj, 0, atom_indices = [a.index for a in protein_traj.topology.atoms if a.is_backbone])"
   ]
  },
  {
   "cell_type": "code",
   "execution_count": null,
   "metadata": {},
   "outputs": [],
   "source": [
    "fig,ax = plt.subplots()\n",
    "ax.plot(t_trunc, rmsds_trunc)\n",
    "ax.set(xlabel='t (ns)', ylabel='RMSD (nm)', title='RMSD')\n",
    "#ax.grid()\n",
    "#ax.set_ylim([0.0, 1.0])\n",
    "\n",
    "fig.savefig(work_dir+'analysis/rmsd-trunc.png')\n",
    "plt.show()"
   ]
  },
  {
   "cell_type": "code",
   "execution_count": null,
   "metadata": {},
   "outputs": [],
   "source": [
    "rmsds_trunc_100 = []\n",
    "\n",
    "for rmsd in rmsds_trunc:\n",
    "    rmsds_trunc_100.append(rmsd/(1+np.log(np.sqrt(chain_number*chain_length/100))))"
   ]
  },
  {
   "cell_type": "code",
   "execution_count": null,
   "metadata": {},
   "outputs": [],
   "source": [
    "fig,ax = plt.subplots()\n",
    "ax.plot(t_trunc, rmsds_trunc_100)\n",
    "ax.set(xlabel='t (ns)', ylabel='$RMSD_{100}$ (nm)', title='$RMSD_{100}$')\n",
    "#ax.grid()\n",
    "ax.set_xlim([0.0, 200.0])\n",
    "ax.set_ylim([0.0, 0.5])\n",
    "\n",
    "fig.savefig(work_dir+'analysis/rmsd-trunc-100.png')\n",
    "plt.show()"
   ]
  },
  {
   "cell_type": "markdown",
   "metadata": {},
   "source": [
    "Comparisons between replicates"
   ]
  },
  {
   "cell_type": "code",
   "execution_count": null,
   "metadata": {},
   "outputs": [],
   "source": [
    "rmsds_trunc_2 = md.rmsd(protein_traj_short_2, protein_traj_2, 0, atom_indices = [a.index for a in protein_traj_2.topology.atoms if a.is_backbone])\n",
    "\n",
    "rmsds_trunc_2_100 =[]\n",
    "for rmsd in rmsds_trunc_2:\n",
    "    rmsds_trunc_2_100.append(rmsd/(1+np.log(np.sqrt(chain_number*chain_length/100))))"
   ]
  },
  {
   "cell_type": "code",
   "execution_count": null,
   "metadata": {},
   "outputs": [],
   "source": [
    "rmsds_trunc_3 = md.rmsd(protein_traj_short_3, protein_traj_3, 0, atom_indices = [a.index for a in protein_traj_3.topology.atoms if a.is_backbone])\n",
    "\n",
    "rmsds_trunc_3_100 = []\n",
    "for rmsd in rmsds_trunc_3:\n",
    "    rmsds_trunc_3_100.append(rmsd/(1+np.log(np.sqrt(chain_number*chain_length/100))))"
   ]
  },
  {
   "cell_type": "code",
   "execution_count": null,
   "metadata": {},
   "outputs": [],
   "source": [
    "fig,ax = plt.subplots()\n",
    "ax.plot(t_trunc, rmsds_trunc, label = 'replicate 1')\n",
    "ax.plot(t_trunc, rmsds_trunc_2, label = 'replicate 2', color = 'darkorange')\n",
    "ax.plot(t_trunc, rmsds_trunc_3, label = 'replicate 3', color = 'yellowgreen')\n",
    "\n",
    "ax.set(xlabel='t (ns)', ylabel='RMSD (nm)', title='')\n",
    "#ax.grid()\n",
    "ax.legend(bbox_to_anchor=(1,1), loc='upper left')\n",
    "#ax.set_ylim([0.0, 1.0])\n",
    "\n",
    "fig.savefig(work_dir+'analysis/rmsd-trunc-comparison-between-replicates.png', bbox_inches=\"tight\")\n",
    "\n",
    "plt.show()"
   ]
  },
  {
   "cell_type": "code",
   "execution_count": null,
   "metadata": {},
   "outputs": [],
   "source": [
    "fig,ax = plt.subplots()\n",
    "ax.plot(t_trunc, rmsds_trunc_100, label = 'replicate 1')\n",
    "ax.plot(t_trunc, rmsds_trunc_2_100, label = 'replicate 2', color = 'darkorange')\n",
    "ax.plot(t_trunc, rmsds_trunc_3_100, label = 'replicate 3', color = 'yellowgreen')\n",
    "\n",
    "ax.set(xlabel='t (ns)', ylabel='$RMSD_{100}$ (nm)', title=system_code)\n",
    "#ax.grid()\n",
    "ax.legend(bbox_to_anchor=(1,1), loc='upper left')\n",
    "ax.set_xlim([0.0, 200.0])\n",
    "#ax.set_ylim([0.0, 1.0])\n",
    "\n",
    "fig.savefig(work_dir+'analysis/rmsd-trunc-100-comparison-between-replicates.png', bbox_inches=\"tight\")\n",
    "\n",
    "plt.show()"
   ]
  },
  {
   "cell_type": "markdown",
   "metadata": {},
   "source": [
    "Conversion of all RMSD to Angstroms"
   ]
  },
  {
   "cell_type": "code",
   "execution_count": null,
   "metadata": {},
   "outputs": [],
   "source": [
    "rmsds_trunc_A_100=[]\n",
    "rmsds_trunc_2_A_100=[]\n",
    "rmsds_trunc_3_A_100=[]\n",
    "\n",
    "for i in rmsds_trunc_100:\n",
    "    rmsds_trunc_A_100.append(10*i)\n",
    "\n",
    "for i in rmsds_trunc_2_100:\n",
    "    rmsds_trunc_2_A_100.append(10*i)\n",
    "\n",
    "for i in rmsds_trunc_3_100:\n",
    "    rmsds_trunc_3_A_100.append(10*i)"
   ]
  },
  {
   "cell_type": "code",
   "execution_count": null,
   "metadata": {},
   "outputs": [],
   "source": [
    "rmsd_100_avg = []\n",
    "\n",
    "for i in range(len(rmsds_trunc_A_100)):\n",
    "    rmsd_100_avg.append((rmsds_trunc_A_100[i]+rmsds_trunc_2_A_100[i]+rmsds_trunc_3_A_100[i])/3)"
   ]
  },
  {
   "cell_type": "code",
   "execution_count": null,
   "metadata": {},
   "outputs": [],
   "source": [
    "fig,ax = plt.subplots()\n",
    "ax.plot(t_trunc, rmsds_trunc_A_100, label = 'replicate 1', color = 'lightskyblue', linewidth=0.5)\n",
    "ax.plot(t_trunc, rmsds_trunc_2_A_100, label = 'replicate 2', color = 'thistle', linewidth=0.5)\n",
    "ax.plot(t_trunc, rmsds_trunc_3_A_100, label = 'replicate 3', color = 'yellowgreen', linewidth=0.5)\n",
    "ax.plot(t_trunc, rmsd_100_avg, label = 'mean', color = 'black', linewidth=1.2)\n",
    "\n",
    "ax.set(xlabel='t (ns)', ylabel='$RMSD_{100}$ ($\\AA$)', title=system_code)\n",
    "#ax.grid()\n",
    "ax.legend(bbox_to_anchor=(1,1), loc='upper left')\n",
    "ax.set_xlim([0.0, 200.0])\n",
    "ax.set_ylim([0.0, 10.0])\n",
    "\n",
    "plt.gcf().set_size_inches(10,5)\n",
    "\n",
    "fig.savefig(work_dir+'analysis/rmsd-trunc-100-mean.png', bbox_inches=\"tight\")\n",
    "\n",
    "plt.show()"
   ]
  },
  {
   "cell_type": "code",
   "execution_count": null,
   "metadata": {},
   "outputs": [],
   "source": [
    "f = open(work_dir+'rmsd_100_avg.txt', 'w')\n",
    "for i in rmsd_100_avg:\n",
    "    f.write(str(i)+'\\n')\n",
    "f.close()"
   ]
  },
  {
   "cell_type": "code",
   "execution_count": null,
   "metadata": {},
   "outputs": [],
   "source": [
    "np.mean(rmsd_100_avg)"
   ]
  },
  {
   "cell_type": "code",
   "execution_count": null,
   "metadata": {},
   "outputs": [],
   "source": [
    "rmsd_100_tuplelist = []\n",
    "\n",
    "for i in range(len(rmsds_trunc_A_100)):\n",
    "    rmsd_100_tuplelist.append((rmsds_trunc_A_100[i],rmsds_trunc_2_A_100[i],rmsds_trunc_3_A_100[i]))"
   ]
  },
  {
   "cell_type": "code",
   "execution_count": null,
   "metadata": {},
   "outputs": [],
   "source": [
    "mean_list = []\n",
    "std_list = []\n",
    "\n",
    "for tupl in rmsd_100_tuplelist:\n",
    "    mean_list.append(np.mean(tupl))\n",
    "    std_list.append(np.std(tupl))"
   ]
  },
  {
   "cell_type": "code",
   "execution_count": null,
   "metadata": {},
   "outputs": [],
   "source": [
    "fig,ax = plt.subplots()\n",
    "\n",
    "ax.set(xlabel='t (ns)', ylabel='$RMSD_{100}$ ($\\AA$)', title=system_code)\n",
    "#ax.grid()\n",
    "\n",
    "ax.errorbar(t_trunc, mean_list, yerr = std_list, fmt = 'none', ecolor='lightgrey',elinewidth = 1, capsize = 1)\n",
    "ax.plot(t_trunc, mean_list, color = 'black', linewidth=1.2)\n",
    "\n",
    "#ax.legend(bbox_to_anchor=(1,1), loc='upper left')\n",
    "ax.set_xlim([0.0, 200.0])\n",
    "ax.set_ylim([0.0, 10.0])\n",
    "\n",
    "plt.gcf().set_size_inches(10,5)\n",
    "\n",
    "fig.savefig(work_dir+'analysis/rmsd-trunc-100-with-error.png', bbox_inches=\"tight\")\n",
    "\n",
    "plt.show()"
   ]
  },
  {
   "cell_type": "markdown",
   "metadata": {},
   "source": [
    "### RMSF calculation"
   ]
  },
  {
   "cell_type": "code",
   "execution_count": null,
   "metadata": {},
   "outputs": [],
   "source": [
    "rmsfs = md.rmsf(protein_traj, protein_traj, 0, atom_indices = [a.index for a in protein_traj.topology.atoms if a.name == 'CA'])"
   ]
  },
  {
   "cell_type": "code",
   "execution_count": null,
   "metadata": {},
   "outputs": [],
   "source": [
    "fig,ax = plt.subplots()\n",
    "ax.plot(res_idx, rmsfs)\n",
    "ax.set(xlabel='residue number', ylabel='RMSF (nm)', title='RMSF')\n",
    "ax.grid()\n",
    "\n",
    "fig.savefig(work_dir+'analysis/rmsf.png')\n",
    "plt.show()"
   ]
  },
  {
   "cell_type": "code",
   "execution_count": null,
   "metadata": {},
   "outputs": [],
   "source": [
    "fig,ax = plt.subplots()\n",
    "ax.plot(res_idx[1:], rmsfs[1:])\n",
    "ax.set(xlabel='residue number', ylabel='RMSF (nm)', title='RMSF')\n",
    "ax.grid()\n",
    "\n",
    "fig.savefig(work_dir+'analysis/rmsf-no-first-residue.png')\n",
    "plt.show()"
   ]
  },
  {
   "cell_type": "code",
   "execution_count": null,
   "metadata": {},
   "outputs": [],
   "source": [
    "fig,ax = plt.subplots()\n",
    "ax.plot(chain_idx[0], rmsfs[0*chain_length:1*chain_length])\n",
    "ax.set(xlabel='residue number', ylabel='RMSF (nm)', title='RMSF')\n",
    "ax.grid()\n",
    "\n",
    "fig.savefig(work_dir+'analysis/rmsf-per-chain-1.png')\n",
    "plt.show()"
   ]
  },
  {
   "cell_type": "code",
   "execution_count": null,
   "metadata": {},
   "outputs": [],
   "source": [
    "fig,ax = plt.subplots()\n",
    "ax.plot(chain_idx[0][1:], rmsfs[0*chain_length:1*chain_length][1:])\n",
    "ax.set(xlabel='residue number', ylabel='RMSF (nm)', title='RMSF')\n",
    "ax.grid()\n",
    "\n",
    "fig.savefig(work_dir+'analysis/rmsf-per-chain-1-no-first-residue.png')\n",
    "plt.show()"
   ]
  },
  {
   "cell_type": "markdown",
   "metadata": {},
   "source": [
    "RMSF for all chains"
   ]
  },
  {
   "cell_type": "code",
   "execution_count": null,
   "metadata": {},
   "outputs": [],
   "source": [
    "fig,ax = plt.subplots()\n",
    "ax.plot(chain_idx[0], rmsfs[0*chain_length:1*chain_length], label = \"A\")\n",
    "ax.plot(chain_idx[0], rmsfs[1*chain_length:2*chain_length], label = \"B\")\n",
    "ax.plot(chain_idx[0], rmsfs[2*chain_length:3*chain_length], label = \"C\")\n",
    "ax.plot(chain_idx[0], rmsfs[3*chain_length:4*chain_length], label = \"D\")\n",
    "#ax.plot(chain_idx[0], rmsfs[4*chain_length:5*chain_length], label = \"E\")\n",
    "#ax.plot(chain_idx[0], rmsfs[5*chain_length:6*chain_length], label = \"F\")\n",
    "\n",
    "ax.set(xlabel='residue number', ylabel='RMSF (nm)', title='RMSF')\n",
    "ax.grid()\n",
    "ax.legend(bbox_to_anchor=(1,1), loc='upper left')\n",
    "\n",
    "fig.savefig(work_dir+'analysis/rmsf-per-chain-multiple.png', bbox_inches=\"tight\")\n",
    "plt.show()"
   ]
  },
  {
   "cell_type": "code",
   "execution_count": null,
   "metadata": {},
   "outputs": [],
   "source": [
    "fig,ax = plt.subplots()\n",
    "\n",
    "ax.plot(chain_idx[0][1:], rmsfs[0*chain_length:1*chain_length][1:], label = \"A\")\n",
    "ax.plot(chain_idx[0], rmsfs[1*chain_length:2*chain_length], label = \"B\")\n",
    "ax.plot(chain_idx[0], rmsfs[2*chain_length:3*chain_length], label = \"C\")\n",
    "ax.plot(chain_idx[0], rmsfs[3*chain_length:4*chain_length], label = \"D\")\n",
    "#ax.plot(chain_idx[0], rmsfs[4*chain_length:5*chain_length], label = \"E\")\n",
    "#ax.plot(chain_idx[0], rmsfs[5*chain_length:6*chain_length], label = \"F\")\n",
    "\n",
    "\n",
    "ax.set(xlabel='residue number', ylabel='RMSF (nm)', title=system_code)\n",
    "#ax.grid()\n",
    "ax.set_xlim([1.0,30.0])\n",
    "ax.legend(bbox_to_anchor=(1,1), loc='upper left')\n",
    "\n",
    "fig.savefig(work_dir+'analysis/rmsf-per-chain-multiple-no-first-residue.png', bbox_inches=\"tight\")\n",
    "plt.show()"
   ]
  },
  {
   "cell_type": "markdown",
   "metadata": {},
   "source": [
    "Comparisons between replicates"
   ]
  },
  {
   "cell_type": "code",
   "execution_count": null,
   "metadata": {},
   "outputs": [],
   "source": [
    "rmsfs_2 = md.rmsf(protein_traj_2, protein_traj_2, 0, atom_indices = [a.index for a in protein_traj_2.topology.atoms if a.name == 'CA'])\n",
    "\n",
    "rmsfs_3 = md.rmsf(protein_traj_3, protein_traj_3, 0, atom_indices = [a.index for a in protein_traj_3.topology.atoms if a.name == 'CA'])"
   ]
  },
  {
   "cell_type": "code",
   "execution_count": null,
   "metadata": {},
   "outputs": [],
   "source": [
    "fig,ax = plt.subplots()\n",
    "ax.plot(res_idx[1:], rmsfs[1:], label='replicate 1')\n",
    "ax.plot(res_idx[1:], rmsfs_2[1:], label='replicate 2', color='darkorange')\n",
    "ax.plot(res_idx[1:], rmsfs_3[1:], label='replicate 3', color='yellowgreen')\n",
    "\n",
    "ax.set(xlabel='residue number', ylabel='RMSF (nm)', title='RMSF')\n",
    "ax.grid()\n",
    "ax.legend(bbox_to_anchor=(1,1), loc='upper left')\n",
    "\n",
    "fig.savefig(work_dir+'analysis/rmsf-comparison.png', bbox_inches='tight')\n",
    "plt.show()"
   ]
  },
  {
   "cell_type": "code",
   "execution_count": null,
   "metadata": {},
   "outputs": [],
   "source": [
    "rmsf_avg_A = []\n",
    "rmsf_A = []\n",
    "rmsf_avg_B = []\n",
    "rmsf_B = []\n",
    "rmsf_avg_C = []\n",
    "rmsf_C = []\n",
    "rmsf_avg_D = []\n",
    "rmsf_D = []\n",
    "rmsf_avg_E = []\n",
    "rmsf_E =[]\n",
    "rmsf_avg_F = []\n",
    "rmsf_F = []\n",
    "   \n",
    "for i in range(len(rmsfs[0*chain_length:1*chain_length][1:])):\n",
    "    rmsf_A.append([rmsfs[0*chain_length:1*chain_length][1:][i], rmsfs_2[0*chain_length:1*chain_length][1:][i], rmsfs_3[0*chain_length:1*chain_length][1:][i]])\n",
    "\n",
    "for i in rmsf_A:\n",
    "    rmsf_avg_A.append(10*np.mean(i)) #convert to Angstroms\n",
    "    \n",
    "for i in range(len(rmsfs[1*chain_length:2*chain_length])):\n",
    "    rmsf_B.append([rmsfs[1*chain_length:2*chain_length][i], rmsfs_2[1*chain_length:2*chain_length][i], rmsfs_3[1*chain_length:2*chain_length][i]])\n",
    "\n",
    "for i in rmsf_B:\n",
    "    rmsf_avg_B.append(10*np.mean(i))\n",
    "    \n",
    "for i in range(len(rmsfs[2*chain_length:3*chain_length])):\n",
    "    rmsf_C.append([rmsfs[2*chain_length:3*chain_length][i], rmsfs_2[2*chain_length:3*chain_length][i], rmsfs_3[2*chain_length:3*chain_length][i]])\n",
    "\n",
    "for i in rmsf_C:\n",
    "    rmsf_avg_C.append(10*np.mean(i))\n",
    "    \n",
    "for i in range(len(rmsfs[3*chain_length:4*chain_length])):\n",
    "    rmsf_D.append([rmsfs[3*chain_length:4*chain_length][i], rmsfs_2[3*chain_length:4*chain_length][i], rmsfs_3[3*chain_length:4*chain_length][i]])\n",
    "\n",
    "for i in rmsf_D:\n",
    "    rmsf_avg_D.append(10*np.mean(i))\n",
    "    \n",
    "for i in range(len(rmsfs[4*chain_length:5*chain_length])):\n",
    "    rmsf_E.append([rmsfs[4*chain_length:5*chain_length][i], rmsfs_2[4*chain_length:5*chain_length][i], rmsfs_3[4*chain_length:5*chain_length][i]])\n",
    "\n",
    "for i in rmsf_E:\n",
    "    rmsf_avg_E.append(10*np.mean(i))\n",
    "    \n",
    "for i in range(len(rmsfs[5*chain_length:6*chain_length])):\n",
    "    rmsf_F.append([rmsfs[5*chain_length:6*chain_length][i], rmsfs_2[5*chain_length:6*chain_length][i], rmsfs_3[5*chain_length:6*chain_length][i]])\n",
    "\n",
    "for i in rmsf_F:\n",
    "    rmsf_avg_F.append(10*np.mean(i))"
   ]
  },
  {
   "cell_type": "code",
   "execution_count": null,
   "metadata": {},
   "outputs": [],
   "source": [
    "fig,ax = plt.subplots()\n",
    "ax.plot(chain_idx[0][1:], rmsf_avg_A, label='A')\n",
    "ax.plot(chain_idx[0], rmsf_avg_B, label='B', color='darkorange')\n",
    "ax.plot(chain_idx[0], rmsf_avg_C, label='C', color='yellowgreen')\n",
    "ax.plot(chain_idx[0], rmsf_avg_D, label='D', color='darkorchid')\n",
    "#ax.plot(chain_idx[0], rmsf_avg_E, label='E', color='crimson')\n",
    "#ax.plot(chain_idx[0], rmsf_avg_F, label='F', color='peru')\n",
    "\n",
    "ax.set(xlabel='residue number', ylabel='RMSF ($\\AA$)', title=system_code)\n",
    "#ax.grid()\n",
    "#ax.set_ylim([0.0, 30.0])\n",
    "ax.set_xlim([1, 30])\n",
    "ax.legend(bbox_to_anchor=(1,1), loc='upper left')\n",
    "\n",
    "fig.savefig(work_dir+'analysis/rmsf-all-chains-and-replicates.png', bbox_inches='tight')\n",
    "plt.show()"
   ]
  },
  {
   "cell_type": "markdown",
   "metadata": {},
   "source": [
    "### Secondary structure calculation"
   ]
  },
  {
   "cell_type": "code",
   "execution_count": null,
   "metadata": {},
   "outputs": [],
   "source": [
    "sec_struct = md.compute_dssp(protein_traj, simplified = False)\n",
    "print(sec_struct)"
   ]
  },
  {
   "cell_type": "code",
   "execution_count": null,
   "metadata": {},
   "outputs": [],
   "source": [
    "sec_struct_simple = md.compute_dssp(protein_traj, simplified=True)\n",
    "print(sec_struct_simple)"
   ]
  },
  {
   "cell_type": "code",
   "execution_count": null,
   "metadata": {},
   "outputs": [],
   "source": [
    "frames = len(sec_struct_simple)\n",
    "print('the number of frames is', frames)"
   ]
  },
  {
   "cell_type": "code",
   "execution_count": null,
   "metadata": {},
   "outputs": [],
   "source": [
    "idx = 0\n",
    "struct_list=[]\n",
    "resid_list=[]\n",
    "aa = len(all_residues) #the number of total residues in the assembly\n",
    "\n",
    "for idx in range(0, aa):\n",
    "    for frame in sec_struct_simple:\n",
    "        resid_list.append(frame[idx])\n",
    "    struct_list.append(resid_list)\n",
    "    resid_list=[]"
   ]
  },
  {
   "cell_type": "code",
   "execution_count": null,
   "metadata": {},
   "outputs": [],
   "source": [
    "count = 0\n",
    "helicity_per_residue = []\n",
    "helicity = 0\n",
    "\n",
    "for res in struct_list:\n",
    "    if 'NA' in res:\n",
    "        print('excluding the ACE and NH2 caps')   \n",
    "    else:\n",
    "        for snapshot in res:\n",
    "            if snapshot == 'H':\n",
    "                count+=1\n",
    "            helicity = (count/frames)*100\n",
    "        helicity_per_residue.append(helicity)\n",
    "        count=0"
   ]
  },
  {
   "cell_type": "code",
   "execution_count": null,
   "metadata": {},
   "outputs": [],
   "source": [
    "fig,ax = plt.subplots()\n",
    "ax.plot(res_idx, helicity_per_residue)\n",
    "ax.set(xlabel='residue number', ylabel='%helicity per residue', title='%helicity per residue')\n",
    "ax.grid()\n",
    "\n",
    "fig.savefig(work_dir+'analysis/hpr.png')\n",
    "plt.show()"
   ]
  },
  {
   "cell_type": "code",
   "execution_count": null,
   "metadata": {},
   "outputs": [],
   "source": [
    "fig,ax = plt.subplots()\n",
    "ax.plot(chain_idx[0], helicity_per_residue[0*chain_length:1*chain_length])\n",
    "ax.set(xlabel='residue number', ylabel='%helicity per residue', title='%helicity per residue')\n",
    "ax.grid()\n",
    "\n",
    "fig.savefig(work_dir+'analysis/hpr-per-chain-1.png')\n",
    "plt.show()"
   ]
  },
  {
   "cell_type": "code",
   "execution_count": null,
   "metadata": {},
   "outputs": [],
   "source": [
    "fig,ax = plt.subplots()\n",
    "ax.plot(chain_idx[0], helicity_per_residue[0*chain_length:1*chain_length], label = \"A\")\n",
    "ax.plot(chain_idx[0], helicity_per_residue[1*chain_length:2*chain_length], label = \"B\")\n",
    "ax.plot(chain_idx[0], helicity_per_residue[2*chain_length:3*chain_length], label = \"C\")\n",
    "ax.plot(chain_idx[0], helicity_per_residue[3*chain_length:4*chain_length], label = \"D\")\n",
    "#ax.plot(chain_idx[0], helicity_per_residue[4*chain_length:5*chain_length], label = \"E\")\n",
    "#ax.plot(chain_idx[0], helicity_per_residue[5*chain_length:6*chain_length], label = \"F\")\n",
    "\n",
    "ax.set(xlabel='residue number', ylabel='%helicity per residue', title='%helicity per residue')\n",
    "ax.grid()\n",
    "ax.legend(bbox_to_anchor=(1,1), loc='upper left')\n",
    "\n",
    "fig.savefig(work_dir+'analysis/hpr-per-chain-multiple.png', bbox_inches=\"tight\")\n",
    "plt.show()"
   ]
  },
  {
   "cell_type": "markdown",
   "metadata": {},
   "source": [
    "Comparison between different replicates"
   ]
  },
  {
   "cell_type": "code",
   "execution_count": null,
   "metadata": {},
   "outputs": [],
   "source": [
    "sec_struct_simple_2 = md.compute_dssp(protein_traj_2, simplified=True)\n",
    "print(sec_struct_simple_2)\n",
    "\n",
    "idx = 0\n",
    "struct_list=[]\n",
    "resid_list=[]\n",
    "aa = len(all_residues) #the number of total residues in the assembly\n",
    "\n",
    "for idx in range(0, aa):\n",
    "    for frame in sec_struct_simple_2:\n",
    "        resid_list.append(frame[idx])\n",
    "    struct_list.append(resid_list)\n",
    "    resid_list=[]\n",
    "\n",
    "count = 0\n",
    "helicity_per_residue_2 = []\n",
    "helicity = 0\n",
    "\n",
    "for res in struct_list:\n",
    "    if 'NA' in res:\n",
    "        print('excluding the ACE and NH2 caps')   \n",
    "    else:\n",
    "        for snapshot in res:\n",
    "            if snapshot == 'H':\n",
    "                count+=1\n",
    "            helicity = (count/frames)*100\n",
    "        helicity_per_residue_2.append(helicity)\n",
    "        count=0\n"
   ]
  },
  {
   "cell_type": "code",
   "execution_count": null,
   "metadata": {},
   "outputs": [],
   "source": [
    "sec_struct_simple_3 = md.compute_dssp(protein_traj_3, simplified=True)\n",
    "print(sec_struct_simple_3)\n",
    "\n",
    "idx = 0\n",
    "struct_list=[]\n",
    "resid_list=[]\n",
    "aa = len(all_residues) #the number of total residues in the assembly\n",
    "\n",
    "for idx in range(0, aa):\n",
    "    for frame in sec_struct_simple_3:\n",
    "        resid_list.append(frame[idx])\n",
    "    struct_list.append(resid_list)\n",
    "    resid_list=[]\n",
    "\n",
    "count = 0\n",
    "helicity_per_residue_3 = []\n",
    "helicity = 0\n",
    "\n",
    "for res in struct_list:\n",
    "    if 'NA' in res:\n",
    "        print('excluding the ACE and NH2 caps')   \n",
    "    else:\n",
    "        for snapshot in res:\n",
    "            if snapshot == 'H':\n",
    "                count+=1\n",
    "            helicity = (count/frames)*100\n",
    "        helicity_per_residue_3.append(helicity)\n",
    "        count=0"
   ]
  },
  {
   "cell_type": "code",
   "execution_count": null,
   "metadata": {},
   "outputs": [],
   "source": [
    "hel_avg_A = []\n",
    "hel_A = []\n",
    "hel_avg_B = []\n",
    "hel_B = []\n",
    "hel_avg_C = []\n",
    "hel_C = []\n",
    "hel_avg_D = []\n",
    "hel_D = []\n",
    "hel_avg_E = []\n",
    "hel_E = []\n",
    "hel_avg_F = []\n",
    "hel_F = []\n",
    "\n",
    "for i in range(len(helicity_per_residue[0*chain_length:1*chain_length])):\n",
    "    hel_A.append([helicity_per_residue[0*chain_length:1*chain_length][i], helicity_per_residue_2[0*chain_length:1*chain_length][i], helicity_per_residue_3[0*chain_length:1*chain_length][i]])\n",
    "\n",
    "for i in hel_A:\n",
    "    hel_avg_A.append(np.mean(i))\n",
    "\n",
    "for i in range(len(helicity_per_residue[1*chain_length:2*chain_length])):\n",
    "    hel_B.append([helicity_per_residue[1*chain_length:2*chain_length][i], helicity_per_residue_2[1*chain_length:2*chain_length][i], helicity_per_residue_3[1*chain_length:2*chain_length][i]])\n",
    "\n",
    "for i in hel_B:\n",
    "    hel_avg_B.append(np.mean(i))\n",
    "\n",
    "for i in range(len(helicity_per_residue[2*chain_length:3*chain_length])):\n",
    "    hel_C.append([helicity_per_residue[2*chain_length:3*chain_length][i], helicity_per_residue_2[2*chain_length:3*chain_length][i], helicity_per_residue_3[2*chain_length:3*chain_length][i]])\n",
    "\n",
    "for i in hel_C:\n",
    "    hel_avg_C.append(np.mean(i))\n",
    "    \n",
    "for i in range(len(helicity_per_residue[3*chain_length:4*chain_length])):\n",
    "    hel_D.append([helicity_per_residue[3*chain_length:4*chain_length][i], helicity_per_residue_2[3*chain_length:4*chain_length][i], helicity_per_residue_3[3*chain_length:4*chain_length][i]])\n",
    "\n",
    "for i in hel_D:\n",
    "    hel_avg_D.append(np.mean(i))\n",
    "    \n",
    "for i in range(len(helicity_per_residue[4*chain_length:5*chain_length])):\n",
    "    hel_E.append([helicity_per_residue[4*chain_length:5*chain_length][i], helicity_per_residue_2[4*chain_length:5*chain_length][i], helicity_per_residue_3[4*chain_length:5*chain_length][i]])\n",
    "\n",
    "for i in hel_E:\n",
    "    hel_avg_E.append(np.mean(i))\n",
    "\n",
    "for i in range(len(helicity_per_residue[5*chain_length:6*chain_length])):\n",
    "    hel_F.append([helicity_per_residue[5*chain_length:6*chain_length][i], helicity_per_residue_2[5*chain_length:6*chain_length][i], helicity_per_residue_3[5*chain_length:6*chain_length][i]])\n",
    "\n",
    "for i in hel_F:\n",
    "    hel_avg_F.append(np.mean(i))"
   ]
  },
  {
   "cell_type": "code",
   "execution_count": null,
   "metadata": {},
   "outputs": [],
   "source": [
    "fig,ax = plt.subplots()\n",
    "ax.plot(chain_idx[0], hel_avg_A, label='A')\n",
    "ax.plot(chain_idx[0], hel_avg_B, label='B', color='darkorange')\n",
    "ax.plot(chain_idx[0], hel_avg_C, label='C', color='yellowgreen')\n",
    "ax.plot(chain_idx[0], hel_avg_D, label='D', color='darkorchid')\n",
    "#ax.plot(chain_idx[0], hel_avg_E, label='E', color='crimson')\n",
    "#ax.plot(chain_idx[0], hel_avg_F, label='F', color='peru')\n",
    "\n",
    "ax.set(xlabel='residue number', ylabel='%helicity per residue', title=system_code)\n",
    "#ax.grid()\n",
    "ax.set_ylim([0.0, 105.0])\n",
    "ax.set_xlim([1, 30])\n",
    "ax.legend(bbox_to_anchor=(1,1), loc='upper left')\n",
    "\n",
    "fig.savefig(work_dir+'analysis/hpr-all-chains-and-replicates.png', bbox_inches='tight')\n",
    "plt.show()"
   ]
  }
 ],
 "metadata": {
  "kernelspec": {
   "display_name": "Python 3.9.12 ('base')",
   "language": "python",
   "name": "python3"
  },
  "language_info": {
   "codemirror_mode": {
    "name": "ipython",
    "version": 3
   },
   "file_extension": ".py",
   "mimetype": "text/x-python",
   "name": "python",
   "nbconvert_exporter": "python",
   "pygments_lexer": "ipython3",
   "version": "3.9.12"
  },
  "orig_nbformat": 4,
  "vscode": {
   "interpreter": {
    "hash": "695f82c0633f4c1f722dbd62a390a332158c8c391b71194eea38c748518aa5db"
   }
  }
 },
 "nbformat": 4,
 "nbformat_minor": 2
}
