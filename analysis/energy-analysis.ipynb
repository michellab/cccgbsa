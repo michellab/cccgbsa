{
 "cells": [
  {
   "cell_type": "code",
   "execution_count": null,
   "metadata": {},
   "outputs": [],
   "source": [
    "import numpy as np\n",
    "import glob\n",
    "import matplotlib.pyplot as plt"
   ]
  },
  {
   "cell_type": "code",
   "execution_count": null,
   "metadata": {},
   "outputs": [],
   "source": [
    "energy_files = glob.glob('energy*.txt')\n",
    "energy_files"
   ]
  },
  {
   "cell_type": "code",
   "execution_count": null,
   "metadata": {},
   "outputs": [],
   "source": [
    "t = np.arange(0.0, 1000.0, 0.004)"
   ]
  },
  {
   "cell_type": "code",
   "execution_count": null,
   "metadata": {},
   "outputs": [],
   "source": [
    "energies = []\n",
    "\n",
    "for fle in energy_files:\n",
    "    with open(fle) as f:\n",
    "        force_name = f.readline().rstrip()\n",
    "        for line in f:\n",
    "            line=line.rstrip()\n",
    "            if line == force_name: break\n",
    "            energies.append(float(line))\n",
    "    fig,ax = plt.subplots()\n",
    "    ax.plot(t, energies)\n",
    "    ax.set(xlabel='t (ns)', ylabel='Energy (kJ/mol)', title=force_name)\n",
    "    #ax.grid()\n",
    "    #ax.set_ylim([0.5, 25.0])\n",
    "    fig.savefig(('%s.png' %fle), bbox_inches='tight')\n",
    "    plt.show()\n",
    "    energies=[]"
   ]
  }
 ],
 "metadata": {
  "kernelspec": {
   "display_name": "Python 3.9.12 ('base')",
   "language": "python",
   "name": "python3"
  },
  "language_info": {
   "codemirror_mode": {
    "name": "ipython",
    "version": 3
   },
   "file_extension": ".py",
   "mimetype": "text/x-python",
   "name": "python",
   "nbconvert_exporter": "python",
   "pygments_lexer": "ipython3",
   "version": "3.9.12"
  },
  "orig_nbformat": 4,
  "vscode": {
   "interpreter": {
    "hash": "695f82c0633f4c1f722dbd62a390a332158c8c391b71194eea38c748518aa5db"
   }
  }
 },
 "nbformat": 4,
 "nbformat_minor": 2
}
