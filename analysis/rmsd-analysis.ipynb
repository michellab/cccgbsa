{
 "cells": [
  {
   "cell_type": "code",
   "execution_count": null,
   "id": "16f02fe1",
   "metadata": {},
   "outputs": [],
   "source": [
    "import numpy as np\n",
    "import matplotlib.pyplot as plt\n",
    "import mdtraj as md\n",
    "%matplotlib inline"
   ]
  },
  {
   "cell_type": "code",
   "execution_count": null,
   "id": "26141fed",
   "metadata": {},
   "outputs": [],
   "source": [
    "work_dir = '/home/eva/Documents/gbsa-sims/temperature-sims/temp-11/CC-Hex/GLU/'\n",
    "top_dir = '/home/eva/Documents/structures/structures-obc2-ff96/CC-Hex/3r3k_W/GLU/'"
   ]
  },
  {
   "cell_type": "code",
   "execution_count": null,
   "id": "5796647f",
   "metadata": {},
   "outputs": [],
   "source": [
    "work_dir_2 = work_dir+'replicate-2/'\n",
    "work_dir_3 = work_dir+'replicate-3/'"
   ]
  },
  {
   "cell_type": "code",
   "execution_count": null,
   "id": "ce8f347d",
   "metadata": {},
   "outputs": [],
   "source": [
    "system_code = 'CC-Hex*-W, all E deprotonated'"
   ]
  },
  {
   "cell_type": "code",
   "execution_count": null,
   "id": "a94e4e30",
   "metadata": {
    "scrolled": true
   },
   "outputs": [],
   "source": [
    "traj = md.load(work_dir+'output.dcd', top = top_dir+'3r3k_W_GLU.prmtop')\n",
    "\n",
    "traj_trunc = md.iterload(work_dir+'output.dcd', top = top_dir+'3r3k_W_GLU.prmtop', chunk = 0, skip = 5000)\n",
    "\n",
    "for tr in traj_trunc:\n",
    "    traj_short = tr\n",
    "print(traj_short)"
   ]
  },
  {
   "cell_type": "code",
   "execution_count": null,
   "id": "01fb8ffe",
   "metadata": {},
   "outputs": [],
   "source": [
    "traj_2 = md.load(work_dir_2+'output.dcd', top = top_dir+'3r3k_W_GLU.prmtop')\n",
    "\n",
    "traj_trunc_2 = md.iterload(work_dir_2+'output.dcd', top = top_dir+'3r3k_W_GLU.prmtop', chunk = 0, skip = 5000)\n",
    "\n",
    "for tr_2 in traj_trunc_2:\n",
    "    traj_short_2 = tr_2\n",
    "print(traj_short_2)"
   ]
  },
  {
   "cell_type": "code",
   "execution_count": null,
   "id": "342fa54f",
   "metadata": {},
   "outputs": [],
   "source": [
    "traj_3 = md.load(work_dir_3+'output.dcd', top = top_dir+'3r3k_W_GLU.prmtop')\n",
    "traj_trunc_3 = md.iterload(work_dir_3+'output.dcd', top = top_dir+'3r3k_W_GLU.prmtop', chunk = 0, skip = 5000)\n",
    "\n",
    "for tr_3 in traj_trunc_3:\n",
    "    traj_short_3 = tr_3\n",
    "print(traj_short_3)"
   ]
  },
  {
   "cell_type": "code",
   "execution_count": null,
   "id": "22ba2be2",
   "metadata": {},
   "outputs": [],
   "source": [
    "res_obj = traj.topology.residues\n",
    "res_list=[]\n",
    "caps_positions =[]\n",
    "all_residues=[]\n",
    "\n",
    "\n",
    "for res in res_obj:\n",
    "        all_residues.append(str(res))\n",
    "        if res.name == 'ACE' or res.name == 'NHE':\n",
    "            print('excluding the ACE and NH2 caps')\n",
    "            caps_positions.append(str(res))\n",
    "        else:\n",
    "            res_list.append(str(res))\n",
    "            \n",
    "res_idx=[]\n",
    "for res in res_list:\n",
    "    res_idx.append(int(res[3:6]))\n",
    "    \n",
    "caps_idx=[]\n",
    "for cap in caps_positions:\n",
    "    caps_idx.append(int(cap[3:6]))\n",
    "    \n",
    "all_residues_idx=[]\n",
    "for re in all_residues:\n",
    "    all_residues_idx.append(int(re[3:6]))"
   ]
  },
  {
   "cell_type": "code",
   "execution_count": null,
   "id": "67bd003e",
   "metadata": {},
   "outputs": [],
   "source": [
    "chain_number = int(len(caps_idx)/2)\n",
    "print('the number of chains in the structure is', chain_number)\n",
    "\n",
    "ace=caps_idx[0::2]\n",
    "nh2=caps_idx[1::2]\n",
    "\n",
    "chain_list=[]\n",
    "chain=[]\n",
    "chain_idx = []\n",
    "all_idx=[]\n",
    "\n",
    "for i in range(len(ace)):\n",
    "    chain = all_residues[(ace[i]+1):(nh2[i])]\n",
    "    chain_list.append(chain)\n",
    "    chain=[]\n",
    "\n",
    "for ch in chain_list:\n",
    "    for re in ch:\n",
    "        all_idx.append(int(re[3:6]))    \n",
    "\n",
    "for i in range(len(ace)):\n",
    "    chain = all_residues_idx[(ace[i]+1):(nh2[i])]\n",
    "    chain_idx.append(chain)\n",
    "    chain=[]\n",
    "    \n",
    "chain_length = len(chain_idx[0])\n",
    "print('the length of each chain is', chain_length, 'residues')"
   ]
  },
  {
   "cell_type": "code",
   "execution_count": null,
   "id": "c29521c8",
   "metadata": {},
   "outputs": [],
   "source": [
    "t = np.arange(0.0, 200.0, 0.004)\n",
    "\n",
    "t_trunc = np.arange(20.0, 200.0, 0.004)"
   ]
  },
  {
   "cell_type": "code",
   "execution_count": null,
   "id": "a42efe77",
   "metadata": {},
   "outputs": [],
   "source": [
    "rmsds_trunc = md.rmsd(traj_short, traj, 0, atom_indices = [a.index for a in traj.topology.atoms if a.is_backbone])\n",
    "\n",
    "rmsds_trunc_100 = []\n",
    "\n",
    "for rmsd in rmsds_trunc:\n",
    "    rmsds_trunc_100.append(rmsd/(1+np.log(np.sqrt(chain_number*chain_length/100))))"
   ]
  },
  {
   "cell_type": "code",
   "execution_count": null,
   "id": "f27539dc",
   "metadata": {},
   "outputs": [],
   "source": [
    "rmsds_trunc_2 = md.rmsd(traj_short_2, traj_2, 0, atom_indices = [a.index for a in traj_2.topology.atoms if a.is_backbone])\n",
    "\n",
    "rmsds_trunc_2_100 =[]\n",
    "for rmsd in rmsds_trunc_2:\n",
    "    rmsds_trunc_2_100.append(rmsd/(1+np.log(np.sqrt(chain_number*chain_length/100))))"
   ]
  },
  {
   "cell_type": "code",
   "execution_count": null,
   "id": "9640ce1c",
   "metadata": {},
   "outputs": [],
   "source": [
    "rmsds_trunc_3 = md.rmsd(traj_short_3, traj_3, 0, atom_indices = [a.index for a in traj_3.topology.atoms if a.is_backbone])\n",
    "\n",
    "rmsds_trunc_3_100 = []\n",
    "for rmsd in rmsds_trunc_3:\n",
    "    rmsds_trunc_3_100.append(rmsd/(1+np.log(np.sqrt(chain_number*chain_length/100))))"
   ]
  },
  {
   "cell_type": "markdown",
   "id": "561712ed",
   "metadata": {},
   "source": [
    "Conversion of all RMSD to Angstroms"
   ]
  },
  {
   "cell_type": "code",
   "execution_count": null,
   "id": "04778ce4",
   "metadata": {},
   "outputs": [],
   "source": [
    "rmsds_trunc_A_100=[]\n",
    "rmsds_trunc_2_A_100=[]\n",
    "rmsds_trunc_3_A_100=[]\n",
    "\n",
    "for i in rmsds_trunc_100:\n",
    "    rmsds_trunc_A_100.append(10*i)\n",
    "\n",
    "for i in rmsds_trunc_2_100:\n",
    "    rmsds_trunc_2_A_100.append(10*i)\n",
    "\n",
    "for i in rmsds_trunc_3_100:\n",
    "    rmsds_trunc_3_A_100.append(10*i)"
   ]
  },
  {
   "cell_type": "code",
   "execution_count": null,
   "id": "268d2b45",
   "metadata": {},
   "outputs": [],
   "source": [
    "rmsd_100_avg = []\n",
    "\n",
    "for i in range(len(rmsds_trunc_A_100)):\n",
    "    rmsd_100_avg.append((rmsds_trunc_A_100[i]+rmsds_trunc_2_A_100[i]+rmsds_trunc_3_A_100[i])/3)"
   ]
  },
  {
   "cell_type": "code",
   "execution_count": null,
   "id": "75ec0496",
   "metadata": {},
   "outputs": [],
   "source": [
    "len(rmsd_100_avg)"
   ]
  },
  {
   "cell_type": "code",
   "execution_count": null,
   "id": "1492dd23",
   "metadata": {},
   "outputs": [],
   "source": [
    "fig,ax = plt.subplots()\n",
    "ax.plot(t_trunc, rmsds_trunc_A_100, label = 'replicate 1', color = 'lightskyblue', linewidth=0.5)\n",
    "ax.plot(t_trunc, rmsds_trunc_2_A_100, label = 'replicate 2', color = 'thistle', linewidth=0.5)\n",
    "ax.plot(t_trunc, rmsds_trunc_3_A_100, label = 'replicate 3', color = 'yellowgreen', linewidth=0.5)\n",
    "ax.plot(t_trunc, rmsd_100_avg, label = 'mean', color = 'black', linewidth=1.2)\n",
    "\n",
    "ax.set(xlabel='t (ns)', ylabel='$RMSD_{100}$ ($\\AA$)', title=system_code)\n",
    "#ax.grid()\n",
    "ax.legend(bbox_to_anchor=(1,1), loc='upper left')\n",
    "ax.set_xlim([0.0, 200.0])\n",
    "#ax.set_ylim([0.0, 10.0])\n",
    "\n",
    "plt.gcf().set_size_inches(10,5)\n",
    "\n",
    "fig.savefig(work_dir+'analysis/rmsd-trunc-100-mean.png', bbox_inches=\"tight\")\n",
    "\n",
    "plt.show()"
   ]
  },
  {
   "cell_type": "markdown",
   "id": "b2b23775",
   "metadata": {},
   "source": [
    "Saving average RMSD to text file"
   ]
  },
  {
   "cell_type": "code",
   "execution_count": null,
   "id": "c3f5fa47",
   "metadata": {},
   "outputs": [],
   "source": [
    "f = open(work_dir+'rmsd_100_avg.txt', 'w')\n",
    "for i in rmsd_100_avg:\n",
    "    f.write(str(i)+'\\n')\n",
    "f.close()"
   ]
  },
  {
   "cell_type": "code",
   "execution_count": null,
   "id": "4e62c4cd",
   "metadata": {},
   "outputs": [],
   "source": [
    "np.mean(rmsd_100_avg)"
   ]
  },
  {
   "cell_type": "code",
   "execution_count": null,
   "id": "6466d918",
   "metadata": {},
   "outputs": [],
   "source": [
    "rmsd_100_tuplelist = []\n",
    "\n",
    "for i in range(len(rmsds_trunc_A_100)):\n",
    "    rmsd_100_tuplelist.append((rmsds_trunc_A_100[i],rmsds_trunc_2_A_100[i],rmsds_trunc_3_A_100[i]))"
   ]
  },
  {
   "cell_type": "code",
   "execution_count": null,
   "id": "55743eb3",
   "metadata": {},
   "outputs": [],
   "source": [
    "mean_list = []\n",
    "std_list = []\n",
    "\n",
    "for tupl in rmsd_100_tuplelist:\n",
    "    mean_list.append(np.mean(tupl))\n",
    "    std_list.append(np.std(tupl))"
   ]
  },
  {
   "cell_type": "code",
   "execution_count": null,
   "id": "d8beb8ea",
   "metadata": {},
   "outputs": [],
   "source": [
    "len(std_list)"
   ]
  },
  {
   "cell_type": "code",
   "execution_count": null,
   "id": "7adec9c4",
   "metadata": {},
   "outputs": [],
   "source": [
    "fig,ax = plt.subplots()\n",
    "\n",
    "ax.set(xlabel='t (ns)', ylabel='$RMSD_{100}$ ($\\AA$)', title=system_code)\n",
    "#ax.grid()\n",
    "\n",
    "ax.errorbar(t_trunc, mean_list, yerr = std_list, fmt = 'none', ecolor='lightgrey',elinewidth = 1, capsize = 1)\n",
    "ax.plot(t_trunc, mean_list, color = 'black', linewidth=1.2)\n",
    "\n",
    "#ax.legend(bbox_to_anchor=(1,1), loc='upper left')\n",
    "ax.set_xlim([0.0, 200.0])\n",
    "#ax.set_ylim([0.0, 10.0])\n",
    "\n",
    "plt.gcf().set_size_inches(10,5)\n",
    "\n",
    "fig.savefig(work_dir+'analysis/rmsd-trunc-100-with-error.png', bbox_inches=\"tight\")\n",
    "\n",
    "plt.show()"
   ]
  },
  {
   "cell_type": "markdown",
   "id": "90dec48b",
   "metadata": {},
   "source": [
    "Comparison between different temperatures"
   ]
  },
  {
   "cell_type": "code",
   "execution_count": null,
   "id": "75a23fee",
   "metadata": {},
   "outputs": [],
   "source": [
    "temp5=[]\n",
    "temp15=[]\n",
    "temp25=[]\n",
    "temp35=[]\n",
    "temp45=[]\n",
    "temp55=[]\n",
    "temp65=[]\n",
    "temp75=[]\n",
    "temp85=[]\n",
    "\n",
    "with open('/home/eva/Documents/gbsa-sims/temperature-sims/temp-1/CC-Hex/GLU/rmsd_100_avg.txt') as f:\n",
    "    for line in f:\n",
    "        line=line.rstrip()\n",
    "        temp5.append(float(line))\n",
    "        \n",
    "temp15 = []\n",
    "with open('/home/eva/Documents/gbsa-sims/temperature-sims/temp-3/CC-Hex/GLU/rmsd_100_avg.txt') as f15:\n",
    "    for line in f15:\n",
    "        line=line.rstrip()\n",
    "        temp15.append(float(line))\n",
    "        \n",
    "temp25 = []\n",
    "with open('/home/eva/Documents/gbsa-sims/sims-3/CC-Hex/3r3k_W/GLU/rmsd_100_avg.txt') as f25:\n",
    "    for line in f25:\n",
    "        line=line.rstrip()\n",
    "        temp25.append(float(line))\n",
    "        \n",
    "temp35 = []\n",
    "with open('/home/eva/Documents/gbsa-sims/temperature-sims/temp-6/CC-Hex/GLU/rmsd_100_avg.txt') as f35:\n",
    "    for line in f35:\n",
    "        line=line.rstrip()\n",
    "        temp35.append(float(line))\n",
    "        \n",
    "temp45 = []\n",
    "with open('/home/eva/Documents/gbsa-sims/temperature-sims/temp-7/CC-Hex/GLU/rmsd_100_avg.txt') as f45:\n",
    "    for line in f45:\n",
    "        line=line.rstrip()\n",
    "        temp45.append(float(line))\n",
    "        \n",
    "temp55 = []\n",
    "with open('/home/eva/Documents/gbsa-sims/temperature-sims/temp-8/CC-Hex/GLU/rmsd_100_avg.txt') as f55:\n",
    "    for line in f55:\n",
    "        line=line.rstrip()\n",
    "        temp55.append(float(line))\n",
    "        \n",
    "temp65 = []\n",
    "with open('/home/eva/Documents/gbsa-sims/temperature-sims/temp-9/CC-Hex/GLU/rmsd_100_avg.txt') as f65:\n",
    "    for line in f65:\n",
    "        line=line.rstrip()\n",
    "        temp65.append(float(line))\n",
    "        \n",
    "temp75 = []\n",
    "with open('/home/eva/Documents/gbsa-sims/temperature-sims/temp-10/CC-Hex/GLU/rmsd_100_avg.txt') as f75:\n",
    "    for line in f75:\n",
    "        line=line.rstrip()\n",
    "        temp75.append(float(line))\n",
    "        \n",
    "temp85 = []\n",
    "with open('/home/eva/Documents/gbsa-sims/temperature-sims/temp-11/CC-Hex/GLU/rmsd_100_avg.txt') as f85:\n",
    "    for line in f85:\n",
    "        line=line.rstrip()\n",
    "        temp85.append(float(line))"
   ]
  },
  {
   "cell_type": "code",
   "execution_count": null,
   "id": "0e5eea0b",
   "metadata": {},
   "outputs": [],
   "source": [
    "fig,ax = plt.subplots()\n",
    "ax.plot(t_trunc, temp5, label = '5$^\\circ$C', color = 'lightcoral', linewidth=1.0)\n",
    "ax.plot(t_trunc, temp15, label = '15$^\\circ$C', color = 'navajowhite', linewidth=1.0)\n",
    "ax.plot(t_trunc, temp25, label = '25$^\\circ$C', color = 'lightgreen', linewidth=1.0)\n",
    "ax.plot(t_trunc, temp35, label = '35$^\\circ$C', color = 'darkgrey', linewidth=1.0)\n",
    "ax.plot(t_trunc, temp45, label = '45$^\\circ$C', color = 'mediumorchid', linewidth=1.0)\n",
    "ax.plot(t_trunc, temp55, label = '55$^\\circ$C', color = 'darkturquoise', linewidth=1.0)\n",
    "ax.plot(t_trunc, temp65, label = '65$^\\circ$C', color = 'seagreen', linewidth=1.0)\n",
    "ax.plot(t_trunc, temp75, label = '75$^\\circ$C', color = 'tomato', linewidth=1.0)\n",
    "ax.plot(t_trunc, temp85, label = '85$^\\circ$C', color = 'gold', linewidth=1.0)\n",
    "\n",
    "ax.set(xlabel='t (ns)', ylabel='$RMSD_{100}$ ($\\AA$)', title=system_code)\n",
    "#ax.grid()\n",
    "ax.legend(bbox_to_anchor=(1,1), loc='upper left')\n",
    "ax.set_xlim([0.0, 200.0])\n",
    "#ax.set_ylim([0.0, 225.0])\n",
    "\n",
    "plt.gcf().set_size_inches(10,5)\n",
    "\n",
    "fig.savefig(work_dir+'temperature-comparison.png', bbox_inches=\"tight\")\n",
    "\n",
    "plt.show()"
   ]
  }
 ],
 "metadata": {
  "kernelspec": {
   "display_name": "Python 3 (ipykernel)",
   "language": "python",
   "name": "python3"
  },
  "language_info": {
   "codemirror_mode": {
    "name": "ipython",
    "version": 3
   },
   "file_extension": ".py",
   "mimetype": "text/x-python",
   "name": "python",
   "nbconvert_exporter": "python",
   "pygments_lexer": "ipython3",
   "version": "3.9.12"
  }
 },
 "nbformat": 4,
 "nbformat_minor": 5
}
