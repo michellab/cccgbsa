{
 "cells": [
  {
   "cell_type": "markdown",
   "id": "f78a6bb4",
   "metadata": {},
   "source": [
    "## Creating Ramachandran plots"
   ]
  },
  {
   "cell_type": "markdown",
   "id": "a8596dce",
   "metadata": {},
   "source": [
    "Ramachandran plots for each chain, only residues 5-25 of each 30-residue monomer taken into consideration. \n",
    "\n",
    "(excluding glycines at the start and end of the sequence also provides a clearer picture)"
   ]
  },
  {
   "cell_type": "code",
   "execution_count": null,
   "id": "77aee76e",
   "metadata": {},
   "outputs": [],
   "source": [
    "import MDAnalysis as mda\n",
    "from MDAnalysis.analysis.dihedrals import Ramachandran\n",
    "import matplotlib.pyplot as plt"
   ]
  },
  {
   "cell_type": "code",
   "execution_count": null,
   "id": "b87e3bb9",
   "metadata": {},
   "outputs": [],
   "source": [
    "work_dir = '/home/eva/Documents/gbsa-sims/cv-sims/individual_harmonic_potentials/cvind-5/tet_L24E/GLU/'"
   ]
  },
  {
   "cell_type": "code",
   "execution_count": null,
   "id": "83dfa113",
   "metadata": {},
   "outputs": [],
   "source": [
    "top_dir = '/home/eva/Documents/structures/structures-obc2-ff96/tet_L24E/GLU/'"
   ]
  },
  {
   "cell_type": "markdown",
   "id": "2ca58e03",
   "metadata": {},
   "source": [
    "Loading topology and trajectory - creating Universe object"
   ]
  },
  {
   "cell_type": "code",
   "execution_count": null,
   "id": "8a3c68c4",
   "metadata": {},
   "outputs": [],
   "source": [
    "u = mda.Universe(top_dir+'6q5i_GLU.prmtop', work_dir+'output.dcd')"
   ]
  },
  {
   "cell_type": "markdown",
   "id": "9dcbd34d",
   "metadata": {},
   "source": [
    "Ramachandran plots for residues 5-25 of each chain"
   ]
  },
  {
   "cell_type": "code",
   "execution_count": null,
   "id": "8be720eb",
   "metadata": {},
   "outputs": [],
   "source": [
    "chain1 = u.select_atoms('resid 5-25')\n",
    "R1 = Ramachandran(chain1).run()\n",
    "\n",
    "fig, ax = plt.subplots(figsize=plt.figaspect(1))\n",
    "R1.plot(ax=ax, color='k', marker='s', ref = True)\n",
    "ax.set(title = 'chain A')\n",
    "\n",
    "plt.gcf().set_size_inches(6,6)\n",
    "plt.savefig(work_dir+'analysis/ram-chain1.png', bbox_inches='tight')"
   ]
  },
  {
   "cell_type": "code",
   "execution_count": null,
   "id": "332bbf09",
   "metadata": {},
   "outputs": [],
   "source": [
    "chain2 = u.select_atoms('resid 37-57')\n",
    "R2 = Ramachandran(chain2).run()\n",
    "\n",
    "fig, ax = plt.subplots(figsize=plt.figaspect(1))\n",
    "R2.plot(ax=ax, color='k', marker='s', ref = True)\n",
    "ax.set(title = 'chain B')\n",
    "\n",
    "plt.gcf().set_size_inches(6,6)\n",
    "plt.savefig(work_dir+'analysis/ram-chain2.png', bbox_inches='tight')"
   ]
  },
  {
   "cell_type": "code",
   "execution_count": null,
   "id": "d6e2888f",
   "metadata": {},
   "outputs": [],
   "source": [
    "chain3 = u.select_atoms('resid 69-89')\n",
    "R3 = Ramachandran(chain3).run()\n",
    "\n",
    "fig, ax = plt.subplots(figsize=plt.figaspect(1))\n",
    "R3.plot(ax=ax, color='k', marker='s', ref = True)\n",
    "ax.set(title = 'chain C')\n",
    "\n",
    "plt.gcf().set_size_inches(6,6)\n",
    "plt.savefig(work_dir+'analysis/ram-chain3.png', bbox_inches='tight')"
   ]
  },
  {
   "cell_type": "code",
   "execution_count": null,
   "id": "1f57a19a",
   "metadata": {},
   "outputs": [],
   "source": [
    "chain4 = u.select_atoms('resid 101-121')\n",
    "R4 = Ramachandran(chain4).run()\n",
    "\n",
    "fig, ax = plt.subplots(figsize=plt.figaspect(1))\n",
    "R4.plot(ax=ax, color='k', marker='s', ref = True)\n",
    "ax.set(title = 'chain D')\n",
    "\n",
    "plt.gcf().set_size_inches(6,6)\n",
    "plt.savefig(work_dir+'analysis/ram-chain4.png', bbox_inches='tight')"
   ]
  }
 ],
 "metadata": {
  "kernelspec": {
   "display_name": "Python 3 (ipykernel)",
   "language": "python",
   "name": "python3"
  },
  "language_info": {
   "codemirror_mode": {
    "name": "ipython",
    "version": 3
   },
   "file_extension": ".py",
   "mimetype": "text/x-python",
   "name": "python",
   "nbconvert_exporter": "python",
   "pygments_lexer": "ipython3",
   "version": "3.9.12"
  }
 },
 "nbformat": 4,
 "nbformat_minor": 5
}
