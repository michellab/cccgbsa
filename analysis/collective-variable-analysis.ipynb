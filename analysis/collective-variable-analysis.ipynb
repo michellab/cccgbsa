{
 "cells": [
  {
   "cell_type": "markdown",
   "id": "b27c0eb4",
   "metadata": {},
   "source": [
    "## Plotting the Collective Variable values from Custom Force simulations"
   ]
  },
  {
   "cell_type": "code",
   "execution_count": null,
   "id": "c65e9a12",
   "metadata": {},
   "outputs": [],
   "source": [
    "from simtk.openmm.app import *\n",
    "from simtk.openmm import *\n",
    "from simtk.unit import *\n",
    "from sys import stdout\n",
    "import pandas as pd\n",
    "import mdtraj as md\n",
    "import matplotlib.pyplot as plt\n",
    "import numpy as np"
   ]
  },
  {
   "cell_type": "code",
   "execution_count": null,
   "id": "50563d3f",
   "metadata": {},
   "outputs": [],
   "source": [
    "work_dir = '/home/eva/Documents/gbsa-sims/cv-sims/individual_harmonic_potentials/'"
   ]
  },
  {
   "cell_type": "code",
   "execution_count": null,
   "id": "be1c7011",
   "metadata": {},
   "outputs": [],
   "source": [
    "top_dir = '/home/eva/Documents/structures/structures-obc2-ff96/tet_L24E/GLU/'"
   ]
  },
  {
   "cell_type": "code",
   "execution_count": null,
   "id": "56ac7605",
   "metadata": {},
   "outputs": [],
   "source": [
    "system_name = 'k = 10 kJ/mol$(nm)^2$, $r_0$ = 20 nm, k_dihed = 10 kJ/mol'"
   ]
  },
  {
   "cell_type": "code",
   "execution_count": null,
   "id": "183d03ab",
   "metadata": {},
   "outputs": [],
   "source": [
    "simulation_code = 'cvmon-16/'"
   ]
  },
  {
   "cell_type": "markdown",
   "id": "9fd9e152",
   "metadata": {},
   "source": [
    "Loading the text files with the CV values onto dataframes"
   ]
  },
  {
   "cell_type": "code",
   "execution_count": null,
   "id": "cf7cfd22",
   "metadata": {},
   "outputs": [],
   "source": [
    "colnames = ['cv']"
   ]
  },
  {
   "cell_type": "code",
   "execution_count": null,
   "id": "34f9af5a",
   "metadata": {},
   "outputs": [],
   "source": [
    "df1 = pd.read_csv(work_dir+simulation_code+'tet_L24E/GLU/cv-values.txt', names=colnames, dtype=object)\n",
    "\n",
    "df2 = pd.read_csv(work_dir+simulation_code+'tet_L24E/GLU/cv-linalg.txt', names=colnames, dtype=object)"
   ]
  },
  {
   "cell_type": "code",
   "execution_count": null,
   "id": "54fa4693",
   "metadata": {},
   "outputs": [],
   "source": [
    "cv_sim = []\n",
    "cv_linalg = []\n",
    "\n",
    "for val in df1['cv']:\n",
    "    cv_sim.append(float(val))\n",
    "\n",
    "\n",
    "for cvval in df2['cv']:\n",
    "    cv_linalg.append(float(cvval))"
   ]
  },
  {
   "cell_type": "markdown",
   "id": "59ad9969",
   "metadata": {},
   "source": [
    "Plotting the CV values vs simulation time, excluding first 20 ns (5000 frames):"
   ]
  },
  {
   "cell_type": "code",
   "execution_count": null,
   "id": "de9a555c",
   "metadata": {},
   "outputs": [],
   "source": [
    "t = np.arange(20.0, 200.0, 0.004)"
   ]
  },
  {
   "cell_type": "code",
   "execution_count": null,
   "id": "be8c7d86",
   "metadata": {},
   "outputs": [],
   "source": [
    "fig,ax = plt.subplots()\n",
    "ax.plot(t, cv_sim[5000:], color = 'seagreen')\n",
    "ax.set(xlabel='time (ns)', ylabel='CV (nm)', title = system_name)\n",
    "\n",
    "ax.grid()\n",
    "ax.set_xlim([0.0, 210.0])\n",
    "ax.set_ylim([100.0, 140.0])\n",
    "\n",
    "#ax.legend(bbox_to_anchor=(1,1), loc='upper left')\n",
    "\n",
    "fig.savefig(work_dir+simulation_code+'tet_L24E/GLU/analysis/cv-sim.png', bbox_inches='tight')\n",
    "plt.show()"
   ]
  },
  {
   "cell_type": "markdown",
   "id": "7904b0ca",
   "metadata": {},
   "source": [
    "Comparing the simulation CV values with the calculated CV values:"
   ]
  },
  {
   "cell_type": "code",
   "execution_count": null,
   "id": "56badcb5",
   "metadata": {},
   "outputs": [],
   "source": [
    "fig,ax = plt.subplots()\n",
    "ax.plot(t, cv_linalg[5000:], label = 'calculation', color = 'darkviolet')\n",
    "ax.plot(t, cv_sim[5000:], label = 'simulation', color = 'seagreen')\n",
    "\n",
    "ax.set(xlabel='time (ns)', ylabel='CV (nm)', title = system_name)\n",
    "ax.grid()\n",
    "ax.set_xlim([0.0, 210.0])\n",
    "ax.set_ylim([100.0, 140.0])\n",
    "\n",
    "ax.legend(bbox_to_anchor=(1,1), loc='upper left')\n",
    "\n",
    "fig.savefig(work_dir+simulation_code+'tet_L24E/GLU/analysis/cv-plot.png', bbox_inches='tight')\n",
    "plt.show()"
   ]
  },
  {
   "cell_type": "markdown",
   "id": "a1fd02a2",
   "metadata": {},
   "source": [
    "Plotting the difference between the CV values from the simulation and the calculation:"
   ]
  },
  {
   "cell_type": "code",
   "execution_count": null,
   "id": "02f85ff6",
   "metadata": {},
   "outputs": [],
   "source": [
    "idx = 0\n",
    "diff =[]\n",
    "\n",
    "for idx in range(len(cv_sim)):\n",
    "    diff.append(cv_sim[idx]-cv_linalg[idx])\n",
    "    idx+=1"
   ]
  },
  {
   "cell_type": "code",
   "execution_count": null,
   "id": "1ac1bc14",
   "metadata": {},
   "outputs": [],
   "source": [
    "fig,ax = plt.subplots()\n",
    "ax.plot(t, diff[5000:], color = 'navy')\n",
    "ax.set(xlabel='time (ns)', ylabel='CV difference (nm)', title = system_name)\n",
    "ax.grid()\n",
    "ax.set_xlim([0.0, 210.0])\n",
    "ax.set_ylim([-1.0, 1.0])\n",
    "\n",
    "fig.savefig(work_dir+simulation_code+'tet_L24E/GLU/analysis/cv-diff.png')\n",
    "plt.show()"
   ]
  },
  {
   "cell_type": "markdown",
   "id": "6a38f2d7",
   "metadata": {},
   "source": [
    "### Comparing simulations with same k but different r0"
   ]
  },
  {
   "cell_type": "code",
   "execution_count": null,
   "id": "ba70feb2",
   "metadata": {},
   "outputs": [],
   "source": [
    "spring_constant = 'k = 100 kJ/mol$(nm)^2$'"
   ]
  },
  {
   "cell_type": "code",
   "execution_count": null,
   "id": "111c71b7",
   "metadata": {},
   "outputs": [],
   "source": [
    "w1 = work_dir+'cvind-7/tet_L24E/GLU/'\n",
    "w2 = work_dir+'cvind-8/tet_L24E/GLU/'\n",
    "w3 = work_dir+'cvind-9/tet_L24E/GLU/'\n",
    "w4 = work_dir+'cvind-14/tet_L24E/GLU/'\n",
    "w5 = work_dir+'cvind-15/tet_L24E/GLU/'\n",
    "w6 = work_dir+'cvind-16/tet_L24E/GLU/'\n",
    "w7 = work_dir+'cvind-17/tet_L24E/GLU/'\n",
    "w8 = work_dir+'cvind-22/tet_L24E/GLU/'\n",
    "w9 = work_dir+'cvind-23/tet_L24E/GLU/'\n",
    "w10 = work_dir+'cvind-24/tet_L24E/GLU/'\n",
    "w11 = work_dir+'cvind-25/tet_L24E/GLU/'"
   ]
  },
  {
   "cell_type": "code",
   "execution_count": null,
   "id": "b9054088",
   "metadata": {},
   "outputs": [],
   "source": [
    "dat1 = pd.read_csv(w1+'cv-values.txt', names=colnames, dtype=object)\n",
    "dat2 = pd.read_csv(w2+'cv-values.txt', names=colnames, dtype=object)\n",
    "dat3 = pd.read_csv(w3+'cv-values.txt', names=colnames, dtype=object)\n",
    "dat4 = pd.read_csv(w4+'cv-values.txt', names=colnames, dtype=object)\n",
    "dat5 = pd.read_csv(w5+'cv-values.txt', names=colnames, dtype=object)\n",
    "dat6 = pd.read_csv(w6+'cv-values.txt', names=colnames, dtype=object)\n",
    "dat7 = pd.read_csv(w7+'cv-values.txt', names=colnames, dtype=object)\n",
    "dat8 = pd.read_csv(w8+'cv-values.txt', names=colnames, dtype=object)\n",
    "dat9 = pd.read_csv(w9+'cv-values.txt', names=colnames, dtype=object)\n",
    "dat10 = pd.read_csv(w10+'cv-values.txt', names=colnames, dtype=object)\n",
    "dat11 = pd.read_csv(w11+'cv-values.txt', names=colnames, dtype=object)"
   ]
  },
  {
   "cell_type": "code",
   "execution_count": null,
   "id": "85c1af91",
   "metadata": {},
   "outputs": [],
   "source": [
    "cv_sim1 = []\n",
    "cv_sim2 = []\n",
    "cv_sim3 = []\n",
    "cv_sim4 = []\n",
    "cv_sim5 = []\n",
    "cv_sim6 = []\n",
    "cv_sim7 = []\n",
    "cv_sim8 = []\n",
    "cv_sim9 = []\n",
    "cv_sim10 = []\n",
    "cv_sim11 = []\n",
    "\n",
    "for val in dat1['cv']:\n",
    "    cv_sim1.append(float(val))\n",
    "\n",
    "for val in dat2['cv']:\n",
    "    cv_sim2.append(float(val))\n",
    "    \n",
    "for val in dat3['cv']:\n",
    "    cv_sim3.append(float(val))\n",
    "    \n",
    "for val in dat4['cv']:\n",
    "    cv_sim4.append(float(val))\n",
    "\n",
    "for val in dat5['cv']:\n",
    "    cv_sim5.append(float(val))\n",
    "    \n",
    "for val in dat6['cv']:\n",
    "    cv_sim6.append(float(val))\n",
    "    \n",
    "for val in dat7['cv']:\n",
    "    cv_sim7.append(float(val))\n",
    "\n",
    "for val in dat8['cv']:\n",
    "    cv_sim8.append(float(val))\n",
    "    \n",
    "for val in dat9['cv']:\n",
    "    cv_sim9.append(float(val))\n",
    "    \n",
    "for val in dat10['cv']:\n",
    "    cv_sim10.append(float(val))\n",
    "    \n",
    "for val in dat11['cv']:\n",
    "    cv_sim11.append(float(val))"
   ]
  },
  {
   "cell_type": "code",
   "execution_count": null,
   "id": "9e645719",
   "metadata": {},
   "outputs": [],
   "source": [
    "fig,ax = plt.subplots()\n",
    "ax.plot(t, cv_sim1[5000:], label = '$r_0$ = 5 nm',color = 'chocolate')\n",
    "ax.plot(t, cv_sim4[5000:], label = '$r_0$ = 10 nm', color = 'deeppink')\n",
    "ax.plot(t, cv_sim5[5000:], label = '$r_0$ = 20 nm', color = 'dodgerblue')\n",
    "ax.plot(t, cv_sim6[5000:], label = '$r_0$ = 30 nm', color = 'darkorange')\n",
    "ax.plot(t, cv_sim7[5000:], label = '$r_0$ = 40 nm', color = 'slategrey')\n",
    "ax.plot(t, cv_sim2[5000:], label = '$r_0$ = 50 nm', color = 'midnightblue')\n",
    "ax.plot(t, cv_sim8[5000:], label = '$r_0$ = 60 nm', color = 'gold')\n",
    "ax.plot(t, cv_sim9[5000:], label = '$r_0$ = 70 nm', color = 'mediumspringgreen')\n",
    "ax.plot(t, cv_sim10[5000:], label = '$r_0$ = 80 nm', color = 'darkviolet')\n",
    "ax.plot(t, cv_sim11[5000:], label = '$r_0$ = 90 nm', color = 'lightpink')\n",
    "ax.plot(t, cv_sim3[5000:], label = '$r_0$ = 100 nm', color = 'yellowgreen')\n",
    "\n",
    "\n",
    "ax.set(xlabel='time (ns)', ylabel='CV (nm)', title = spring_constant)\n",
    "\n",
    "#ax.grid()\n",
    "ax.set_xlim([0.0, 210.0])\n",
    "ax.set_ylim([0.0, 700.0])\n",
    "\n",
    "ax.legend(bbox_to_anchor=(1,1), loc='upper left')\n",
    "\n",
    "fig.savefig(work_dir+'overall_analysis/k_100/cv.png', bbox_inches='tight')\n",
    "plt.show()"
   ]
  }
 ],
 "metadata": {
  "kernelspec": {
   "display_name": "Python 3 (ipykernel)",
   "language": "python",
   "name": "python3"
  },
  "language_info": {
   "codemirror_mode": {
    "name": "ipython",
    "version": 3
   },
   "file_extension": ".py",
   "mimetype": "text/x-python",
   "name": "python",
   "nbconvert_exporter": "python",
   "pygments_lexer": "ipython3",
   "version": "3.9.12"
  }
 },
 "nbformat": 4,
 "nbformat_minor": 5
}
