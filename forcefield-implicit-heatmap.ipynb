{
 "cells": [
  {
   "cell_type": "code",
   "execution_count": null,
   "id": "67daac27",
   "metadata": {},
   "outputs": [],
   "source": [
    "import numpy as np\n",
    "import pandas as pd\n",
    "import seaborn as sns\n",
    "import matplotlib.pyplot as plt\n",
    "from pylab import savefig"
   ]
  },
  {
   "cell_type": "code",
   "execution_count": null,
   "id": "4cf9037d",
   "metadata": {},
   "outputs": [],
   "source": [
    "df = pd.read_csv(\"/home/eva/Documents/gbsa-sims/monomer-sims/csv-mon-databases/CC-Hex-L24E-GLU.csv\")\n",
    "print(df)"
   ]
  },
  {
   "cell_type": "code",
   "execution_count": null,
   "id": "507fe3ee",
   "metadata": {},
   "outputs": [],
   "source": [
    "df['force field']"
   ]
  },
  {
   "cell_type": "code",
   "execution_count": null,
   "id": "bbe9b94b",
   "metadata": {},
   "outputs": [],
   "source": [
    "ff = []\n",
    "impl = []\n",
    "end2end = []\n",
    "\n",
    "for item in df['force field']:\n",
    "    ff.append(item)\n",
    "\n",
    "for model in df['implicit solvent']:\n",
    "    impl.append(model)\n",
    "\n",
    "for val in df['end-to-end_avg']:\n",
    "    end2end.append(val)"
   ]
  },
  {
   "cell_type": "code",
   "execution_count": null,
   "id": "1c1ed2bc",
   "metadata": {},
   "outputs": [],
   "source": [
    "ff_cols = list(sorted(set(ff)))\n",
    "impl_cols = list(sorted(set(impl)))"
   ]
  },
  {
   "cell_type": "code",
   "execution_count": null,
   "id": "087a0297",
   "metadata": {},
   "outputs": [],
   "source": [
    "ff_cols"
   ]
  },
  {
   "cell_type": "code",
   "execution_count": null,
   "id": "3af525bb",
   "metadata": {},
   "outputs": [],
   "source": [
    "impl_cols"
   ]
  },
  {
   "cell_type": "code",
   "execution_count": null,
   "id": "56f06fd0",
   "metadata": {},
   "outputs": [],
   "source": [
    "array = np.zeros((len(impl_cols), len(ff_cols)))"
   ]
  },
  {
   "cell_type": "code",
   "execution_count": null,
   "id": "081a2db9",
   "metadata": {},
   "outputs": [],
   "source": [
    "for idx in range(len(ff)):\n",
    "    array[impl_cols.index(impl[idx])][ff_cols.index(ff[idx])] = end2end[idx]"
   ]
  },
  {
   "cell_type": "code",
   "execution_count": null,
   "id": "1087c3e4",
   "metadata": {},
   "outputs": [],
   "source": [
    "array"
   ]
  },
  {
   "cell_type": "code",
   "execution_count": null,
   "id": "aa49cbfa",
   "metadata": {},
   "outputs": [],
   "source": [
    "x_axis_labels = ff_cols\n",
    "y_axis_labels = impl_cols"
   ]
  },
  {
   "cell_type": "code",
   "execution_count": null,
   "id": "75346090",
   "metadata": {},
   "outputs": [],
   "source": [
    "system_name = 'CC-Hex*-L24E, all E deprotonated'"
   ]
  },
  {
   "cell_type": "code",
   "execution_count": null,
   "id": "6e01a3a5",
   "metadata": {},
   "outputs": [],
   "source": [
    "plt.figure(figsize=(8,4))\n",
    "\n",
    "ax = sns.heatmap(array, xticklabels = x_axis_labels, yticklabels = y_axis_labels, vmin = 0, vmax = 4, cmap = 'Blues', \n",
    "                 cbar_kws = {'label': 'end-to-end distance (nm)'})\n",
    "\n",
    "ax.set_title(system_name)\n",
    "fig = ax.get_figure()\n",
    "fig.savefig('/home/eva/Documents/gbsa-sims/monomer-sims/monomer-heatmaps/CC-Hex-L24E-GLU_heatmap.png')"
   ]
  }
 ],
 "metadata": {
  "kernelspec": {
   "display_name": "Python 3 (ipykernel)",
   "language": "python",
   "name": "python3"
  },
  "language_info": {
   "codemirror_mode": {
    "name": "ipython",
    "version": 3
   },
   "file_extension": ".py",
   "mimetype": "text/x-python",
   "name": "python",
   "nbconvert_exporter": "python",
   "pygments_lexer": "ipython3",
   "version": "3.8.8"
  }
 },
 "nbformat": 4,
 "nbformat_minor": 5
}
