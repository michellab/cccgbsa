{
 "cells": [
  {
   "cell_type": "code",
   "execution_count": 1,
   "id": "67daac27",
   "metadata": {},
   "outputs": [],
   "source": [
    "import numpy as np\n",
    "import pandas as pd\n",
    "import seaborn as sns\n",
    "import matplotlib.pyplot as plt\n",
    "from pylab import savefig"
   ]
  },
  {
   "cell_type": "code",
   "execution_count": 2,
   "id": "4cf9037d",
   "metadata": {},
   "outputs": [
    {
     "name": "stdout",
     "output_type": "stream",
     "text": [
      "  force field implicit solvent    rog_avg  end-to-end_avg\n",
      "0      ff99SB             GBn2  19.340220        1.186793\n",
      "1      ff99SB              GBn  19.914638        1.279368\n",
      "2   ff99SBnmr             OBC2  20.918362        1.639429\n",
      "3      ff14SB              GBn  15.564321        1.486583\n",
      "4        ff96             OBC2  17.975878        2.953210\n",
      "5      ff14SB             OBC2  19.579379        1.484269\n",
      "6        ff94             OBC2  19.722022        1.450072\n",
      "7        ff98             OBC2  17.130748        1.358977\n",
      "8        ff96              GBn  22.737543        1.559182\n"
     ]
    }
   ],
   "source": [
    "df = pd.read_csv(\"3r3k_T_GLH_mon.csv\")\n",
    "print(df)"
   ]
  },
  {
   "cell_type": "code",
   "execution_count": 3,
   "id": "507fe3ee",
   "metadata": {},
   "outputs": [
    {
     "data": {
      "text/plain": [
       "0       ff99SB\n",
       "1       ff99SB\n",
       "2    ff99SBnmr\n",
       "3       ff14SB\n",
       "4         ff96\n",
       "5       ff14SB\n",
       "6         ff94\n",
       "7         ff98\n",
       "8         ff96\n",
       "Name: force field, dtype: object"
      ]
     },
     "execution_count": 3,
     "metadata": {},
     "output_type": "execute_result"
    }
   ],
   "source": [
    "df['force field']"
   ]
  },
  {
   "cell_type": "code",
   "execution_count": 4,
   "id": "bbe9b94b",
   "metadata": {},
   "outputs": [],
   "source": [
    "ff = []\n",
    "impl = []\n",
    "end2end = []\n",
    "\n",
    "for item in df['force field']:\n",
    "    ff.append(item)\n",
    "\n",
    "for model in df['implicit solvent']:\n",
    "    impl.append(model)\n",
    "\n",
    "for val in df['end-to-end_avg']:\n",
    "    end2end.append(val)"
   ]
  },
  {
   "cell_type": "code",
   "execution_count": 5,
   "id": "1c1ed2bc",
   "metadata": {},
   "outputs": [],
   "source": [
    "ff_cols = list(sorted(set(ff)))\n",
    "impl_cols = list(sorted(set(impl)))"
   ]
  },
  {
   "cell_type": "code",
   "execution_count": 6,
   "id": "087a0297",
   "metadata": {},
   "outputs": [
    {
     "data": {
      "text/plain": [
       "['ff14SB', 'ff94', 'ff96', 'ff98', 'ff99SB', 'ff99SBnmr']"
      ]
     },
     "execution_count": 6,
     "metadata": {},
     "output_type": "execute_result"
    }
   ],
   "source": [
    "ff_cols"
   ]
  },
  {
   "cell_type": "code",
   "execution_count": 7,
   "id": "3af525bb",
   "metadata": {},
   "outputs": [
    {
     "data": {
      "text/plain": [
       "['GBn', 'GBn2', 'OBC2']"
      ]
     },
     "execution_count": 7,
     "metadata": {},
     "output_type": "execute_result"
    }
   ],
   "source": [
    "impl_cols"
   ]
  },
  {
   "cell_type": "code",
   "execution_count": 8,
   "id": "56f06fd0",
   "metadata": {},
   "outputs": [],
   "source": [
    "array = np.zeros((len(impl_cols), len(ff_cols)))"
   ]
  },
  {
   "cell_type": "code",
   "execution_count": 9,
   "id": "081a2db9",
   "metadata": {},
   "outputs": [],
   "source": [
    "for idx in range(len(ff)):\n",
    "    array[impl_cols.index(impl[idx])][ff_cols.index(ff[idx])] = end2end[idx]"
   ]
  },
  {
   "cell_type": "code",
   "execution_count": 10,
   "id": "1087c3e4",
   "metadata": {},
   "outputs": [
    {
     "data": {
      "text/plain": [
       "array([[1.48658273, 0.        , 1.55918173, 0.        , 1.27936757,\n",
       "        0.        ],\n",
       "       [0.        , 0.        , 0.        , 0.        , 1.18679332,\n",
       "        0.        ],\n",
       "       [1.48426867, 1.45007213, 2.95320957, 1.358977  , 0.        ,\n",
       "        1.6394287 ]])"
      ]
     },
     "execution_count": 10,
     "metadata": {},
     "output_type": "execute_result"
    }
   ],
   "source": [
    "array"
   ]
  },
  {
   "cell_type": "code",
   "execution_count": 11,
   "id": "aa49cbfa",
   "metadata": {},
   "outputs": [],
   "source": [
    "x_axis_labels = ff_cols\n",
    "y_axis_labels = impl_cols"
   ]
  },
  {
   "cell_type": "code",
   "execution_count": 12,
   "id": "75346090",
   "metadata": {},
   "outputs": [],
   "source": [
    "system_name = 'CC-Hex*-T, all E protonated'"
   ]
  },
  {
   "cell_type": "code",
   "execution_count": 14,
   "id": "6e01a3a5",
   "metadata": {},
   "outputs": [
    {
     "data": {
      "image/png": "[encoded data removed]",
      "text/plain": [
       "<Figure size 576x288 with 2 Axes>"
      ]
     },
     "metadata": {
      "needs_background": "light"
     },
     "output_type": "display_data"
    }
   ],
   "source": [
    "plt.figure(figsize=(8,4))\n",
    "\n",
    "ax = sns.heatmap(array, xticklabels = x_axis_labels, yticklabels = y_axis_labels, vmin = 0, vmax = 4, cmap = 'Blues', \n",
    "                 cbar_kws = {'label': 'end-to-end distance (nm)'})\n",
    "\n",
    "ax.set_title(system_name)\n",
    "fig = ax.get_figure()\n",
    "fig.savefig('heatmap.png')"
   ]
  }
 ],
 "metadata": {
  "kernelspec": {
   "display_name": "Python 3 (ipykernel)",
   "language": "python",
   "name": "python3"
  },
  "language_info": {
   "codemirror_mode": {
    "name": "ipython",
    "version": 3
   },
   "file_extension": ".py",
   "mimetype": "text/x-python",
   "name": "python",
   "nbconvert_exporter": "python",
   "pygments_lexer": "ipython3",
   "version": "3.8.8"
  }
 },
 "nbformat": 4,
 "nbformat_minor": 5
}
