{
 "cells": [
  {
   "cell_type": "markdown",
   "id": "9d6dceb4",
   "metadata": {},
   "source": [
    "## Creating Ramachandran plots"
   ]
  },
  {
   "cell_type": "markdown",
   "id": "15aa08ee",
   "metadata": {},
   "source": [
    "Ramachandran plots for each chain, only residues 5-25 of each 30-residue monomer taken into consideration. \n",
    "\n",
    "(excluding glycines at the start and end of the sequence also provides a clearer picture)"
   ]
  },
  {
   "cell_type": "code",
   "execution_count": null,
   "id": "f1352d6a",
   "metadata": {},
   "outputs": [],
   "source": [
    "import MDAnalysis as mda\n",
    "from MDAnalysis.analysis.dihedrals import Ramachandran\n",
    "import matplotlib.pyplot as plt"
   ]
  },
  {
   "cell_type": "code",
   "execution_count": null,
   "id": "fd50f56a",
   "metadata": {},
   "outputs": [],
   "source": [
    "work_dir = '/home/eva/Documents/gbsa-sims/cv-sims/individual_harmonic_potentials/cvind-17/tet_L24E/GLU/'"
   ]
  },
  {
   "cell_type": "code",
   "execution_count": null,
   "id": "5dd43622",
   "metadata": {},
   "outputs": [],
   "source": [
    "top_dir = '/home/eva/Documents/structures/structures-obc2-ff96/tet_L24E/GLU/'"
   ]
  },
  {
   "cell_type": "markdown",
   "id": "8d8e6ad9",
   "metadata": {},
   "source": [
    "Loading topology and trajectory - creating Universe object"
   ]
  },
  {
   "cell_type": "code",
   "execution_count": null,
   "id": "e421826e",
   "metadata": {},
   "outputs": [],
   "source": [
    "u = mda.Universe(top_dir+'6q5i_GLU.prmtop', work_dir+'output.dcd')"
   ]
  },
  {
   "cell_type": "markdown",
   "id": "ab83926d",
   "metadata": {},
   "source": [
    "Ramachandran plots for residues 5-25 of each chain"
   ]
  },
  {
   "cell_type": "code",
   "execution_count": null,
   "id": "f986b5d7",
   "metadata": {},
   "outputs": [],
   "source": [
    "chain1 = u.select_atoms('resid 5-25')\n",
    "R1 = Ramachandran(chain1).run()\n",
    "\n",
    "fig, ax = plt.subplots(figsize=plt.figaspect(1))\n",
    "R1.plot(ax=ax, color='k', marker='s', ref = True)\n",
    "ax.set(title = 'chain A')\n",
    "\n",
    "plt.gcf().set_size_inches(6,6)\n",
    "plt.savefig(work_dir+'analysis/ram-chain1.png', bbox_inches='tight')"
   ]
  },
  {
   "cell_type": "code",
   "execution_count": null,
   "id": "8959e037",
   "metadata": {},
   "outputs": [],
   "source": [
    "chain2 = u.select_atoms('resid 37-57')\n",
    "R2 = Ramachandran(chain2).run()\n",
    "\n",
    "fig, ax = plt.subplots(figsize=plt.figaspect(1))\n",
    "R2.plot(ax=ax, color='k', marker='s', ref = True)\n",
    "ax.set(title = 'chain B')\n",
    "\n",
    "plt.gcf().set_size_inches(6,6)\n",
    "plt.savefig(work_dir+'analysis/ram-chain2.png', bbox_inches='tight')"
   ]
  },
  {
   "cell_type": "code",
   "execution_count": null,
   "id": "1bebf9be",
   "metadata": {},
   "outputs": [],
   "source": [
    "chain3 = u.select_atoms('resid 69-89')\n",
    "R3 = Ramachandran(chain3).run()\n",
    "\n",
    "fig, ax = plt.subplots(figsize=plt.figaspect(1))\n",
    "R3.plot(ax=ax, color='k', marker='s', ref = True)\n",
    "ax.set(title = 'chain C')\n",
    "\n",
    "plt.gcf().set_size_inches(6,6)\n",
    "plt.savefig(work_dir+'analysis/ram-chain3.png', bbox_inches='tight')"
   ]
  },
  {
   "cell_type": "code",
   "execution_count": null,
   "id": "8751ca74",
   "metadata": {},
   "outputs": [],
   "source": [
    "chain4 = u.select_atoms('resid 101-121')\n",
    "R4 = Ramachandran(chain4).run()\n",
    "\n",
    "fig, ax = plt.subplots(figsize=plt.figaspect(1))\n",
    "R4.plot(ax=ax, color='k', marker='s', ref = True)\n",
    "ax.set(title = 'chain D')\n",
    "\n",
    "plt.gcf().set_size_inches(6,6)\n",
    "plt.savefig(work_dir+'analysis/ram-chain4.png', bbox_inches='tight')"
   ]
  },
  {
   "cell_type": "code",
   "execution_count": null,
   "id": "a32b8a66",
   "metadata": {},
   "outputs": [],
   "source": []
  },
  {
   "cell_type": "code",
   "execution_count": null,
   "id": "a1d05afc",
   "metadata": {},
   "outputs": [],
   "source": []
  }
 ],
 "metadata": {
  "kernelspec": {
   "display_name": "Python 3 (ipykernel)",
   "language": "python",
   "name": "python3"
  },
  "language_info": {
   "codemirror_mode": {
    "name": "ipython",
    "version": 3
   },
   "file_extension": ".py",
   "mimetype": "text/x-python",
   "name": "python",
   "nbconvert_exporter": "python",
   "pygments_lexer": "ipython3",
   "version": "3.8.8"
  }
 },
 "nbformat": 4,
 "nbformat_minor": 5
}
