{
 "cells": [
  {
   "cell_type": "markdown",
   "id": "ccc05867",
   "metadata": {},
   "source": [
    "Initial 200 ns simulations"
   ]
  },
  {
   "cell_type": "markdown",
   "id": "91759a7b",
   "metadata": {},
   "source": [
    "Parameters: 2 fs timestep, cutoff non-periodic as the non-bonded method and single computation precision"
   ]
  },
  {
   "cell_type": "code",
   "execution_count": null,
   "id": "438860fb",
   "metadata": {},
   "outputs": [],
   "source": [
    "from openmm.app import *\n",
    "from openmm import *\n",
    "from openmm.unit import *\n",
    "from sys import stdout\n",
    "import time\n",
    "\n",
    "start_time = time.time()\n",
    "\n",
    "prmtop = AmberPrmtopFile('input.prmtop')\n",
    "inpcrd = AmberInpcrdFile('input.inpcrd')\n",
    "\n",
    "system = prmtop.createSystem(nonbondedMethod=CutoffNonPeriodic, nonbondedCutoff=1*nanometer,\n",
    "        constraints=HBonds, implicitSolvent=GBn2)\n",
    "\n",
    "integrator = LangevinMiddleIntegrator(298*kelvin, 1/picosecond, 0.002*picoseconds)\n",
    "\n",
    "platform = Platform.getPlatformByName('CUDA')\n",
    "\n",
    "simulation = Simulation(prmtop.topology, system, integrator, platform)\n",
    "simulation.context.setPositions(inpcrd.positions)\n",
    "simulation.minimizeEnergy()\n",
    "simulation.reporters.append(PDBReporter('output.pdb', 1000))\n",
    "simulation.reporters.append(StateDataReporter(stdout, 1000, step=True,\n",
    "        potentialEnergy=True, temperature=True))\n",
    "simulation.step(100000000)\n",
    "\n",
    "print (\"simulation time:\", time.time() - start_time, \"s\")"
   ]
  }
 ],
 "metadata": {
  "kernelspec": {
   "display_name": "Python 3 (ipykernel)",
   "language": "python",
   "name": "python3"
  },
  "language_info": {
   "codemirror_mode": {
    "name": "ipython",
    "version": 3
   },
   "file_extension": ".py",
   "mimetype": "text/x-python",
   "name": "python",
   "nbconvert_exporter": "python",
   "pygments_lexer": "ipython3",
   "version": "3.8.8"
  }
 },
 "nbformat": 4,
 "nbformat_minor": 5
}
