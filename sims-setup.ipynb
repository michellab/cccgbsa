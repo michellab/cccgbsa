{
 "cells": [
  {
   "cell_type": "markdown",
   "id": "ccc05867",
   "metadata": {},
   "source": [
    "Initial 200 ns simulations"
   ]
  },
  {
   "cell_type": "markdown",
   "id": "91759a7b",
   "metadata": {},
   "source": [
    "Parameters: 4 fs timestep, no cutoff as the non-bonded method, 1.5 amu hydrogen mass repartitioning and mixed computation precision"
   ]
  },
  {
   "cell_type": "code",
   "execution_count": null,
   "id": "438860fb",
   "metadata": {},
   "outputs": [],
   "source": [
    "from openmm.app import *\n",
    "from openmm import *\n",
    "from openmm.unit import *\n",
    "from sys import stdout\n",
    "import time\n",
    "\n",
    "start_time = time.time()\n",
    "\n",
    "prmtop = AmberPrmtopFile('input.prmtop')\n",
    "inpcrd = AmberInpcrdFile('input.inpcrd')\n",
    "\n",
    "system = prmtop.createSystem(nonbondedMethod=NoCutoff,\n",
    "        constraints=HBonds, hydrogenMass=1.5*amu, implicitSolvent=GBn2)\n",
    "\n",
    "integrator = LangevinMiddleIntegrator(298.15*kelvin, 1/picosecond, 0.004*picoseconds)\n",
    "\n",
    "platform = Platform.getPlatformByName('CUDA')\n",
    "\n",
    "properties = {'Precision': 'mixed'}\n",
    "\n",
    "simulation = Simulation(prmtop.topology, system, integrator, platform, properties)\n",
    "simulation.context.setPositions(inpcrd.positions)\n",
    "simulation.minimizeEnergy()\n",
    "simulation.reporters.append(DCDReporter('output.dcd', 1000))\n",
    "simulation.reporters.append(StateDataReporter(stdout, 1000, step=True,\n",
    "        potentialEnergy=True, temperature=True))\n",
    "simulation.step(50000000)\n",
    "\n",
    "print (\"simulation time:\", time.time() - start_time, \"s\")"
   ]
  }
 ],
 "metadata": {
  "kernelspec": {
   "display_name": "Python 3 (ipykernel)",
   "language": "python",
   "name": "python3"
  },
  "language_info": {
   "codemirror_mode": {
    "name": "ipython",
    "version": 3
   },
   "file_extension": ".py",
   "mimetype": "text/x-python",
   "name": "python",
   "nbconvert_exporter": "python",
   "pygments_lexer": "ipython3",
   "version": "3.8.8"
  }
 },
 "nbformat": 4,
 "nbformat_minor": 5
}
