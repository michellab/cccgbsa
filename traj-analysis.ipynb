{
 "cells": [
  {
   "cell_type": "markdown",
   "id": "58017277",
   "metadata": {},
   "source": [
    "# Trajectory Analysis"
   ]
  },
  {
   "cell_type": "code",
   "execution_count": null,
   "id": "d3aacead",
   "metadata": {},
   "outputs": [],
   "source": [
    "import ampal\n",
    "import nglview as nv"
   ]
  },
  {
   "cell_type": "code",
   "execution_count": null,
   "id": "e3a99e87",
   "metadata": {},
   "outputs": [],
   "source": [
    "import numpy as np\n",
    "import matplotlib.pyplot as plt\n",
    "import mdtraj as md"
   ]
  },
  {
   "cell_type": "code",
   "execution_count": null,
   "id": "98e0dd16",
   "metadata": {},
   "outputs": [],
   "source": [
    "#my_protein = ampal.load_pdb('/home/eva/Documents/analysis/test-onechain-GLH.pdb')"
   ]
  },
  {
   "cell_type": "code",
   "execution_count": null,
   "id": "5b4772db",
   "metadata": {},
   "outputs": [],
   "source": [
    "#my_protein.sequences"
   ]
  },
  {
   "cell_type": "markdown",
   "id": "a4dd6ab4",
   "metadata": {},
   "source": [
    "Loading the trajectory and topology files:"
   ]
  },
  {
   "cell_type": "code",
   "execution_count": null,
   "id": "7c27e4a1",
   "metadata": {},
   "outputs": [],
   "source": [
    "traj = md.load('/home/eva/Documents/gbsa-sims/sims-1/tet_L24E/GLH/dcd/6q5i_GLH_output.dcd', top = '/home/eva/Documents/structures/tet_L24E/GLH/6q5i_GLH.prmtop')"
   ]
  },
  {
   "cell_type": "code",
   "execution_count": null,
   "id": "e1d8a090",
   "metadata": {},
   "outputs": [],
   "source": [
    "#frame1 = md.load_frame('/home/eva/Documents/gbsa-sims/sims-1/tet_L24E/GLH/dcd/6q5i_GLH_output.dcd', 0, top = '/home/eva/Documents/structures/tet_L24E/GLH/6q5i_GLH.prmtop')"
   ]
  },
  {
   "cell_type": "code",
   "execution_count": null,
   "id": "807938c4",
   "metadata": {},
   "outputs": [],
   "source": [
    "#frame1.save_pdb('test.pdb')"
   ]
  },
  {
   "cell_type": "markdown",
   "id": "1cbcd61a",
   "metadata": {},
   "source": [
    "## Structure"
   ]
  },
  {
   "cell_type": "code",
   "execution_count": null,
   "id": "1498d7f3",
   "metadata": {},
   "outputs": [],
   "source": [
    "def show_ball_and_stick(ampal):\n",
    "    view = nv.show_text(ampal.pdb)\n",
    "    view.add_ball_and_stick()\n",
    "    view.remove_cartoon()\n",
    "    return view"
   ]
  },
  {
   "cell_type": "code",
   "execution_count": null,
   "id": "0d7b921b",
   "metadata": {},
   "outputs": [],
   "source": [
    "show_ball_and_stick(my_protein)"
   ]
  },
  {
   "cell_type": "code",
   "execution_count": null,
   "id": "d2433e75",
   "metadata": {},
   "outputs": [],
   "source": []
  },
  {
   "cell_type": "markdown",
   "id": "b1ec9838",
   "metadata": {},
   "source": [
    "Creating a function that will have a list and the number of chains as an input and will split that list according to the number of chains present in the structure:"
   ]
  },
  {
   "cell_type": "code",
   "execution_count": null,
   "id": "c87aea08",
   "metadata": {},
   "outputs": [],
   "source": [
    "#def assembly_splitter(lst, chain_no)"
   ]
  },
  {
   "cell_type": "markdown",
   "id": "59b832b8",
   "metadata": {},
   "source": [
    "Separating the amino acids and the ACE-NH2 caps, and creating lists for their indexes:"
   ]
  },
  {
   "cell_type": "code",
   "execution_count": null,
   "id": "c451d33d",
   "metadata": {},
   "outputs": [],
   "source": [
    "res_obj = traj.topology.residues\n",
    "res_list=[]\n",
    "caps_positions =[]\n",
    "all_residues=[]\n",
    "\n",
    "\n",
    "for res in res_obj:\n",
    "        all_residues.append(str(res))\n",
    "        if res.name == 'ACE' or res.name == 'NHE':\n",
    "            print('excluding the ACE and NH2 caps')\n",
    "            caps_positions.append(str(res))\n",
    "        else:\n",
    "            res_list.append(str(res))\n",
    "            \n",
    "res_idx=[]\n",
    "for res in res_list:\n",
    "    res_idx.append(int(res[3:6]))\n",
    "    \n",
    "caps_idx=[]\n",
    "for cap in caps_positions:\n",
    "    caps_idx.append(int(cap[3:6]))\n",
    "    \n",
    "all_residues_idx=[]\n",
    "for re in all_residues:\n",
    "    all_residues_idx.append(int(re[3:6]))\n",
    "    \n",
    "#len(res_list)\n",
    "#print(caps_positions)\n",
    "#print(res_list)\n",
    "#print(caps_idx)\n",
    "#len(caps_idx)\n",
    "#print(all_residues_idx)"
   ]
  },
  {
   "cell_type": "markdown",
   "id": "bf6da591",
   "metadata": {},
   "source": [
    "Separating the individual chains (based on the positions of the caps):"
   ]
  },
  {
   "cell_type": "code",
   "execution_count": null,
   "id": "628f6cd0",
   "metadata": {},
   "outputs": [],
   "source": [
    "chain_number = int(len(caps_idx)/2)\n",
    "print('the number of chains in the structure is', chain_number)"
   ]
  },
  {
   "cell_type": "markdown",
   "id": "18c67359",
   "metadata": {},
   "source": [
    "Separating the caps by type:"
   ]
  },
  {
   "cell_type": "code",
   "execution_count": null,
   "id": "c63c1699",
   "metadata": {},
   "outputs": [],
   "source": [
    "ace=caps_idx[0::2]\n",
    "nh2=caps_idx[1::2]"
   ]
  },
  {
   "cell_type": "code",
   "execution_count": null,
   "id": "136f7895",
   "metadata": {},
   "outputs": [],
   "source": [
    "chain_list=[]\n",
    "chain=[]\n",
    "chain_idx = []\n",
    "all_idx=[]\n",
    "\n",
    "for i in range(len(ace)):\n",
    "    chain = all_residues[(ace[i]+1):(nh2[i])]\n",
    "    chain_list.append(chain)\n",
    "    chain=[]\n",
    "\n",
    "for ch in chain_list:\n",
    "    for re in ch:\n",
    "        all_idx.append(int(re[3:6]))    \n",
    "\n",
    "for i in range(len(ace)):\n",
    "    chain = all_residues_idx[(ace[i]+1):(nh2[i])]\n",
    "    chain_idx.append(chain)\n",
    "    chain=[]\n",
    "\n",
    "#print(all_idx)\n",
    "#print(chain_idx)"
   ]
  },
  {
   "cell_type": "markdown",
   "id": "6658c4ea",
   "metadata": {},
   "source": [
    "We can view the sequence and residue indexes of a single chain with:"
   ]
  },
  {
   "cell_type": "code",
   "execution_count": null,
   "id": "a507e6b3",
   "metadata": {},
   "outputs": [],
   "source": [
    "#chain_list[0]"
   ]
  },
  {
   "cell_type": "code",
   "execution_count": null,
   "id": "a2209cc4",
   "metadata": {},
   "outputs": [],
   "source": [
    "#chain_idx[0]"
   ]
  },
  {
   "cell_type": "markdown",
   "id": "089c9444",
   "metadata": {},
   "source": [
    "## RMSD calculation"
   ]
  },
  {
   "cell_type": "markdown",
   "id": "9b80dfd7",
   "metadata": {},
   "source": [
    "Getting the syntax for the atom expression:"
   ]
  },
  {
   "cell_type": "code",
   "execution_count": null,
   "id": "09468120",
   "metadata": {},
   "outputs": [],
   "source": [
    "selection = traj.topology.select_expression('backbone')\n",
    "print(selection)"
   ]
  },
  {
   "cell_type": "markdown",
   "id": "f94cb2ad",
   "metadata": {},
   "source": [
    "Calculating the RMSD from the first frame (initial structure), for the backbone atoms:"
   ]
  },
  {
   "cell_type": "code",
   "execution_count": null,
   "id": "6166b14c",
   "metadata": {},
   "outputs": [],
   "source": [
    "rmsds = md.rmsd(traj, traj, 0, atom_indices = [a.index for a in traj.topology.atoms if a.is_backbone])"
   ]
  },
  {
   "cell_type": "markdown",
   "id": "b6c2bdfa",
   "metadata": {},
   "source": [
    "Creating an array for time (4 fs timestep, 200 ns simulation time):"
   ]
  },
  {
   "cell_type": "code",
   "execution_count": null,
   "id": "1905e0e7",
   "metadata": {},
   "outputs": [],
   "source": [
    "t = np.arange(0.0, 200.0, 0.004)"
   ]
  },
  {
   "cell_type": "markdown",
   "id": "ca7c6c98",
   "metadata": {},
   "source": [
    "Creating the RMSD plot:"
   ]
  },
  {
   "cell_type": "code",
   "execution_count": null,
   "id": "996f0465",
   "metadata": {},
   "outputs": [],
   "source": [
    "fig,ax = plt.subplots()\n",
    "ax.plot(t, rmsds)\n",
    "ax.set(xlabel='t (ns)', ylabel='RMSD (nm)', title='RMSD')\n",
    "ax.grid()\n",
    "\n",
    "fig.savefig('rmsd.png')\n",
    "plt.show()"
   ]
  },
  {
   "cell_type": "markdown",
   "id": "101ebfdc",
   "metadata": {},
   "source": [
    "## RMSF calculation"
   ]
  },
  {
   "cell_type": "markdown",
   "id": "8461d71e",
   "metadata": {},
   "source": [
    "Getting the syntax for the atom selection:"
   ]
  },
  {
   "cell_type": "code",
   "execution_count": null,
   "id": "20c7170c",
   "metadata": {},
   "outputs": [],
   "source": [
    "selection = traj.topology.select_expression('name CA')\n",
    "print(selection)"
   ]
  },
  {
   "cell_type": "markdown",
   "id": "944a5c95",
   "metadata": {},
   "source": [
    "Calculating the RMSF from the first frame (initial structure) for the CA atoms:"
   ]
  },
  {
   "cell_type": "code",
   "execution_count": null,
   "id": "f41d7bad",
   "metadata": {},
   "outputs": [],
   "source": [
    "rmsfs = md.rmsf(traj, traj, 0, atom_indices = [a.index for a in traj.topology.atoms if a.name == 'CA'])"
   ]
  },
  {
   "cell_type": "markdown",
   "id": "fb95c822",
   "metadata": {},
   "source": [
    "Creating the RMSF plot (per assembly): "
   ]
  },
  {
   "cell_type": "code",
   "execution_count": null,
   "id": "91a8bfdc",
   "metadata": {},
   "outputs": [],
   "source": [
    "fig,ax = plt.subplots()\n",
    "ax.plot(res_idx, rmsfs)\n",
    "ax.set(xlabel='residue number', ylabel='RMSF (nm)', title='RMSF')\n",
    "ax.grid()\n",
    "\n",
    "fig.savefig('rmsf.png')\n",
    "plt.show()"
   ]
  },
  {
   "cell_type": "markdown",
   "id": "282d7467",
   "metadata": {},
   "source": [
    "Creating the RMSF plot per chain (example: first chain)"
   ]
  },
  {
   "cell_type": "code",
   "execution_count": null,
   "id": "f25e9824",
   "metadata": {},
   "outputs": [],
   "source": [
    "chain_length = len(chain_idx[0])"
   ]
  },
  {
   "cell_type": "code",
   "execution_count": null,
   "id": "6e67b236",
   "metadata": {},
   "outputs": [],
   "source": [
    "fig,ax = plt.subplots()\n",
    "ax.plot(chain_idx[0], rmsfs[0*chain_length:1*chain_length])\n",
    "ax.set(xlabel='residue number', ylabel='RMSF (nm)', title='RMSF')\n",
    "ax.grid()\n",
    "\n",
    "fig.savefig('rmsf-per-chain-1.png')\n",
    "plt.show()"
   ]
  },
  {
   "cell_type": "code",
   "execution_count": null,
   "id": "c61f9dbf",
   "metadata": {},
   "outputs": [],
   "source": [
    "#rmsfs[1*chain_length:2*chain_length] #second chain residues"
   ]
  },
  {
   "cell_type": "code",
   "execution_count": null,
   "id": "f20e5f52",
   "metadata": {},
   "outputs": [],
   "source": [
    "#rmsfs[2*chain_length:3*chain_length] #third chain, and so on..."
   ]
  },
  {
   "cell_type": "markdown",
   "id": "77fee456",
   "metadata": {},
   "source": [
    "#### RMSF - all individual chains in one graph"
   ]
  },
  {
   "cell_type": "code",
   "execution_count": null,
   "id": "1e903ad2",
   "metadata": {},
   "outputs": [],
   "source": [
    "fig,ax = plt.subplots()\n",
    "ax.plot(chain_idx[0], rmsfs[0*chain_length:1*chain_length], label = \"chain A\")\n",
    "ax.plot(chain_idx[0], rmsfs[1*chain_length:2*chain_length], label = \"chain B\")\n",
    "ax.plot(chain_idx[0], rmsfs[2*chain_length:3*chain_length], label = \"chain C\")\n",
    "ax.plot(chain_idx[0], rmsfs[3*chain_length:4*chain_length], label = \"chain D\")\n",
    "\n",
    "ax.set(xlabel='residue number', ylabel='RMSF (nm)', title='RMSF')\n",
    "ax.grid()\n",
    "ax.legend()\n",
    "\n",
    "fig.savefig('rmsf-per-chain-multiple.png')\n",
    "plt.show()"
   ]
  },
  {
   "cell_type": "code",
   "execution_count": null,
   "id": "91669217",
   "metadata": {},
   "outputs": [],
   "source": []
  },
  {
   "cell_type": "code",
   "execution_count": null,
   "id": "5417483c",
   "metadata": {},
   "outputs": [],
   "source": []
  },
  {
   "cell_type": "code",
   "execution_count": null,
   "id": "f913801e",
   "metadata": {},
   "outputs": [],
   "source": []
  },
  {
   "cell_type": "code",
   "execution_count": null,
   "id": "b8cc6899",
   "metadata": {},
   "outputs": [],
   "source": []
  },
  {
   "cell_type": "markdown",
   "id": "bed51896",
   "metadata": {},
   "source": [
    "## Secondary structure calculation"
   ]
  },
  {
   "cell_type": "code",
   "execution_count": null,
   "id": "d3c652c7",
   "metadata": {},
   "outputs": [],
   "source": [
    "sec_struct = md.compute_dssp(traj, simplified = False)\n",
    "print(sec_struct)"
   ]
  },
  {
   "cell_type": "markdown",
   "id": "537b23d0",
   "metadata": {},
   "source": [
    "Simplified secondary structure: H = helix, C = coil, E = strand"
   ]
  },
  {
   "cell_type": "code",
   "execution_count": null,
   "id": "699c71dc",
   "metadata": {},
   "outputs": [],
   "source": [
    "sec_struct_simple = md.compute_dssp(traj, simplified=True)\n",
    "print(sec_struct_simple)"
   ]
  },
  {
   "cell_type": "code",
   "execution_count": null,
   "id": "ee5dd7ec",
   "metadata": {},
   "outputs": [],
   "source": [
    "frames = len(sec_struct_simple)\n",
    "print('the number of frames is', frames)"
   ]
  },
  {
   "cell_type": "markdown",
   "id": "f3f882f1",
   "metadata": {},
   "source": [
    "Saving the secondary structure of each residue in the struct_list:"
   ]
  },
  {
   "cell_type": "code",
   "execution_count": null,
   "id": "c4298961",
   "metadata": {},
   "outputs": [],
   "source": [
    "idx = 0\n",
    "struct_list=[]\n",
    "resid_list=[]\n",
    "aa = len(all_residues) #the number of total residues in the assembly\n",
    "\n",
    "for idx in range(0, aa):\n",
    "    for frame in sec_struct_simple:\n",
    "        resid_list.append(frame[idx])\n",
    "    struct_list.append(resid_list)\n",
    "    resid_list=[]"
   ]
  },
  {
   "cell_type": "markdown",
   "id": "8a079656",
   "metadata": {},
   "source": [
    "Getting the secondary structure of the i-th residue with struct_list[i-1] (across the whole simulation):"
   ]
  },
  {
   "cell_type": "code",
   "execution_count": null,
   "id": "936218bc",
   "metadata": {},
   "outputs": [],
   "source": [
    "#print(struct_list[0])\n",
    "#print(len(struct_list[9]))"
   ]
  },
  {
   "cell_type": "markdown",
   "id": "73b0b5c2",
   "metadata": {},
   "source": [
    "Note that this includes the ACE and NH2 caps (sec. struct 'NA')."
   ]
  },
  {
   "cell_type": "markdown",
   "id": "b8cb7cc1",
   "metadata": {},
   "source": [
    "### Helicity per residue calculation"
   ]
  },
  {
   "cell_type": "markdown",
   "id": "2ba67760",
   "metadata": {},
   "source": [
    "The res_list contains all residues with their residue number, whereas the res_idx contains just the residue number (ACE and NH2 caps excluded)"
   ]
  },
  {
   "cell_type": "code",
   "execution_count": null,
   "id": "ca7e56a5",
   "metadata": {},
   "outputs": [],
   "source": [
    "#print(res_list)\n",
    "#print(res_idx)"
   ]
  },
  {
   "cell_type": "markdown",
   "id": "fb37bd2b",
   "metadata": {},
   "source": [
    "Calculating the helicity per residue - excluding caps:"
   ]
  },
  {
   "cell_type": "code",
   "execution_count": null,
   "id": "0e1691a3",
   "metadata": {},
   "outputs": [],
   "source": [
    "count = 0\n",
    "helicity_per_residue = []\n",
    "helicity = 0\n",
    "\n",
    "for res in struct_list:\n",
    "    if 'NA' in res:\n",
    "        print('excluding the ACE and NH2 caps')   \n",
    "    else:\n",
    "        for snapshot in res:\n",
    "            if snapshot == 'H':\n",
    "                count+=1\n",
    "            helicity = (count/frames)*100\n",
    "        helicity_per_residue.append(helicity)\n",
    "        count=0"
   ]
  },
  {
   "cell_type": "code",
   "execution_count": null,
   "id": "dda98706",
   "metadata": {},
   "outputs": [],
   "source": [
    "#len(helicity_per_residue)\n",
    "#print(helicity_per_residue)"
   ]
  },
  {
   "cell_type": "markdown",
   "id": "a63a7a86",
   "metadata": {},
   "source": [
    "Creating the %helicity per residue plot:"
   ]
  },
  {
   "cell_type": "code",
   "execution_count": null,
   "id": "ad98f7c2",
   "metadata": {},
   "outputs": [],
   "source": [
    "fig,ax = plt.subplots()\n",
    "ax.plot(res_idx, helicity_per_residue)\n",
    "ax.set(xlabel='residue number', ylabel='%helicity per residue', title='%helicity per residue')\n",
    "ax.grid()\n",
    "\n",
    "fig.savefig('hpr.png')\n",
    "plt.show()"
   ]
  },
  {
   "cell_type": "markdown",
   "id": "1adb20d6",
   "metadata": {},
   "source": [
    "### Helicity per chain calculation"
   ]
  },
  {
   "cell_type": "code",
   "execution_count": null,
   "id": "9f896caa",
   "metadata": {},
   "outputs": [],
   "source": [
    "fig,ax = plt.subplots()\n",
    "ax.plot(chain_idx[0], helicity_per_residue[0*chain_length:1*chain_length])\n",
    "ax.set(xlabel='residue number', ylabel='%helicity per residue', title='%helicity per residue')\n",
    "ax.grid()\n",
    "\n",
    "fig.savefig('hpr-per-chain-1.png')\n",
    "plt.show()"
   ]
  },
  {
   "cell_type": "markdown",
   "id": "6af6eec6",
   "metadata": {},
   "source": [
    "#### Helicity per residue plot - all individual chains in one graph"
   ]
  },
  {
   "cell_type": "code",
   "execution_count": null,
   "id": "6603e8be",
   "metadata": {},
   "outputs": [],
   "source": [
    "fig,ax = plt.subplots()\n",
    "ax.plot(chain_idx[0], helicity_per_residue[0*chain_length:1*chain_length], label = \"chain A\")\n",
    "ax.plot(chain_idx[0], helicity_per_residue[1*chain_length:2*chain_length], label = \"chain B\")\n",
    "ax.plot(chain_idx[0], helicity_per_residue[2*chain_length:3*chain_length], label = \"chain C\")\n",
    "ax.plot(chain_idx[0], helicity_per_residue[3*chain_length:4*chain_length], label = \"chain D\")\n",
    "\n",
    "ax.set(xlabel='residue number', ylabel='%helicity per residue', title='%helicity per residue')\n",
    "ax.grid()\n",
    "ax.legend()\n",
    "\n",
    "fig.savefig('hpr-per-chain-multiple.png')\n",
    "plt.show()"
   ]
  },
  {
   "cell_type": "code",
   "execution_count": null,
   "id": "de0625f4",
   "metadata": {},
   "outputs": [],
   "source": []
  },
  {
   "cell_type": "markdown",
   "id": "52eb0261",
   "metadata": {},
   "source": [
    "## Hydrogen bonds calculation"
   ]
  },
  {
   "cell_type": "markdown",
   "id": "a6dfb9b5",
   "metadata": {},
   "source": [
    "Each row in the resulting array contains the donor atom, the hydrogen atom and the acceptor atom indices."
   ]
  },
  {
   "cell_type": "code",
   "execution_count": null,
   "id": "166ec715",
   "metadata": {},
   "outputs": [],
   "source": [
    "hbonds = md.baker_hubbard(traj, freq=0.1, exclude_water=True, periodic=False, sidechain_only=False, distance_cutoff=0.25, angle_cutoff=120)\n",
    "\n",
    "print(hbonds)"
   ]
  },
  {
   "cell_type": "code",
   "execution_count": null,
   "id": "a6fb525a",
   "metadata": {},
   "outputs": [],
   "source": [
    "label = lambda hbond : '%s -- %s' % (traj.topology.atom(hbond[0]), traj.topology.atom(hbond[2]))"
   ]
  },
  {
   "cell_type": "code",
   "execution_count": null,
   "id": "3cae8e0c",
   "metadata": {},
   "outputs": [],
   "source": [
    "for hbond in hbonds:\n",
    "    print (label(hbond))"
   ]
  },
  {
   "cell_type": "markdown",
   "id": "2dd521ef",
   "metadata": {},
   "source": [
    "## "
   ]
  }
 ],
 "metadata": {
  "kernelspec": {
   "display_name": "Python 3 (ipykernel)",
   "language": "python",
   "name": "python3"
  },
  "language_info": {
   "codemirror_mode": {
    "name": "ipython",
    "version": 3
   },
   "file_extension": ".py",
   "mimetype": "text/x-python",
   "name": "python",
   "nbconvert_exporter": "python",
   "pygments_lexer": "ipython3",
   "version": "3.8.8"
  }
 },
 "nbformat": 4,
 "nbformat_minor": 5
}
