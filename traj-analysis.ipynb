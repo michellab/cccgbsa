{
 "cells": [
  {
   "cell_type": "markdown",
   "id": "58017277",
   "metadata": {},
   "source": [
    "# Trajectory Analysis"
   ]
  },
  {
   "cell_type": "code",
   "execution_count": 1,
   "id": "d3aacead",
   "metadata": {},
   "outputs": [
    {
     "data": {
      "application/vnd.jupyter.widget-view+json": {
       "model_id": "c86a1e459e564f6c95d07275b3d33b3c",
       "version_major": 2,
       "version_minor": 0
      },
      "text/plain": []
     },
     "metadata": {},
     "output_type": "display_data"
    }
   ],
   "source": [
    "import ampal\n",
    "import nglview as nv"
   ]
  },
  {
   "cell_type": "code",
   "execution_count": 2,
   "id": "e3a99e87",
   "metadata": {},
   "outputs": [
    {
     "name": "stderr",
     "output_type": "stream",
     "text": [
      "Warning: importing 'simtk.openmm' is deprecated.  Import 'openmm' instead.\n"
     ]
    }
   ],
   "source": [
    "import numpy as np\n",
    "import matplotlib.pyplot as plt\n",
    "import mdtraj as md"
   ]
  },
  {
   "cell_type": "code",
   "execution_count": 3,
   "id": "98e0dd16",
   "metadata": {},
   "outputs": [],
   "source": [
    "#my_protein = ampal.load_pdb('/home/eva/Documents/analysis/test.pdb')"
   ]
  },
  {
   "cell_type": "code",
   "execution_count": 4,
   "id": "5b4772db",
   "metadata": {},
   "outputs": [],
   "source": [
    "#my_protein.sequences"
   ]
  },
  {
   "cell_type": "markdown",
   "id": "a4dd6ab4",
   "metadata": {},
   "source": [
    "Loading the trajectory and topology files:"
   ]
  },
  {
   "cell_type": "code",
   "execution_count": 5,
   "id": "7c27e4a1",
   "metadata": {},
   "outputs": [],
   "source": [
    "traj = md.load('/home/eva/Documents/gbsa-sims/sims-1/tet_L24E/GLH/dcd/6q5i_GLH_output.dcd', top = '/home/eva/Documents/structures/tet_L24E/GLH/6q5i_GLH.prmtop')"
   ]
  },
  {
   "cell_type": "code",
   "execution_count": 6,
   "id": "e1d8a090",
   "metadata": {},
   "outputs": [],
   "source": [
    "#frame1 = md.load_frame('/home/eva/Documents/gbsa-sims/sims-1/tet_L24E/GLH/dcd/6q5i_GLH_output.dcd', 0, top = '/home/eva/Documents/structures/tet_L24E/GLH/6q5i_GLH.prmtop')"
   ]
  },
  {
   "cell_type": "code",
   "execution_count": 7,
   "id": "807938c4",
   "metadata": {},
   "outputs": [],
   "source": [
    "#frame1.save_pdb('test.pdb')"
   ]
  },
  {
   "cell_type": "markdown",
   "id": "1cbcd61a",
   "metadata": {},
   "source": [
    "## Structure"
   ]
  },
  {
   "cell_type": "code",
   "execution_count": null,
   "id": "1498d7f3",
   "metadata": {},
   "outputs": [],
   "source": []
  },
  {
   "cell_type": "markdown",
   "id": "b1ec9838",
   "metadata": {},
   "source": [
    "Creating a function that will have a list and the number of chains as an input and will split that list according to the number of chains present in the structure:"
   ]
  },
  {
   "cell_type": "code",
   "execution_count": 8,
   "id": "c87aea08",
   "metadata": {},
   "outputs": [],
   "source": [
    "#def assembly_splitter(lst, chain_no)"
   ]
  },
  {
   "cell_type": "markdown",
   "id": "59b832b8",
   "metadata": {},
   "source": [
    "Separating the amino acids and the ACE-NH2 caps, and creating lists for their indexes:"
   ]
  },
  {
   "cell_type": "code",
   "execution_count": 9,
   "id": "c451d33d",
   "metadata": {},
   "outputs": [
    {
     "name": "stdout",
     "output_type": "stream",
     "text": [
      "excluding the ACE and NH2 caps\n",
      "excluding the ACE and NH2 caps\n",
      "excluding the ACE and NH2 caps\n",
      "excluding the ACE and NH2 caps\n",
      "excluding the ACE and NH2 caps\n",
      "excluding the ACE and NH2 caps\n",
      "excluding the ACE and NH2 caps\n",
      "excluding the ACE and NH2 caps\n"
     ]
    }
   ],
   "source": [
    "res_obj = traj.topology.residues\n",
    "res_list=[]\n",
    "caps_positions =[]\n",
    "all_residues=[]\n",
    "\n",
    "\n",
    "for res in res_obj:\n",
    "        all_residues.append(str(res))\n",
    "        if res.name == 'ACE' or res.name == 'NHE':\n",
    "            print('excluding the ACE and NH2 caps')\n",
    "            caps_positions.append(str(res))\n",
    "        else:\n",
    "            res_list.append(str(res))\n",
    "            \n",
    "res_idx=[]\n",
    "for res in res_list:\n",
    "    res_idx.append(int(res[3:6]))\n",
    "    \n",
    "caps_idx=[]\n",
    "for cap in caps_positions:\n",
    "    caps_idx.append(int(cap[3:6]))\n",
    "    \n",
    "all_residues_idx=[]\n",
    "for re in all_residues:\n",
    "    all_residues_idx.append(int(re[3:6]))\n",
    "    \n",
    "#len(res_list)\n",
    "#print(caps_positions)\n",
    "#print(res_list)\n",
    "#print(caps_idx)\n",
    "#len(caps_idx)\n",
    "#print(all_residues_idx)"
   ]
  },
  {
   "cell_type": "markdown",
   "id": "bf6da591",
   "metadata": {},
   "source": [
    "Separating the individual chains (based on the positions of the caps):"
   ]
  },
  {
   "cell_type": "code",
   "execution_count": 10,
   "id": "628f6cd0",
   "metadata": {},
   "outputs": [
    {
     "name": "stdout",
     "output_type": "stream",
     "text": [
      "the number of chains in the structure is 4\n"
     ]
    }
   ],
   "source": [
    "chain_number = int(len(caps_idx)/2)\n",
    "print('the number of chains in the structure is', chain_number)"
   ]
  },
  {
   "cell_type": "markdown",
   "id": "18c67359",
   "metadata": {},
   "source": [
    "Separating the caps by type:"
   ]
  },
  {
   "cell_type": "code",
   "execution_count": 11,
   "id": "c63c1699",
   "metadata": {},
   "outputs": [],
   "source": [
    "ace=caps_idx[0::2]\n",
    "nh2=caps_idx[1::2]"
   ]
  },
  {
   "cell_type": "code",
   "execution_count": 12,
   "id": "136f7895",
   "metadata": {},
   "outputs": [],
   "source": [
    "chain_list=[]\n",
    "chain=[]\n",
    "chain_idx = []\n",
    "all_idx=[]\n",
    "\n",
    "for i in range(len(ace)):\n",
    "    chain = all_residues[(ace[i]+1):(nh2[i])]\n",
    "    chain_list.append(chain)\n",
    "    chain=[]\n",
    "\n",
    "for ch in chain_list:\n",
    "    for re in ch:\n",
    "        all_idx.append(int(re[3:6]))    \n",
    "\n",
    "for i in range(len(ace)):\n",
    "    chain = all_residues_idx[(ace[i]+1):(nh2[i])]\n",
    "    chain_idx.append(chain)\n",
    "    chain=[]\n",
    "\n",
    "#print(all_idx)\n",
    "#print(chain_idx)"
   ]
  },
  {
   "cell_type": "markdown",
   "id": "6658c4ea",
   "metadata": {},
   "source": [
    "We can view the sequence and residue indexes of a single chain with:"
   ]
  },
  {
   "cell_type": "code",
   "execution_count": 13,
   "id": "a507e6b3",
   "metadata": {},
   "outputs": [],
   "source": [
    "#chain_list[0]"
   ]
  },
  {
   "cell_type": "code",
   "execution_count": 14,
   "id": "a2209cc4",
   "metadata": {},
   "outputs": [],
   "source": [
    "#chain_idx[0]"
   ]
  },
  {
   "cell_type": "markdown",
   "id": "089c9444",
   "metadata": {},
   "source": [
    "## RMSD calculation"
   ]
  },
  {
   "cell_type": "markdown",
   "id": "9b80dfd7",
   "metadata": {},
   "source": [
    "Getting the syntax for the atom expression:"
   ]
  },
  {
   "cell_type": "code",
   "execution_count": 15,
   "id": "09468120",
   "metadata": {},
   "outputs": [
    {
     "name": "stdout",
     "output_type": "stream",
     "text": [
      "[atom.index for atom in topology.atoms if atom.is_backbone\n",
      "]\n"
     ]
    }
   ],
   "source": [
    "selection = traj.topology.select_expression('backbone')\n",
    "print(selection)"
   ]
  },
  {
   "cell_type": "markdown",
   "id": "f94cb2ad",
   "metadata": {},
   "source": [
    "Calculating the RMSD from the first frame (initial structure), for the backbone atoms:"
   ]
  },
  {
   "cell_type": "code",
   "execution_count": 16,
   "id": "6166b14c",
   "metadata": {},
   "outputs": [],
   "source": [
    "rmsds = md.rmsd(traj, traj, 0, atom_indices = [a.index for a in traj.topology.atoms if a.is_backbone])"
   ]
  },
  {
   "cell_type": "markdown",
   "id": "b6c2bdfa",
   "metadata": {},
   "source": [
    "Creating an array for time (4 fs timestep, 200 ns simulation time):"
   ]
  },
  {
   "cell_type": "code",
   "execution_count": 17,
   "id": "1905e0e7",
   "metadata": {},
   "outputs": [],
   "source": [
    "t = np.arange(0.0, 200.0, 0.004)"
   ]
  },
  {
   "cell_type": "markdown",
   "id": "ca7c6c98",
   "metadata": {},
   "source": [
    "Creating the RMSD plot:"
   ]
  },
  {
   "cell_type": "code",
   "execution_count": 18,
   "id": "996f0465",
   "metadata": {},
   "outputs": [
    {
     "data": {
      "image/png": "[encoded data removed]",
      "text/plain": [
       "<Figure size 432x288 with 1 Axes>"
      ]
     },
     "metadata": {
      "needs_background": "light"
     },
     "output_type": "display_data"
    }
   ],
   "source": [
    "fig,ax = plt.subplots()\n",
    "ax.plot(t, rmsds)\n",
    "ax.set(xlabel='t (ns)', ylabel='RMSD (nm)', title='RMSD')\n",
    "ax.grid()\n",
    "\n",
    "fig.savefig('rmsd.png')\n",
    "plt.show()"
   ]
  },
  {
   "cell_type": "markdown",
   "id": "101ebfdc",
   "metadata": {},
   "source": [
    "## RMSF calculation"
   ]
  },
  {
   "cell_type": "markdown",
   "id": "8461d71e",
   "metadata": {},
   "source": [
    "Getting the syntax for the atom selection:"
   ]
  },
  {
   "cell_type": "code",
   "execution_count": 19,
   "id": "20c7170c",
   "metadata": {},
   "outputs": [
    {
     "name": "stdout",
     "output_type": "stream",
     "text": [
      "[atom.index for atom in topology.atoms if (atom.name == 'CA')\n",
      "]\n"
     ]
    }
   ],
   "source": [
    "selection = traj.topology.select_expression('name CA')\n",
    "print(selection)"
   ]
  },
  {
   "cell_type": "markdown",
   "id": "944a5c95",
   "metadata": {},
   "source": [
    "Calculating the RMSF from the first frame (initial structure) for the CA atoms:"
   ]
  },
  {
   "cell_type": "code",
   "execution_count": 20,
   "id": "f41d7bad",
   "metadata": {},
   "outputs": [],
   "source": [
    "rmsfs = md.rmsf(traj, traj, 0, atom_indices = [a.index for a in traj.topology.atoms if a.name == 'CA'])"
   ]
  },
  {
   "cell_type": "markdown",
   "id": "fb95c822",
   "metadata": {},
   "source": [
    "Creating the RMSF plot (per assembly): "
   ]
  },
  {
   "cell_type": "code",
   "execution_count": 21,
   "id": "91a8bfdc",
   "metadata": {},
   "outputs": [
    {
     "data": {
      "image/png": "[encoded data removed]",
      "text/plain": [
       "<Figure size 432x288 with 1 Axes>"
      ]
     },
     "metadata": {
      "needs_background": "light"
     },
     "output_type": "display_data"
    }
   ],
   "source": [
    "fig,ax = plt.subplots()\n",
    "ax.plot(res_idx, rmsfs)\n",
    "ax.set(xlabel='residue number', ylabel='RMSF (nm)', title='RMSF')\n",
    "ax.grid()\n",
    "\n",
    "fig.savefig('rmsf.png')\n",
    "plt.show()"
   ]
  },
  {
   "cell_type": "markdown",
   "id": "282d7467",
   "metadata": {},
   "source": [
    "Creating the RMSF plot per chain (example: first chain)"
   ]
  },
  {
   "cell_type": "code",
   "execution_count": 22,
   "id": "f25e9824",
   "metadata": {},
   "outputs": [],
   "source": [
    "chain_length = len(chain_idx[0])"
   ]
  },
  {
   "cell_type": "code",
   "execution_count": 43,
   "id": "6e67b236",
   "metadata": {},
   "outputs": [
    {
     "data": {
      "image/png": "[encoded data removed]",
      "text/plain": [
       "<Figure size 432x288 with 1 Axes>"
      ]
     },
     "metadata": {
      "needs_background": "light"
     },
     "output_type": "display_data"
    }
   ],
   "source": [
    "fig,ax = plt.subplots()\n",
    "ax.plot(chain_idx[0], rmsfs[0*chain_length:1*chain_length])\n",
    "ax.set(xlabel='residue number', ylabel='RMSF (nm)', title='RMSF')\n",
    "ax.grid()\n",
    "\n",
    "fig.savefig('rmsf-per-chain-1.png')\n",
    "plt.show()"
   ]
  },
  {
   "cell_type": "code",
   "execution_count": 24,
   "id": "c61f9dbf",
   "metadata": {},
   "outputs": [],
   "source": [
    "#rmsfs[chain_length:2*chain_length] #second chain"
   ]
  },
  {
   "cell_type": "code",
   "execution_count": 25,
   "id": "f20e5f52",
   "metadata": {},
   "outputs": [],
   "source": [
    "#rmsfs[2*chain_length:3*chain_length] #third chain, and so on..."
   ]
  },
  {
   "cell_type": "markdown",
   "id": "bed51896",
   "metadata": {},
   "source": [
    "## Secondary structure calculation"
   ]
  },
  {
   "cell_type": "code",
   "execution_count": 26,
   "id": "d3c652c7",
   "metadata": {},
   "outputs": [
    {
     "name": "stdout",
     "output_type": "stream",
     "text": [
      "[['NA' ' ' 'H' ... 'H' ' ' 'NA']\n",
      " ['NA' ' ' 'H' ... 'T' ' ' 'NA']\n",
      " ['NA' ' ' 'T' ... 'H' ' ' 'NA']\n",
      " ...\n",
      " ['NA' ' ' 'T' ... ' ' ' ' 'NA']\n",
      " ['NA' ' ' 'T' ... ' ' ' ' 'NA']\n",
      " ['NA' ' ' 'T' ... ' ' ' ' 'NA']]\n"
     ]
    }
   ],
   "source": [
    "sec_struct = md.compute_dssp(traj, simplified = False)\n",
    "print(sec_struct)"
   ]
  },
  {
   "cell_type": "markdown",
   "id": "537b23d0",
   "metadata": {},
   "source": [
    "Simplified secondary structure: H = helix, C = coil, E = strand"
   ]
  },
  {
   "cell_type": "code",
   "execution_count": 27,
   "id": "699c71dc",
   "metadata": {},
   "outputs": [
    {
     "name": "stdout",
     "output_type": "stream",
     "text": [
      "[['NA' 'C' 'H' ... 'H' 'C' 'NA']\n",
      " ['NA' 'C' 'H' ... 'C' 'C' 'NA']\n",
      " ['NA' 'C' 'C' ... 'H' 'C' 'NA']\n",
      " ...\n",
      " ['NA' 'C' 'C' ... 'C' 'C' 'NA']\n",
      " ['NA' 'C' 'C' ... 'C' 'C' 'NA']\n",
      " ['NA' 'C' 'C' ... 'C' 'C' 'NA']]\n"
     ]
    }
   ],
   "source": [
    "sec_struct_simple = md.compute_dssp(traj, simplified=True)\n",
    "print(sec_struct_simple)"
   ]
  },
  {
   "cell_type": "code",
   "execution_count": 28,
   "id": "ee5dd7ec",
   "metadata": {},
   "outputs": [
    {
     "name": "stdout",
     "output_type": "stream",
     "text": [
      "the number of frames is 50000\n"
     ]
    }
   ],
   "source": [
    "frames = len(sec_struct_simple)\n",
    "print('the number of frames is', frames)"
   ]
  },
  {
   "cell_type": "markdown",
   "id": "f3f882f1",
   "metadata": {},
   "source": [
    "Saving the secondary structure of each residue in the struct_list:"
   ]
  },
  {
   "cell_type": "code",
   "execution_count": 29,
   "id": "c4298961",
   "metadata": {},
   "outputs": [],
   "source": [
    "idx = 0\n",
    "struct_list=[]\n",
    "resid_list=[]\n",
    "aa = len(all_residues) #the number of total residues in the assembly\n",
    "\n",
    "for idx in range(0, aa):\n",
    "    for frame in sec_struct_simple:\n",
    "        resid_list.append(frame[idx])\n",
    "    struct_list.append(resid_list)\n",
    "    resid_list=[]"
   ]
  },
  {
   "cell_type": "markdown",
   "id": "8a079656",
   "metadata": {},
   "source": [
    "Getting the secondary structure of the i-th residue with struct_list[i-1] (across the whole simulation):"
   ]
  },
  {
   "cell_type": "code",
   "execution_count": 30,
   "id": "936218bc",
   "metadata": {},
   "outputs": [],
   "source": [
    "#print(struct_list[9])\n",
    "#print(len(struct_list[9]))"
   ]
  },
  {
   "cell_type": "markdown",
   "id": "73b0b5c2",
   "metadata": {},
   "source": [
    "Note that this includes the ACE and NH2 caps (sec. struct 'NA')."
   ]
  },
  {
   "cell_type": "markdown",
   "id": "b8cb7cc1",
   "metadata": {},
   "source": [
    "### Helicity per residue calculation"
   ]
  },
  {
   "cell_type": "markdown",
   "id": "2ba67760",
   "metadata": {},
   "source": [
    "The res_list contains all residues with their residue number, whereas the res_idx contains just the residue number (ACE and NH2 caps excluded)"
   ]
  },
  {
   "cell_type": "code",
   "execution_count": 31,
   "id": "ca7e56a5",
   "metadata": {},
   "outputs": [],
   "source": [
    "#print(res_list)\n",
    "#print(res_idx)"
   ]
  },
  {
   "cell_type": "markdown",
   "id": "fb37bd2b",
   "metadata": {},
   "source": [
    "Calculating the helicity per residue - excluding caps:"
   ]
  },
  {
   "cell_type": "code",
   "execution_count": 32,
   "id": "0e1691a3",
   "metadata": {},
   "outputs": [
    {
     "name": "stdout",
     "output_type": "stream",
     "text": [
      "excluding the ACE and NH2 caps\n",
      "excluding the ACE and NH2 caps\n",
      "excluding the ACE and NH2 caps\n",
      "excluding the ACE and NH2 caps\n",
      "excluding the ACE and NH2 caps\n",
      "excluding the ACE and NH2 caps\n",
      "excluding the ACE and NH2 caps\n",
      "excluding the ACE and NH2 caps\n"
     ]
    }
   ],
   "source": [
    "count = 0\n",
    "helicity_per_residue = []\n",
    "helicity = 0\n",
    "\n",
    "for res in struct_list:\n",
    "    if 'NA' in res:\n",
    "        print('excluding the ACE and NH2 caps')   \n",
    "    else:\n",
    "        for snapshot in res:\n",
    "            if snapshot == 'H':\n",
    "                count+=1\n",
    "            helicity = (count/frames)*100\n",
    "        helicity_per_residue.append(helicity)\n",
    "        count=0"
   ]
  },
  {
   "cell_type": "code",
   "execution_count": 33,
   "id": "dda98706",
   "metadata": {},
   "outputs": [],
   "source": [
    "#len(helicity_per_residue)\n",
    "#print(helicity_per_residue)"
   ]
  },
  {
   "cell_type": "markdown",
   "id": "a63a7a86",
   "metadata": {},
   "source": [
    "Creating the %helicity per residue plot:"
   ]
  },
  {
   "cell_type": "code",
   "execution_count": 34,
   "id": "ad98f7c2",
   "metadata": {},
   "outputs": [
    {
     "data": {
      "image/png": "[encoded data removed]",
      "text/plain": [
       "<Figure size 432x288 with 1 Axes>"
      ]
     },
     "metadata": {
      "needs_background": "light"
     },
     "output_type": "display_data"
    }
   ],
   "source": [
    "fig,ax = plt.subplots()\n",
    "ax.plot(res_idx, helicity_per_residue)\n",
    "ax.set(xlabel='residue number', ylabel='%helicity per residue', title='%helicity per residue')\n",
    "ax.grid()\n",
    "\n",
    "fig.savefig('hpr.png')\n",
    "plt.show()"
   ]
  },
  {
   "cell_type": "markdown",
   "id": "1adb20d6",
   "metadata": {},
   "source": [
    "### Helicity per chain calculation"
   ]
  },
  {
   "cell_type": "code",
   "execution_count": 48,
   "id": "9f896caa",
   "metadata": {},
   "outputs": [
    {
     "data": {
      "image/png": "[encoded data removed]",
      "text/plain": [
       "<Figure size 432x288 with 1 Axes>"
      ]
     },
     "metadata": {
      "needs_background": "light"
     },
     "output_type": "display_data"
    }
   ],
   "source": [
    "fig,ax = plt.subplots()\n",
    "ax.plot(chain_idx[0], helicity_per_residue[0*chain_length:1*chain_length])\n",
    "ax.set(xlabel='residue number', ylabel='%helicity per residue', title='%helicity per residue')\n",
    "ax.grid()\n",
    "\n",
    "fig.savefig('hpr-per-chain-1.png')\n",
    "plt.show()"
   ]
  },
  {
   "cell_type": "markdown",
   "id": "6af6eec6",
   "metadata": {},
   "source": [
    "Helicity per residue plot - all individual chains in one graph"
   ]
  },
  {
   "cell_type": "code",
   "execution_count": null,
   "id": "6603e8be",
   "metadata": {},
   "outputs": [],
   "source": []
  },
  {
   "cell_type": "code",
   "execution_count": null,
   "id": "9f7c0921",
   "metadata": {},
   "outputs": [],
   "source": []
  },
  {
   "cell_type": "code",
   "execution_count": null,
   "id": "bd188ab2",
   "metadata": {},
   "outputs": [],
   "source": []
  },
  {
   "cell_type": "code",
   "execution_count": null,
   "id": "de0625f4",
   "metadata": {},
   "outputs": [],
   "source": []
  },
  {
   "cell_type": "markdown",
   "id": "52eb0261",
   "metadata": {},
   "source": [
    "## Hydrogen bonds calculation"
   ]
  },
  {
   "cell_type": "markdown",
   "id": "a6dfb9b5",
   "metadata": {},
   "source": [
    "Each row in the resulting array contains the donor atom, the hydrogen atom and the acceptor atom indices."
   ]
  },
  {
   "cell_type": "code",
   "execution_count": 36,
   "id": "166ec715",
   "metadata": {},
   "outputs": [
    {
     "name": "stdout",
     "output_type": "stream",
     "text": [
      "[[  13   14   24]\n",
      " [  29   30  875]\n",
      " [  29   30  876]\n",
      " [  48   49   12]\n",
      " [  48   49  875]\n",
      " [  70   71   12]\n",
      " [  70   71   28]\n",
      " [  80   81   28]\n",
      " [  80   81   47]\n",
      " [  99  100   47]\n",
      " [ 121  123   69]\n",
      " [ 109  110   69]\n",
      " [ 126  127   79]\n",
      " [ 126  127   98]\n",
      " [ 142  143   98]\n",
      " [ 161  162  108]\n",
      " [ 183  184  125]\n",
      " [ 183  184  141]\n",
      " [ 193  194  141]\n",
      " [ 193  194  160]\n",
      " [ 212  213  160]\n",
      " [ 222  223  182]\n",
      " [ 222  223  192]\n",
      " [ 244  245  192]\n",
      " [ 244  245  211]\n",
      " [ 260  261  211]\n",
      " [ 279  280  221]\n",
      " [ 279  280  243]\n",
      " [ 301  302  243]\n",
      " [ 301  302  259]\n",
      " [ 311  312  259]\n",
      " [ 311  312  278]\n",
      " [ 330  331  278]\n",
      " [ 330  331  300]\n",
      " [ 330  331  310]\n",
      " [ 350  351  310]\n",
      " [ 340  341  300]\n",
      " [ 364  365  310]\n",
      " [ 364  365  329]\n",
      " [ 380  381  329]\n",
      " [ 380  381  339]\n",
      " [ 396  397  339]\n",
      " [ 396  397  379]\n",
      " [ 418  419  363]\n",
      " [ 418  419  379]\n",
      " [ 418  419 1395]\n",
      " [ 418  419 1414]\n",
      " [ 428  429  379]\n",
      " [ 428  429  395]\n",
      " [ 447  448  395]\n",
      " [ 447  448  417]\n",
      " [ 457  458  417]\n",
      " [ 474  475  417]\n",
      " [ 490  491  456]\n",
      " [ 497  498  480]\n",
      " [ 513  514  446]\n",
      " [ 532  533  496]\n",
      " [ 554  555  496]\n",
      " [ 554  555  512]\n",
      " [ 564  565  512]\n",
      " [ 564  565  531]\n",
      " [ 583  584  531]\n",
      " [ 605  607  553]\n",
      " [ 593  594  553]\n",
      " [ 610  611  563]\n",
      " [ 610  611  582]\n",
      " [ 626  627  582]\n",
      " [ 645  646  592]\n",
      " [ 667  668  609]\n",
      " [ 667  668  625]\n",
      " [ 677  678  625]\n",
      " [ 696  697  644]\n",
      " [ 706  707  666]\n",
      " [ 728  729  676]\n",
      " [ 728  729  695]\n",
      " [ 744  745  695]\n",
      " [ 763  764  705]\n",
      " [ 785  786  727]\n",
      " [ 785  786  743]\n",
      " [ 795  796  743]\n",
      " [ 795  796  762]\n",
      " [ 814  815  762]\n",
      " [ 814  815  784]\n",
      " [ 834  835  794]\n",
      " [ 824  825  784]\n",
      " [ 848  849  813]\n",
      " [ 864  865  813]\n",
      " [ 864  865  823]\n",
      " [ 864  865  847]\n",
      " [ 880  881 1869]\n",
      " [ 902  903  863]\n",
      " [ 912  913  863]\n",
      " [ 912  913  879]\n",
      " [ 931  932  863]\n",
      " [ 931  932  879]\n",
      " [ 953  955 1815]\n",
      " [ 941  942  930]\n",
      " [ 941  942 1831]\n",
      " [ 981  982 1925]\n",
      " [ 997  998 1879]\n",
      " [1016 1017 1898]\n",
      " [1038 1039  996]\n",
      " [1048 1049  996]\n",
      " [1048 1049 1015]\n",
      " [1067 1068 1015]\n",
      " [1089 1091 1037]\n",
      " [1077 1078 1037]\n",
      " [1077 1078 1047]\n",
      " [1094 1095 1047]\n",
      " [1094 1095 1066]\n",
      " [1110 1111 1066]\n",
      " [1129 1130 1076]\n",
      " [1151 1152 1093]\n",
      " [1151 1152 1109]\n",
      " [1161 1162 1109]\n",
      " [1180 1181 1128]\n",
      " [1190 1191 1150]\n",
      " [1212 1213 1160]\n",
      " [1228 1229 1179]\n",
      " [1247 1248 1189]\n",
      " [1269 1270 1211]\n",
      " [1269 1270 1227]\n",
      " [1279 1280 1227]\n",
      " [1279 1280 1246]\n",
      " [1298 1299 1246]\n",
      " [1298 1299 1268]\n",
      " [1308 1309 1268]\n",
      " [1308 1309 1278]\n",
      " [1332 1333 1278]\n",
      " [1332 1333 1297]\n",
      " [1348 1349 1278]\n",
      " [1348 1349 1297]\n",
      " [1348 1349 1307]\n",
      " [1364 1365 1347]\n",
      " [1386 1387 1297]\n",
      " [1386 1387 1347]\n",
      " [1396 1397 1347]\n",
      " [1396 1397 1363]\n",
      " [1415 1416 1363]\n",
      " [1415 1416 1385]\n",
      " [1437 1439 1385]\n",
      " [1425 1426 1385]\n",
      " [1425 1426 1414]\n",
      " [1442 1443 1414]\n",
      " [1465 1466  375]\n",
      " [1465 1466  376]\n",
      " [1465 1466 1424]\n",
      " [1481 1482  375]\n",
      " [1481 1482 1424]\n",
      " [1481 1482 1457]\n",
      " [1500 1501 1457]\n",
      " [1500 1501 1464]\n",
      " [1522 1523 1464]\n",
      " [1522 1523 1480]\n",
      " [1532 1533 1480]\n",
      " [1532 1533 1499]\n",
      " [1551 1552 1499]\n",
      " [1573 1575 1521]\n",
      " [1561 1562 1521]\n",
      " [1561 1562 1531]\n",
      " [1578 1579 1531]\n",
      " [1578 1579 1550]\n",
      " [1594 1595 1550]\n",
      " [1613 1614 1560]\n",
      " [1635 1636 1577]\n",
      " [1635 1636 1593]\n",
      " [1645 1646 1593]\n",
      " [1664 1665 1612]\n",
      " [1674 1675 1634]\n",
      " [1674 1675 1644]\n",
      " [1696 1697 1644]\n",
      " [1712 1713 1663]\n",
      " [1731 1732 1673]\n",
      " [1731 1732 1695]\n",
      " [1753 1754 1695]\n",
      " [1753 1754 1711]\n",
      " [1763 1764 1711]\n",
      " [1763 1764 1730]\n",
      " [1782 1783 1730]\n",
      " [1782 1783 1752]\n",
      " [1792 1793 1752]\n",
      " [1792 1793 1762]\n",
      " [1816 1817 1781]\n",
      " [1832 1833 1781]\n",
      " [1832 1833 1791]\n",
      " [1848 1849  930]\n",
      " [1848 1849  957]\n",
      " [1870 1871  930]\n",
      " [1870 1871 1847]\n",
      " [1880 1881 1847]\n",
      " [1899 1900 1869]\n",
      " [1899 1900 1920]\n",
      " [1909 1910 1869]\n",
      " [1909 1910 1879]\n",
      " [1933 1934  973]\n",
      " [ 138  139   79]\n",
      " [ 256  257  192]\n",
      " [ 376  377 1395]\n",
      " [ 392  393  278]\n",
      " [ 392  393 1359]\n",
      " [ 622  623  563]\n",
      " [ 740  741  676]\n",
      " [ 860  861  794]\n",
      " [ 876  877   12]\n",
      " [ 876  877  823]\n",
      " [ 876  877 1843]\n",
      " [1106 1107  621]\n",
      " [1106 1107 1047]\n",
      " [1344 1345 1278]\n",
      " [1590 1591 1531]\n",
      " [1828 1829 1762]\n",
      " [1844 1845 1781]]\n"
     ]
    }
   ],
   "source": [
    "hbonds = md.baker_hubbard(traj, freq=0.1, exclude_water=True, periodic=False, sidechain_only=False, distance_cutoff=0.25, angle_cutoff=120)\n",
    "\n",
    "print(hbonds)"
   ]
  },
  {
   "cell_type": "code",
   "execution_count": 37,
   "id": "a6fb525a",
   "metadata": {},
   "outputs": [],
   "source": [
    "label = lambda hbond : '%s -- %s' % (traj.topology.atom(hbond[0]), traj.topology.atom(hbond[2]))"
   ]
  },
  {
   "cell_type": "code",
   "execution_count": 38,
   "id": "3cae8e0c",
   "metadata": {},
   "outputs": [
    {
     "name": "stdout",
     "output_type": "stream",
     "text": [
      "GLH2-N -- GLH2-OE1\n",
      "LEU3-N -- GLH56-OE1\n",
      "LEU3-N -- GLH56-OE2\n",
      "LYS4-N -- GLY1-O\n",
      "LYS4-N -- GLH56-OE1\n",
      "ALA5-N -- GLY1-O\n",
      "ALA5-N -- GLH2-O\n",
      "ILE6-N -- GLH2-O\n",
      "ILE6-N -- LEU3-O\n",
      "ALA7-N -- LEU3-O\n",
      "GLN8-NE2 -- LYS4-O\n",
      "GLN8-N -- LYS4-O\n",
      "GLH9-N -- ALA5-O\n",
      "GLH9-N -- ILE6-O\n",
      "LEU10-N -- ILE6-O\n",
      "LYS11-N -- ALA7-O\n",
      "ALA12-N -- GLN8-O\n",
      "ALA12-N -- GLH9-O\n",
      "ILE13-N -- GLH9-O\n",
      "ILE13-N -- LEU10-O\n",
      "ALA14-N -- LEU10-O\n",
      "LYS15-N -- LYS11-O\n",
      "LYS15-N -- ALA12-O\n",
      "GLH16-N -- ALA12-O\n",
      "GLH16-N -- ILE13-O\n",
      "LEU17-N -- ILE13-O\n",
      "LYS18-N -- ALA14-O\n",
      "LYS18-N -- LYS15-O\n",
      "ALA19-N -- LYS15-O\n",
      "ALA19-N -- GLH16-O\n",
      "ILE20-N -- GLH16-O\n",
      "ILE20-N -- LEU17-O\n",
      "ALA21-N -- LEU17-O\n",
      "ALA21-N -- LYS18-O\n",
      "ALA21-N -- ALA19-O\n",
      "TRP22-NE1 -- ALA19-O\n",
      "TRP22-N -- LYS18-O\n",
      "GLH23-N -- ALA19-O\n",
      "GLH23-N -- ILE20-O\n",
      "GLH24-N -- ILE20-O\n",
      "GLH24-N -- ALA21-O\n",
      "LYS25-N -- ALA21-O\n",
      "LYS25-N -- GLH23-O\n",
      "ALA26-N -- TRP22-O\n",
      "ALA26-N -- GLH23-O\n",
      "ALA26-N -- ALA90-O\n",
      "ALA26-N -- ILE91-O\n",
      "ILE27-N -- GLH23-O\n",
      "ILE27-N -- GLH24-O\n",
      "ALA28-N -- GLH24-O\n",
      "ALA28-N -- LYS25-O\n",
      "GLN29-N -- LYS25-O\n",
      "GLY30-N -- LYS25-O\n",
      "GLY33-N -- ALA28-O\n",
      "GLH34-N -- GLY30-O\n",
      "LEU35-N -- ILE27-O\n",
      "LYS36-N -- GLY33-O\n",
      "ALA37-N -- GLY33-O\n",
      "ALA37-N -- GLH34-O\n",
      "ILE38-N -- GLH34-O\n",
      "ILE38-N -- LEU35-O\n",
      "ALA39-N -- LEU35-O\n",
      "GLN40-NE2 -- LYS36-O\n",
      "GLN40-N -- LYS36-O\n",
      "GLH41-N -- ALA37-O\n",
      "GLH41-N -- ILE38-O\n",
      "LEU42-N -- ILE38-O\n",
      "LYS43-N -- ALA39-O\n",
      "ALA44-N -- GLN40-O\n",
      "ALA44-N -- GLH41-O\n",
      "ILE45-N -- GLH41-O\n",
      "ALA46-N -- LEU42-O\n",
      "LYS47-N -- LYS43-O\n",
      "GLH48-N -- ALA44-O\n",
      "GLH48-N -- ILE45-O\n",
      "LEU49-N -- ILE45-O\n",
      "LYS50-N -- ALA46-O\n",
      "ALA51-N -- LYS47-O\n",
      "ALA51-N -- GLH48-O\n",
      "ILE52-N -- GLH48-O\n",
      "ILE52-N -- LEU49-O\n",
      "ALA53-N -- LEU49-O\n",
      "ALA53-N -- LYS50-O\n",
      "TRP54-NE1 -- ALA51-O\n",
      "TRP54-N -- LYS50-O\n",
      "GLH55-N -- ILE52-O\n",
      "GLH56-N -- ILE52-O\n",
      "GLH56-N -- ALA53-O\n",
      "GLH56-N -- TRP54-O\n",
      "LYS57-N -- LYS121-O\n",
      "ALA58-N -- GLH55-O\n",
      "ILE59-N -- GLH55-O\n",
      "ILE59-N -- GLH56-O\n",
      "ALA60-N -- GLH55-O\n",
      "ALA60-N -- GLH56-O\n",
      "GLN61-NE2 -- TRP118-O\n",
      "GLN61-N -- ILE59-O\n",
      "GLN61-N -- GLH119-O\n",
      "GLH66-N -- GLN125-O\n",
      "LEU67-N -- ALA122-O\n",
      "LYS68-N -- ILE123-O\n",
      "ALA69-N -- GLH66-O\n",
      "ILE70-N -- GLH66-O\n",
      "ILE70-N -- LEU67-O\n",
      "ALA71-N -- LEU67-O\n",
      "GLN72-NE2 -- LYS68-O\n",
      "GLN72-N -- LYS68-O\n",
      "GLN72-N -- ALA69-O\n",
      "GLH73-N -- ALA69-O\n",
      "GLH73-N -- ILE70-O\n",
      "LEU74-N -- ILE70-O\n",
      "LYS75-N -- ALA71-O\n",
      "ALA76-N -- GLN72-O\n",
      "ALA76-N -- GLH73-O\n",
      "ILE77-N -- GLH73-O\n",
      "ALA78-N -- LEU74-O\n",
      "LYS79-N -- LYS75-O\n",
      "GLH80-N -- ALA76-O\n",
      "LEU81-N -- ILE77-O\n",
      "LYS82-N -- ALA78-O\n",
      "ALA83-N -- LYS79-O\n",
      "ALA83-N -- GLH80-O\n",
      "ILE84-N -- GLH80-O\n",
      "ILE84-N -- LEU81-O\n",
      "ALA85-N -- LEU81-O\n",
      "ALA85-N -- LYS82-O\n",
      "TRP86-N -- LYS82-O\n",
      "TRP86-N -- ALA83-O\n",
      "GLH87-N -- ALA83-O\n",
      "GLH87-N -- ILE84-O\n",
      "GLH88-N -- ALA83-O\n",
      "GLH88-N -- ILE84-O\n",
      "GLH88-N -- ALA85-O\n",
      "LYS89-N -- GLH87-O\n",
      "ALA90-N -- ILE84-O\n",
      "ALA90-N -- GLH87-O\n",
      "ILE91-N -- GLH87-O\n",
      "ILE91-N -- GLH88-O\n",
      "ALA92-N -- GLH88-O\n",
      "ALA92-N -- LYS89-O\n",
      "GLN93-NE2 -- LYS89-O\n",
      "GLN93-N -- LYS89-O\n",
      "GLN93-N -- ILE91-O\n",
      "GLY94-N -- ILE91-O\n",
      "GLH98-N -- GLH23-OE1\n",
      "GLH98-N -- GLH23-OE2\n",
      "GLH98-N -- ALA92-O\n",
      "LEU99-N -- GLH23-OE1\n",
      "LEU99-N -- ALA92-O\n",
      "LEU99-N -- ACE96-O\n",
      "LYS100-N -- ACE96-O\n",
      "LYS100-N -- GLY97-O\n",
      "ALA101-N -- GLY97-O\n",
      "ALA101-N -- GLH98-O\n",
      "ILE102-N -- GLH98-O\n",
      "ILE102-N -- LEU99-O\n",
      "ALA103-N -- LEU99-O\n",
      "GLN104-NE2 -- LYS100-O\n",
      "GLN104-N -- LYS100-O\n",
      "GLN104-N -- ALA101-O\n",
      "GLH105-N -- ALA101-O\n",
      "GLH105-N -- ILE102-O\n",
      "LEU106-N -- ILE102-O\n",
      "LYS107-N -- ALA103-O\n",
      "ALA108-N -- GLN104-O\n",
      "ALA108-N -- GLH105-O\n",
      "ILE109-N -- GLH105-O\n",
      "ALA110-N -- LEU106-O\n",
      "LYS111-N -- LYS107-O\n",
      "LYS111-N -- ALA108-O\n",
      "GLH112-N -- ALA108-O\n",
      "LEU113-N -- ILE109-O\n",
      "LYS114-N -- ALA110-O\n",
      "LYS114-N -- LYS111-O\n",
      "ALA115-N -- LYS111-O\n",
      "ALA115-N -- GLH112-O\n",
      "ILE116-N -- GLH112-O\n",
      "ILE116-N -- LEU113-O\n",
      "ALA117-N -- LEU113-O\n",
      "ALA117-N -- LYS114-O\n",
      "TRP118-N -- LYS114-O\n",
      "TRP118-N -- ALA115-O\n",
      "GLH119-N -- ILE116-O\n",
      "GLH120-N -- ILE116-O\n",
      "GLH120-N -- ALA117-O\n",
      "LYS121-N -- ILE59-O\n",
      "LYS121-N -- GLN61-O\n",
      "ALA122-N -- ILE59-O\n",
      "ALA122-N -- GLH120-O\n",
      "ILE123-N -- GLH120-O\n",
      "ALA124-N -- LYS121-O\n",
      "ALA124-N -- GLN125-OE1\n",
      "GLN125-N -- LYS121-O\n",
      "GLN125-N -- ALA122-O\n",
      "NHE127-N -- ACE64-O\n",
      "GLH9-OE2 -- ALA5-O\n",
      "GLH16-OE2 -- ALA12-O\n",
      "GLH23-OE2 -- ALA90-O\n",
      "GLH24-OE2 -- LEU17-O\n",
      "GLH24-OE2 -- GLH88-OE1\n",
      "GLH41-OE2 -- ALA37-O\n",
      "GLH48-OE2 -- ALA44-O\n",
      "GLH55-OE2 -- ALA51-O\n",
      "GLH56-OE2 -- GLY1-O\n",
      "GLH56-OE2 -- ALA53-O\n",
      "GLH56-OE2 -- GLH120-OE1\n",
      "GLH73-OE2 -- GLH41-OE1\n",
      "GLH73-OE2 -- ALA69-O\n",
      "GLH87-OE2 -- ALA83-O\n",
      "GLH105-OE2 -- ALA101-O\n",
      "GLH119-OE2 -- ALA115-O\n",
      "GLH120-OE2 -- ILE116-O\n"
     ]
    }
   ],
   "source": [
    "for hbond in hbonds:\n",
    "    print (label(hbond))"
   ]
  },
  {
   "cell_type": "markdown",
   "id": "2dd521ef",
   "metadata": {},
   "source": [
    "## "
   ]
  }
 ],
 "metadata": {
  "kernelspec": {
   "display_name": "Python 3 (ipykernel)",
   "language": "python",
   "name": "python3"
  },
  "language_info": {
   "codemirror_mode": {
    "name": "ipython",
    "version": 3
   },
   "file_extension": ".py",
   "mimetype": "text/x-python",
   "name": "python",
   "nbconvert_exporter": "python",
   "pygments_lexer": "ipython3",
   "version": "3.8.8"
  }
 },
 "nbformat": 4,
 "nbformat_minor": 5
}
