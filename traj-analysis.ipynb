{
 "cells": [
  {
   "cell_type": "markdown",
   "id": "58017277",
   "metadata": {},
   "source": [
    "# Trajectory Analysis"
   ]
  },
  {
   "cell_type": "code",
   "execution_count": 1,
   "id": "e3a99e87",
   "metadata": {},
   "outputs": [
    {
     "name": "stderr",
     "output_type": "stream",
     "text": [
      "Warning: importing 'simtk.openmm' is deprecated.  Import 'openmm' instead.\n"
     ]
    }
   ],
   "source": [
    "import numpy as np\n",
    "import matplotlib.pyplot as plt\n",
    "import mdtraj as md\n",
    "%matplotlib inline"
   ]
  },
  {
   "cell_type": "markdown",
   "id": "04c40294",
   "metadata": {},
   "source": [
    "Specify working directory (where the trajectory is located and where the analysis will take place):"
   ]
  },
  {
   "cell_type": "code",
   "execution_count": 2,
   "id": "35f8ccc1",
   "metadata": {},
   "outputs": [],
   "source": [
    "work_dir = '/home/eva/Documents/gbsa-sims/sims-1/CC-Hex/3r3k_T/GLH/dcd/'"
   ]
  },
  {
   "cell_type": "markdown",
   "id": "cda6f86f",
   "metadata": {},
   "source": [
    "Specify topology directory (where the prmtop input file is stored):"
   ]
  },
  {
   "cell_type": "code",
   "execution_count": 6,
   "id": "6c7db208",
   "metadata": {},
   "outputs": [],
   "source": [
    "top_dir = '/home/eva/Documents/structures/structures-gbn2-ff99SB/CC-Hex/3r3k_T/GLH/'"
   ]
  },
  {
   "cell_type": "markdown",
   "id": "a4dd6ab4",
   "metadata": {},
   "source": [
    "Loading the trajectory and topology files:"
   ]
  },
  {
   "cell_type": "code",
   "execution_count": 7,
   "id": "7c27e4a1",
   "metadata": {},
   "outputs": [],
   "source": [
    "traj = md.load(work_dir+'3r3k_T_GLH_output.dcd', top = top_dir+'3r3k_T_GLH.prmtop')"
   ]
  },
  {
   "cell_type": "markdown",
   "id": "4eda25a6",
   "metadata": {},
   "source": [
    "Excluding the first 20 ns (5000 frames):"
   ]
  },
  {
   "cell_type": "code",
   "execution_count": 8,
   "id": "5d3b4392",
   "metadata": {},
   "outputs": [],
   "source": [
    "traj_trunc = md.iterload(work_dir+'3r3k_T_GLH_output.dcd', top = top_dir+'3r3k_T_GLH.prmtop', chunk = 0, skip = 5000)"
   ]
  },
  {
   "cell_type": "markdown",
   "id": "a3ddf145",
   "metadata": {},
   "source": [
    "Getting the truncated trajectory (note: traj_trunc is an iterator)"
   ]
  },
  {
   "cell_type": "code",
   "execution_count": 9,
   "id": "c6875d17",
   "metadata": {},
   "outputs": [
    {
     "name": "stdout",
     "output_type": "stream",
     "text": [
      "<mdtraj.Trajectory with 45000 frames, 2904 atoms, 192 residues, without unitcells>\n"
     ]
    }
   ],
   "source": [
    "for tr in traj_trunc:\n",
    "    traj_short = tr\n",
    "print(traj_short)"
   ]
  },
  {
   "cell_type": "code",
   "execution_count": 10,
   "id": "24eb3cf6",
   "metadata": {},
   "outputs": [
    {
     "data": {
      "text/plain": [
       "<mdtraj.Topology with 1 chains, 192 residues, 2904 atoms, 2904 bonds at 0x7faf00c50340>"
      ]
     },
     "execution_count": 10,
     "metadata": {},
     "output_type": "execute_result"
    }
   ],
   "source": [
    "traj_short.topology"
   ]
  },
  {
   "cell_type": "markdown",
   "id": "1cbcd61a",
   "metadata": {},
   "source": [
    "## Structure"
   ]
  },
  {
   "cell_type": "markdown",
   "id": "59b832b8",
   "metadata": {},
   "source": [
    "Separating the amino acids and the ACE-NH2 caps, and creating lists for their indexes:"
   ]
  },
  {
   "cell_type": "code",
   "execution_count": 11,
   "id": "c451d33d",
   "metadata": {},
   "outputs": [
    {
     "name": "stdout",
     "output_type": "stream",
     "text": [
      "excluding the ACE and NH2 caps\n",
      "excluding the ACE and NH2 caps\n",
      "excluding the ACE and NH2 caps\n",
      "excluding the ACE and NH2 caps\n",
      "excluding the ACE and NH2 caps\n",
      "excluding the ACE and NH2 caps\n",
      "excluding the ACE and NH2 caps\n",
      "excluding the ACE and NH2 caps\n",
      "excluding the ACE and NH2 caps\n",
      "excluding the ACE and NH2 caps\n",
      "excluding the ACE and NH2 caps\n",
      "excluding the ACE and NH2 caps\n"
     ]
    }
   ],
   "source": [
    "res_obj = traj.topology.residues\n",
    "res_list=[]\n",
    "caps_positions =[]\n",
    "all_residues=[]\n",
    "\n",
    "\n",
    "for res in res_obj:\n",
    "        all_residues.append(str(res))\n",
    "        if res.name == 'ACE' or res.name == 'NHE':\n",
    "            print('excluding the ACE and NH2 caps')\n",
    "            caps_positions.append(str(res))\n",
    "        else:\n",
    "            res_list.append(str(res))\n",
    "            \n",
    "res_idx=[]\n",
    "for res in res_list:\n",
    "    res_idx.append(int(res[3:6]))\n",
    "    \n",
    "caps_idx=[]\n",
    "for cap in caps_positions:\n",
    "    caps_idx.append(int(cap[3:6]))\n",
    "    \n",
    "all_residues_idx=[]\n",
    "for re in all_residues:\n",
    "    all_residues_idx.append(int(re[3:6]))"
   ]
  },
  {
   "cell_type": "markdown",
   "id": "bf6da591",
   "metadata": {},
   "source": [
    "Separating the individual chains (based on the positions of the caps):"
   ]
  },
  {
   "cell_type": "code",
   "execution_count": 12,
   "id": "628f6cd0",
   "metadata": {},
   "outputs": [
    {
     "name": "stdout",
     "output_type": "stream",
     "text": [
      "the number of chains in the structure is 6\n"
     ]
    }
   ],
   "source": [
    "chain_number = int(len(caps_idx)/2)\n",
    "print('the number of chains in the structure is', chain_number)"
   ]
  },
  {
   "cell_type": "markdown",
   "id": "18c67359",
   "metadata": {},
   "source": [
    "Separating the caps by type:"
   ]
  },
  {
   "cell_type": "code",
   "execution_count": 13,
   "id": "c63c1699",
   "metadata": {},
   "outputs": [],
   "source": [
    "ace=caps_idx[0::2]\n",
    "nh2=caps_idx[1::2]"
   ]
  },
  {
   "cell_type": "code",
   "execution_count": 14,
   "id": "197536bf",
   "metadata": {},
   "outputs": [
    {
     "name": "stdout",
     "output_type": "stream",
     "text": [
      "the ACE positions are [0, 32, 64, 96, 128, 160]\n",
      "the NH2 positions are [31, 63, 95, 127, 159, 191]\n"
     ]
    }
   ],
   "source": [
    "print('the ACE positions are', ace)\n",
    "print('the NH2 positions are', nh2)"
   ]
  },
  {
   "cell_type": "code",
   "execution_count": 15,
   "id": "136f7895",
   "metadata": {},
   "outputs": [],
   "source": [
    "chain_list=[]\n",
    "chain=[]\n",
    "chain_idx = []\n",
    "all_idx=[]\n",
    "\n",
    "for i in range(len(ace)):\n",
    "    chain = all_residues[(ace[i]+1):(nh2[i])]\n",
    "    chain_list.append(chain)\n",
    "    chain=[]\n",
    "\n",
    "for ch in chain_list:\n",
    "    for re in ch:\n",
    "        all_idx.append(int(re[3:6]))    \n",
    "\n",
    "for i in range(len(ace)):\n",
    "    chain = all_residues_idx[(ace[i]+1):(nh2[i])]\n",
    "    chain_idx.append(chain)\n",
    "    chain=[]"
   ]
  },
  {
   "cell_type": "code",
   "execution_count": 27,
   "id": "f25e9824",
   "metadata": {},
   "outputs": [],
   "source": [
    "chain_length = len(chain_idx[0])"
   ]
  },
  {
   "cell_type": "markdown",
   "id": "6658c4ea",
   "metadata": {},
   "source": [
    "We can view the sequence and residue indexes of a single chain with:"
   ]
  },
  {
   "cell_type": "code",
   "execution_count": null,
   "id": "a507e6b3",
   "metadata": {},
   "outputs": [],
   "source": [
    "#chain_list[0]"
   ]
  },
  {
   "cell_type": "code",
   "execution_count": null,
   "id": "a2209cc4",
   "metadata": {},
   "outputs": [],
   "source": [
    "#chain_idx[0]"
   ]
  },
  {
   "cell_type": "markdown",
   "id": "b6c2bdfa",
   "metadata": {},
   "source": [
    "Creating an array for time (4 fs timestep, 200 ns simulation time):"
   ]
  },
  {
   "cell_type": "code",
   "execution_count": 18,
   "id": "1905e0e7",
   "metadata": {},
   "outputs": [],
   "source": [
    "t = np.arange(0.0, 200.0, 0.004)"
   ]
  },
  {
   "cell_type": "code",
   "execution_count": 19,
   "id": "ddaa6505",
   "metadata": {},
   "outputs": [],
   "source": [
    "t_trunc = np.arange(20.0, 200.0, 0.004)"
   ]
  },
  {
   "cell_type": "markdown",
   "id": "089c9444",
   "metadata": {},
   "source": [
    "## RMSD calculation"
   ]
  },
  {
   "cell_type": "markdown",
   "id": "9b80dfd7",
   "metadata": {},
   "source": [
    "Getting the syntax for the atom expression:"
   ]
  },
  {
   "cell_type": "code",
   "execution_count": 17,
   "id": "09468120",
   "metadata": {},
   "outputs": [
    {
     "name": "stdout",
     "output_type": "stream",
     "text": [
      "[atom.index for atom in topology.atoms if atom.is_backbone\n",
      "]\n"
     ]
    }
   ],
   "source": [
    "selection = traj.topology.select_expression('backbone')\n",
    "print(selection)"
   ]
  },
  {
   "cell_type": "markdown",
   "id": "f94cb2ad",
   "metadata": {},
   "source": [
    "Calculating the RMSD from the first frame (initial structure), for the backbone atoms:"
   ]
  },
  {
   "cell_type": "code",
   "execution_count": 20,
   "id": "6166b14c",
   "metadata": {},
   "outputs": [],
   "source": [
    "rmsds = md.rmsd(traj, traj, 0, atom_indices = [a.index for a in traj.topology.atoms if a.is_backbone])"
   ]
  },
  {
   "cell_type": "markdown",
   "id": "fe28fc2d",
   "metadata": {},
   "source": [
    "Calculating the normalised RMSD100 for the backbone atoms:"
   ]
  },
  {
   "cell_type": "code",
   "execution_count": 28,
   "id": "c5f66f88",
   "metadata": {},
   "outputs": [],
   "source": [
    "rmsds_100 = []\n",
    "\n",
    "for rmsd in rmsds:\n",
    "    rmsds_100.append(rmsd/(1+np.log(np.sqrt(chain_number*chain_length/100))))"
   ]
  },
  {
   "cell_type": "markdown",
   "id": "ca7c6c98",
   "metadata": {},
   "source": [
    "Creating the RMSD plot:"
   ]
  },
  {
   "cell_type": "code",
   "execution_count": null,
   "id": "996f0465",
   "metadata": {},
   "outputs": [],
   "source": [
    "fig,ax = plt.subplots()\n",
    "ax.plot(t, rmsds)\n",
    "ax.set(xlabel='t (ns)', ylabel='RMSD (nm)', title='RMSD')\n",
    "ax.grid()\n",
    "\n",
    "fig.savefig(work_dir+'analysis/rmsd.png')\n",
    "plt.show()"
   ]
  },
  {
   "cell_type": "markdown",
   "id": "ecb05ed6",
   "metadata": {},
   "source": [
    "Creating the RMSD100 plot"
   ]
  },
  {
   "cell_type": "code",
   "execution_count": 40,
   "id": "21b1564a",
   "metadata": {},
   "outputs": [
    {
     "data": {
      "image/png": "[encoded data removed]",
      "text/plain": [
       "<Figure size 432x288 with 1 Axes>"
      ]
     },
     "metadata": {
      "needs_background": "light"
     },
     "output_type": "display_data"
    }
   ],
   "source": [
    "fig,ax = plt.subplots()\n",
    "ax.plot(t, rmsds_100)\n",
    "ax.set(xlabel='t (ns)', ylabel='$RMSD_{100}$ (nm)', title='$RMSD_{100}$')\n",
    "#ax.grid()\n",
    "ax.set_xlim([0.0, 210.0])\n",
    "\n",
    "fig.savefig(work_dir+'analysis/rmsd_100.png')\n",
    "plt.show()"
   ]
  },
  {
   "cell_type": "markdown",
   "id": "c45509a5",
   "metadata": {},
   "source": [
    "Plotting the RMSDs for the truncated trajectory:"
   ]
  },
  {
   "cell_type": "code",
   "execution_count": 41,
   "id": "08738681",
   "metadata": {},
   "outputs": [],
   "source": [
    "rmsds_trunc = md.rmsd(traj_short, traj, 0, atom_indices = [a.index for a in traj.topology.atoms if a.is_backbone])"
   ]
  },
  {
   "cell_type": "code",
   "execution_count": null,
   "id": "b43ecf09",
   "metadata": {},
   "outputs": [],
   "source": [
    "fig,ax = plt.subplots()\n",
    "ax.plot(t_trunc, rmsds_trunc)\n",
    "ax.set(xlabel='t (ns)', ylabel='RMSD (nm)', title='RMSD')\n",
    "ax.grid()\n",
    "\n",
    "fig.savefig(work_dir+'analysis/rmsd-trunc.png')\n",
    "plt.show()"
   ]
  },
  {
   "cell_type": "code",
   "execution_count": 42,
   "id": "0e8a5281",
   "metadata": {},
   "outputs": [],
   "source": [
    "rmsds_trunc_100 = []\n",
    "\n",
    "for rmsd in rmsds_trunc:\n",
    "    rmsds_trunc_100.append(rmsd/(1+np.log(np.sqrt(chain_number*chain_length/100))))"
   ]
  },
  {
   "cell_type": "code",
   "execution_count": 46,
   "id": "7a1aa22f",
   "metadata": {},
   "outputs": [
    {
     "data": {
      "image/png": "[encoded data removed]",
      "text/plain": [
       "<Figure size 432x288 with 1 Axes>"
      ]
     },
     "metadata": {
      "needs_background": "light"
     },
     "output_type": "display_data"
    }
   ],
   "source": [
    "fig,ax = plt.subplots()\n",
    "ax.plot(t_trunc, rmsds_trunc_100)\n",
    "ax.set(xlabel='t (ns)', ylabel='$RMSD_{100}$ (nm)', title='$RMSD_{100}$')\n",
    "#ax.grid()\n",
    "ax.set_xlim([0.0, 200.0])\n",
    "#ax.set_ylim([0.0, 1.0])\n",
    "\n",
    "fig.savefig(work_dir+'analysis/rmsd-trunc-100.png')\n",
    "plt.show()"
   ]
  },
  {
   "cell_type": "markdown",
   "id": "4718fd2e",
   "metadata": {},
   "source": [
    "#### Comparison between different systems"
   ]
  },
  {
   "cell_type": "code",
   "execution_count": 47,
   "id": "380e6938",
   "metadata": {},
   "outputs": [],
   "source": [
    "work_dir_2 = work_dir+'replicate-2/'"
   ]
  },
  {
   "cell_type": "code",
   "execution_count": 48,
   "id": "f884c9f7",
   "metadata": {},
   "outputs": [],
   "source": [
    "top_dir_2 = top_dir"
   ]
  },
  {
   "cell_type": "code",
   "execution_count": 49,
   "id": "88993716",
   "metadata": {},
   "outputs": [],
   "source": [
    "traj_2 = md.load(work_dir_2+'output-2.dcd', top = top_dir_2+'3r3k_T_GLH.prmtop')"
   ]
  },
  {
   "cell_type": "code",
   "execution_count": 50,
   "id": "e31d6056",
   "metadata": {},
   "outputs": [],
   "source": [
    "traj_trunc_2 = md.iterload(work_dir_2+'output-2.dcd', top = top_dir_2+'3r3k_T_GLH.prmtop', chunk = 0, skip = 5000)"
   ]
  },
  {
   "cell_type": "code",
   "execution_count": 51,
   "id": "e51c0659",
   "metadata": {},
   "outputs": [
    {
     "name": "stdout",
     "output_type": "stream",
     "text": [
      "<mdtraj.Trajectory with 45000 frames, 2904 atoms, 192 residues, without unitcells>\n"
     ]
    }
   ],
   "source": [
    "for tr_2 in traj_trunc_2:\n",
    "    traj_short_2 = tr_2\n",
    "print(traj_short_2)"
   ]
  },
  {
   "cell_type": "code",
   "execution_count": 52,
   "id": "243b9c6c",
   "metadata": {},
   "outputs": [],
   "source": [
    "rmsds_trunc_2 = md.rmsd(traj_short_2, traj_2, 0, atom_indices = [a.index for a in traj_2.topology.atoms if a.is_backbone])"
   ]
  },
  {
   "cell_type": "code",
   "execution_count": 53,
   "id": "5b21b5f9",
   "metadata": {},
   "outputs": [],
   "source": [
    "rmsds_trunc_2_100 =[]\n",
    "for rmsd in rmsds_trunc_2:\n",
    "    rmsds_trunc_2_100.append(rmsd/(1+np.log(np.sqrt(chain_number*chain_length/100))))"
   ]
  },
  {
   "cell_type": "code",
   "execution_count": 54,
   "id": "9eb46a48",
   "metadata": {},
   "outputs": [],
   "source": [
    "work_dir_3 = work_dir+'replicate-3/'"
   ]
  },
  {
   "cell_type": "code",
   "execution_count": 55,
   "id": "5b21ae1c",
   "metadata": {},
   "outputs": [],
   "source": [
    "top_dir_3 = top_dir"
   ]
  },
  {
   "cell_type": "code",
   "execution_count": 56,
   "id": "47c2c872",
   "metadata": {},
   "outputs": [],
   "source": [
    "traj_3 = md.load(work_dir_3+'output-3.dcd', top = top_dir_3+'3r3k_T_GLH.prmtop')"
   ]
  },
  {
   "cell_type": "code",
   "execution_count": 57,
   "id": "390db322",
   "metadata": {},
   "outputs": [],
   "source": [
    "traj_trunc_3 = md.iterload(work_dir_3+'output-3.dcd', top = top_dir_3+'3r3k_T_GLH.prmtop', chunk = 0, skip = 5000)"
   ]
  },
  {
   "cell_type": "code",
   "execution_count": 58,
   "id": "c51a4231",
   "metadata": {},
   "outputs": [
    {
     "name": "stdout",
     "output_type": "stream",
     "text": [
      "<mdtraj.Trajectory with 45000 frames, 2904 atoms, 192 residues, without unitcells>\n"
     ]
    }
   ],
   "source": [
    "for tr_3 in traj_trunc_3:\n",
    "    traj_short_3 = tr_3\n",
    "print(traj_short_3)"
   ]
  },
  {
   "cell_type": "code",
   "execution_count": 59,
   "id": "00292bfe",
   "metadata": {},
   "outputs": [],
   "source": [
    "rmsds_trunc_3 = md.rmsd(traj_short_3, traj_3, 0, atom_indices = [a.index for a in traj_3.topology.atoms if a.is_backbone])"
   ]
  },
  {
   "cell_type": "code",
   "execution_count": 60,
   "id": "80957052",
   "metadata": {},
   "outputs": [],
   "source": [
    "rmsds_trunc_3_100 = []\n",
    "for rmsd in rmsds_trunc_3:\n",
    "    rmsds_trunc_3_100.append(rmsd/(1+np.log(np.sqrt(chain_number*chain_length/100))))"
   ]
  },
  {
   "cell_type": "code",
   "execution_count": null,
   "id": "d32ef2d0",
   "metadata": {},
   "outputs": [],
   "source": [
    "fig,ax = plt.subplots()\n",
    "ax.plot(t_trunc, rmsds_trunc, label = 'replicate 1')\n",
    "ax.plot(t_trunc, rmsds_trunc_2, label = 'replicate 2', color = 'darkorange')\n",
    "ax.plot(t_trunc, rmsds_trunc_3, label = 'replicate 3', color = 'yellowgreen')\n",
    "\n",
    "ax.set(xlabel='t (ns)', ylabel='RMSD (nm)', title='CC-Hex*-L24E-hex, all E deprotonated')\n",
    "ax.grid()\n",
    "ax.legend(bbox_to_anchor=(1,1), loc='upper left')\n",
    "ax.set_ylim([0.0, 1.0])\n",
    "\n",
    "fig.savefig(work_dir+'analysis/rmsd-trunc-comparison-between-replicates.png', bbox_inches=\"tight\")\n",
    "\n",
    "plt.show()"
   ]
  },
  {
   "cell_type": "code",
   "execution_count": 62,
   "id": "141317b1",
   "metadata": {},
   "outputs": [
    {
     "data": {
      "image/png": "[encoded data removed]",
      "text/plain": [
       "<Figure size 432x288 with 1 Axes>"
      ]
     },
     "metadata": {
      "needs_background": "light"
     },
     "output_type": "display_data"
    }
   ],
   "source": [
    "fig,ax = plt.subplots()\n",
    "ax.plot(t_trunc, rmsds_trunc_100, label = 'replicate 1')\n",
    "ax.plot(t_trunc, rmsds_trunc_2_100, label = 'replicate 2', color = 'darkorange')\n",
    "ax.plot(t_trunc, rmsds_trunc_3_100, label = 'replicate 3', color = 'yellowgreen')\n",
    "\n",
    "ax.set(xlabel='t (ns)', ylabel='$RMSD_{100}$ (nm)', title='CC-Hex*-T, all E protonated')\n",
    "#ax.grid()\n",
    "ax.legend(bbox_to_anchor=(1,1), loc='upper left')\n",
    "ax.set_xlim([0.0, 200.0])\n",
    "ax.set_ylim([0.0, 1.0])\n",
    "\n",
    "fig.savefig(work_dir+'analysis/rmsd-trunc-100-comparison-between-replicates.png', bbox_inches=\"tight\")\n",
    "\n",
    "plt.show()"
   ]
  },
  {
   "cell_type": "markdown",
   "id": "101ebfdc",
   "metadata": {},
   "source": [
    "## RMSF calculation"
   ]
  },
  {
   "cell_type": "markdown",
   "id": "8461d71e",
   "metadata": {},
   "source": [
    "Getting the syntax for the atom selection:"
   ]
  },
  {
   "cell_type": "code",
   "execution_count": null,
   "id": "20c7170c",
   "metadata": {},
   "outputs": [],
   "source": [
    "selection = traj.topology.select_expression('name CA')\n",
    "print(selection)"
   ]
  },
  {
   "cell_type": "markdown",
   "id": "944a5c95",
   "metadata": {},
   "source": [
    "Calculating the RMSF from the first frame (initial structure) for the CA atoms:"
   ]
  },
  {
   "cell_type": "code",
   "execution_count": null,
   "id": "f41d7bad",
   "metadata": {},
   "outputs": [],
   "source": [
    "rmsfs = md.rmsf(traj, traj, 0, atom_indices = [a.index for a in traj.topology.atoms if a.name == 'CA'])"
   ]
  },
  {
   "cell_type": "markdown",
   "id": "fb95c822",
   "metadata": {},
   "source": [
    "Creating the RMSF plot (per assembly): "
   ]
  },
  {
   "cell_type": "code",
   "execution_count": null,
   "id": "91a8bfdc",
   "metadata": {},
   "outputs": [],
   "source": [
    "fig,ax = plt.subplots()\n",
    "ax.plot(res_idx, rmsfs)\n",
    "ax.set(xlabel='residue number', ylabel='RMSF (nm)', title='RMSF')\n",
    "ax.grid()\n",
    "\n",
    "fig.savefig(work_dir+'analysis/rmsf.png')\n",
    "plt.show()"
   ]
  },
  {
   "cell_type": "markdown",
   "id": "686c32c5",
   "metadata": {},
   "source": [
    "There is a big difference between the RMSF values of the first two residues."
   ]
  },
  {
   "cell_type": "code",
   "execution_count": null,
   "id": "11eb1703",
   "metadata": {},
   "outputs": [],
   "source": [
    "print(rmsfs[0])\n",
    "print(rmsfs[1])"
   ]
  },
  {
   "cell_type": "markdown",
   "id": "580a45ec",
   "metadata": {},
   "source": [
    "Creating the RMSF plot per assembly and excluding the first residue:"
   ]
  },
  {
   "cell_type": "code",
   "execution_count": null,
   "id": "b886f2ad",
   "metadata": {},
   "outputs": [],
   "source": [
    "fig,ax = plt.subplots()\n",
    "ax.plot(res_idx[1:], rmsfs[1:])\n",
    "ax.set(xlabel='residue number', ylabel='RMSF (nm)', title='RMSF')\n",
    "ax.grid()\n",
    "\n",
    "fig.savefig(work_dir+'analysis/rmsf-no-first-residue.png')\n",
    "plt.show()"
   ]
  },
  {
   "cell_type": "markdown",
   "id": "282d7467",
   "metadata": {},
   "source": [
    "Creating the RMSF plot per chain (example: first chain)"
   ]
  },
  {
   "cell_type": "code",
   "execution_count": null,
   "id": "6e67b236",
   "metadata": {},
   "outputs": [],
   "source": [
    "fig,ax = plt.subplots()\n",
    "ax.plot(chain_idx[0], rmsfs[0*chain_length:1*chain_length])\n",
    "ax.set(xlabel='residue number', ylabel='RMSF (nm)', title='RMSF')\n",
    "ax.grid()\n",
    "\n",
    "fig.savefig(work_dir+'analysis/rmsf-per-chain-1.png')\n",
    "plt.show()"
   ]
  },
  {
   "cell_type": "code",
   "execution_count": null,
   "id": "c61f9dbf",
   "metadata": {},
   "outputs": [],
   "source": [
    "#rmsfs[1*chain_length:2*chain_length] #second chain residues"
   ]
  },
  {
   "cell_type": "code",
   "execution_count": null,
   "id": "f20e5f52",
   "metadata": {},
   "outputs": [],
   "source": [
    "#rmsfs[2*chain_length:3*chain_length] #third chain, and so on..."
   ]
  },
  {
   "cell_type": "markdown",
   "id": "2537f01a",
   "metadata": {},
   "source": [
    "Excluding the first residue:"
   ]
  },
  {
   "cell_type": "code",
   "execution_count": null,
   "id": "2ed20de9",
   "metadata": {},
   "outputs": [],
   "source": [
    "fig,ax = plt.subplots()\n",
    "ax.plot(chain_idx[0][1:], rmsfs[0*chain_length:1*chain_length][1:])\n",
    "ax.set(xlabel='residue number', ylabel='RMSF (nm)', title='RMSF')\n",
    "ax.grid()\n",
    "\n",
    "fig.savefig(work_dir+'analysis/rmsf-per-chain-1-no-first-residue.png')\n",
    "plt.show()"
   ]
  },
  {
   "cell_type": "markdown",
   "id": "abeb17d5",
   "metadata": {},
   "source": [
    "#### RMSF - all individual chains in one graph"
   ]
  },
  {
   "cell_type": "code",
   "execution_count": null,
   "id": "02e8316e",
   "metadata": {
    "scrolled": false
   },
   "outputs": [],
   "source": [
    "fig,ax = plt.subplots()\n",
    "ax.plot(chain_idx[0], rmsfs[0*chain_length:1*chain_length], label = \"A\")\n",
    "ax.plot(chain_idx[0], rmsfs[1*chain_length:2*chain_length], label = \"B\")\n",
    "ax.plot(chain_idx[0], rmsfs[2*chain_length:3*chain_length], label = \"C\")\n",
    "ax.plot(chain_idx[0], rmsfs[3*chain_length:4*chain_length], label = \"D\")\n",
    "#ax.plot(chain_idx[0], rmsfs[4*chain_length:5*chain_length], label = \"E\")\n",
    "#ax.plot(chain_idx[0], rmsfs[5*chain_length:6*chain_length], label = \"F\")\n",
    "\n",
    "ax.set(xlabel='residue number', ylabel='RMSF (nm)', title='RMSF')\n",
    "ax.grid()\n",
    "ax.legend(bbox_to_anchor=(1,1), loc='upper left')\n",
    "\n",
    "fig.savefig(work_dir+'analysis/rmsf-per-chain-multiple.png', bbox_inches=\"tight\")\n",
    "plt.show()"
   ]
  },
  {
   "cell_type": "markdown",
   "id": "39e909e0",
   "metadata": {},
   "source": [
    "Excluding the first residue (from A chain only):"
   ]
  },
  {
   "cell_type": "code",
   "execution_count": null,
   "id": "2b29a330",
   "metadata": {},
   "outputs": [],
   "source": [
    "fig,ax = plt.subplots()\n",
    "\n",
    "ax.plot(chain_idx[0][1:], rmsfs[0*chain_length:1*chain_length][1:], label = \"A\")\n",
    "ax.plot(chain_idx[0], rmsfs[1*chain_length:2*chain_length], label = \"B\")\n",
    "ax.plot(chain_idx[0], rmsfs[2*chain_length:3*chain_length], label = \"C\")\n",
    "ax.plot(chain_idx[0], rmsfs[3*chain_length:4*chain_length], label = \"D\")\n",
    "#ax.plot(chain_idx[0], rmsfs[4*chain_length:5*chain_length], label = \"E\")\n",
    "#ax.plot(chain_idx[0], rmsfs[5*chain_length:6*chain_length], label = \"F\")\n",
    "\n",
    "\n",
    "ax.set(xlabel='residue number', ylabel='RMSF (nm)', title='RMSF')\n",
    "ax.grid()\n",
    "ax.legend(bbox_to_anchor=(1,1), loc='upper left')\n",
    "\n",
    "fig.savefig(work_dir+'analysis/rmsf-per-chain-multiple-no-first-residue.png', bbox_inches=\"tight\")\n",
    "plt.show()"
   ]
  },
  {
   "cell_type": "markdown",
   "id": "99bb7a97",
   "metadata": {},
   "source": [
    "#### Comparison between different systems/replicates"
   ]
  },
  {
   "cell_type": "code",
   "execution_count": null,
   "id": "bf3063ac",
   "metadata": {},
   "outputs": [],
   "source": [
    "rmsfs_2 = md.rmsf(traj_2, traj_2, 0, atom_indices = [a.index for a in traj_2.topology.atoms if a.name == 'CA'])"
   ]
  },
  {
   "cell_type": "code",
   "execution_count": null,
   "id": "31fae133",
   "metadata": {},
   "outputs": [],
   "source": [
    "rmsfs_3 = md.rmsf(traj_3, traj_3, 0, atom_indices = [a.index for a in traj_3.topology.atoms if a.name == 'CA'])"
   ]
  },
  {
   "cell_type": "code",
   "execution_count": null,
   "id": "9681661f",
   "metadata": {},
   "outputs": [],
   "source": [
    "fig,ax = plt.subplots()\n",
    "ax.plot(res_idx[1:], rmsfs[1:], label='replicate 1')\n",
    "ax.plot(res_idx[1:], rmsfs_2[1:], label='replicate 2', color='darkorange')\n",
    "ax.plot(res_idx[1:], rmsfs_3[1:], label='replicate 3', color='yellowgreen')\n",
    "\n",
    "ax.set(xlabel='residue number', ylabel='RMSF (nm)', title='RMSF')\n",
    "ax.grid()\n",
    "ax.legend(bbox_to_anchor=(1,1), loc='upper left')\n",
    "\n",
    "fig.savefig(work_dir+'analysis/rmsf-comparison.png', bbox_inches='tight')\n",
    "plt.show()"
   ]
  },
  {
   "cell_type": "markdown",
   "id": "bed51896",
   "metadata": {},
   "source": [
    "## Secondary structure calculation"
   ]
  },
  {
   "cell_type": "code",
   "execution_count": null,
   "id": "d3c652c7",
   "metadata": {},
   "outputs": [],
   "source": [
    "sec_struct = md.compute_dssp(traj, simplified = False)\n",
    "print(sec_struct)"
   ]
  },
  {
   "cell_type": "markdown",
   "id": "537b23d0",
   "metadata": {},
   "source": [
    "Simplified secondary structure: H = helix, C = coil, E = strand"
   ]
  },
  {
   "cell_type": "code",
   "execution_count": null,
   "id": "699c71dc",
   "metadata": {},
   "outputs": [],
   "source": [
    "sec_struct_simple = md.compute_dssp(traj, simplified=True)\n",
    "print(sec_struct_simple)"
   ]
  },
  {
   "cell_type": "code",
   "execution_count": null,
   "id": "ee5dd7ec",
   "metadata": {},
   "outputs": [],
   "source": [
    "frames = len(sec_struct_simple)\n",
    "print('the number of frames is', frames)"
   ]
  },
  {
   "cell_type": "markdown",
   "id": "f3f882f1",
   "metadata": {},
   "source": [
    "Saving the secondary structure of each residue in the struct_list:"
   ]
  },
  {
   "cell_type": "code",
   "execution_count": null,
   "id": "c4298961",
   "metadata": {},
   "outputs": [],
   "source": [
    "idx = 0\n",
    "struct_list=[]\n",
    "resid_list=[]\n",
    "aa = len(all_residues) #the number of total residues in the assembly\n",
    "\n",
    "for idx in range(0, aa):\n",
    "    for frame in sec_struct_simple:\n",
    "        resid_list.append(frame[idx])\n",
    "    struct_list.append(resid_list)\n",
    "    resid_list=[]"
   ]
  },
  {
   "cell_type": "markdown",
   "id": "8a079656",
   "metadata": {},
   "source": [
    "Getting the secondary structure of the i-th residue with struct_list[i-1] (across the whole simulation):"
   ]
  },
  {
   "cell_type": "code",
   "execution_count": null,
   "id": "936218bc",
   "metadata": {},
   "outputs": [],
   "source": [
    "#print(struct_list[0])\n",
    "#print(len(struct_list[9]))"
   ]
  },
  {
   "cell_type": "markdown",
   "id": "73b0b5c2",
   "metadata": {},
   "source": [
    "Note that this includes the ACE and NH2 caps (sec. struct 'NA')."
   ]
  },
  {
   "cell_type": "markdown",
   "id": "b8cb7cc1",
   "metadata": {},
   "source": [
    "### Helicity per residue calculation"
   ]
  },
  {
   "cell_type": "markdown",
   "id": "2ba67760",
   "metadata": {},
   "source": [
    "The res_list contains all residues with their residue number, whereas the res_idx contains just the residue number (ACE and NH2 caps excluded)"
   ]
  },
  {
   "cell_type": "code",
   "execution_count": null,
   "id": "ca7e56a5",
   "metadata": {},
   "outputs": [],
   "source": [
    "#print(res_list)\n",
    "#print(res_idx)"
   ]
  },
  {
   "cell_type": "markdown",
   "id": "fb37bd2b",
   "metadata": {},
   "source": [
    "Calculating the helicity per residue - excluding caps:"
   ]
  },
  {
   "cell_type": "code",
   "execution_count": null,
   "id": "0e1691a3",
   "metadata": {},
   "outputs": [],
   "source": [
    "count = 0\n",
    "helicity_per_residue = []\n",
    "helicity = 0\n",
    "\n",
    "for res in struct_list:\n",
    "    if 'NA' in res:\n",
    "        print('excluding the ACE and NH2 caps')   \n",
    "    else:\n",
    "        for snapshot in res:\n",
    "            if snapshot == 'H':\n",
    "                count+=1\n",
    "            helicity = (count/frames)*100\n",
    "        helicity_per_residue.append(helicity)\n",
    "        count=0"
   ]
  },
  {
   "cell_type": "code",
   "execution_count": null,
   "id": "dda98706",
   "metadata": {},
   "outputs": [],
   "source": [
    "#len(helicity_per_residue)\n",
    "#print(helicity_per_residue)"
   ]
  },
  {
   "cell_type": "markdown",
   "id": "a63a7a86",
   "metadata": {},
   "source": [
    "Creating the %helicity per residue plot:"
   ]
  },
  {
   "cell_type": "code",
   "execution_count": null,
   "id": "ad98f7c2",
   "metadata": {},
   "outputs": [],
   "source": [
    "fig,ax = plt.subplots()\n",
    "ax.plot(res_idx, helicity_per_residue)\n",
    "ax.set(xlabel='residue number', ylabel='%helicity per residue', title='%helicity per residue')\n",
    "ax.grid()\n",
    "\n",
    "fig.savefig(work_dir+'analysis/hpr.png')\n",
    "plt.show()"
   ]
  },
  {
   "cell_type": "markdown",
   "id": "1adb20d6",
   "metadata": {},
   "source": [
    "### Helicity per chain calculation"
   ]
  },
  {
   "cell_type": "code",
   "execution_count": null,
   "id": "9f896caa",
   "metadata": {},
   "outputs": [],
   "source": [
    "fig,ax = plt.subplots()\n",
    "ax.plot(chain_idx[0], helicity_per_residue[0*chain_length:1*chain_length])\n",
    "ax.set(xlabel='residue number', ylabel='%helicity per residue', title='%helicity per residue')\n",
    "ax.grid()\n",
    "\n",
    "fig.savefig(work_dir+'analysis/hpr-per-chain-1.png')\n",
    "plt.show()"
   ]
  },
  {
   "cell_type": "markdown",
   "id": "6af6eec6",
   "metadata": {},
   "source": [
    "#### Helicity per residue plot - all individual chains in one graph"
   ]
  },
  {
   "cell_type": "code",
   "execution_count": null,
   "id": "6603e8be",
   "metadata": {},
   "outputs": [],
   "source": [
    "fig,ax = plt.subplots()\n",
    "ax.plot(chain_idx[0], helicity_per_residue[0*chain_length:1*chain_length], label = \"A\")\n",
    "ax.plot(chain_idx[0], helicity_per_residue[1*chain_length:2*chain_length], label = \"B\")\n",
    "ax.plot(chain_idx[0], helicity_per_residue[2*chain_length:3*chain_length], label = \"C\")\n",
    "ax.plot(chain_idx[0], helicity_per_residue[3*chain_length:4*chain_length], label = \"D\")\n",
    "#ax.plot(chain_idx[0], helicity_per_residue[4*chain_length:5*chain_length], label = \"E\")\n",
    "#ax.plot(chain_idx[0], helicity_per_residue[5*chain_length:6*chain_length], label = \"F\")\n",
    "\n",
    "ax.set(xlabel='residue number', ylabel='%helicity per residue', title='%helicity per residue')\n",
    "ax.grid()\n",
    "ax.legend(bbox_to_anchor=(1,1), loc='upper left')\n",
    "\n",
    "fig.savefig(work_dir+'analysis/hpr-per-chain-multiple.png', bbox_inches=\"tight\")\n",
    "plt.show()"
   ]
  },
  {
   "cell_type": "markdown",
   "id": "5c80b1b2",
   "metadata": {},
   "source": [
    "Comparison between different replicates"
   ]
  },
  {
   "cell_type": "code",
   "execution_count": null,
   "id": "78c35212",
   "metadata": {},
   "outputs": [],
   "source": [
    "sec_struct_simple_2 = md.compute_dssp(traj_2, simplified=True)\n",
    "print(sec_struct_simple_2)"
   ]
  },
  {
   "cell_type": "code",
   "execution_count": null,
   "id": "07e81f57",
   "metadata": {},
   "outputs": [],
   "source": [
    "sec_struct_simple_3 = md.compute_dssp(traj_3, simplified=True)\n",
    "print(sec_struct_simple_3)"
   ]
  },
  {
   "cell_type": "code",
   "execution_count": null,
   "id": "2208c6d6",
   "metadata": {},
   "outputs": [],
   "source": [
    "idx = 0\n",
    "struct_list=[]\n",
    "resid_list=[]\n",
    "aa = len(all_residues) #the number of total residues in the assembly\n",
    "\n",
    "for idx in range(0, aa):\n",
    "    for frame in sec_struct_simple_2:\n",
    "        resid_list.append(frame[idx])\n",
    "    struct_list.append(resid_list)\n",
    "    resid_list=[]"
   ]
  },
  {
   "cell_type": "code",
   "execution_count": null,
   "id": "ece69840",
   "metadata": {},
   "outputs": [],
   "source": [
    "count = 0\n",
    "helicity_per_residue_2 = []\n",
    "helicity = 0\n",
    "\n",
    "for res in struct_list:\n",
    "    if 'NA' in res:\n",
    "        print('excluding the ACE and NH2 caps')   \n",
    "    else:\n",
    "        for snapshot in res:\n",
    "            if snapshot == 'H':\n",
    "                count+=1\n",
    "            helicity = (count/frames)*100\n",
    "        helicity_per_residue_2.append(helicity)\n",
    "        count=0"
   ]
  },
  {
   "cell_type": "code",
   "execution_count": null,
   "id": "52af762b",
   "metadata": {},
   "outputs": [],
   "source": [
    "idx = 0\n",
    "struct_list=[]\n",
    "resid_list=[]\n",
    "aa = len(all_residues) #the number of total residues in the assembly\n",
    "\n",
    "for idx in range(0, aa):\n",
    "    for frame in sec_struct_simple_3:\n",
    "        resid_list.append(frame[idx])\n",
    "    struct_list.append(resid_list)\n",
    "    resid_list=[]"
   ]
  },
  {
   "cell_type": "code",
   "execution_count": null,
   "id": "5aefd5cd",
   "metadata": {},
   "outputs": [],
   "source": [
    "count = 0\n",
    "helicity_per_residue_3 = []\n",
    "helicity = 0\n",
    "\n",
    "for res in struct_list:\n",
    "    if 'NA' in res:\n",
    "        print('excluding the ACE and NH2 caps')   \n",
    "    else:\n",
    "        for snapshot in res:\n",
    "            if snapshot == 'H':\n",
    "                count+=1\n",
    "            helicity = (count/frames)*100\n",
    "        helicity_per_residue_3.append(helicity)\n",
    "        count=0"
   ]
  },
  {
   "cell_type": "code",
   "execution_count": null,
   "id": "66e50e64",
   "metadata": {},
   "outputs": [],
   "source": [
    "fig,ax = plt.subplots()\n",
    "ax.plot(res_idx, helicity_per_residue, label='replicate 1')\n",
    "ax.plot(res_idx, helicity_per_residue_2, label='replicate 2', color='darkorange')\n",
    "ax.plot(res_idx, helicity_per_residue_3, label='replicate 3', color='yellowgreen')\n",
    "ax.set(xlabel='residue number', ylabel='%helicity per residue', title='%helicity per residue')\n",
    "ax.grid()\n",
    "ax.legend(bbox_to_anchor=(1,1), loc='upper left')\n",
    "fig.savefig(work_dir+'analysis/hpr-comp.png', bbox_inches='tight')\n",
    "plt.show()"
   ]
  },
  {
   "cell_type": "markdown",
   "id": "52eb0261",
   "metadata": {},
   "source": [
    "## Hydrogen bonds calculation"
   ]
  },
  {
   "cell_type": "markdown",
   "id": "a6dfb9b5",
   "metadata": {},
   "source": [
    "Each row in the resulting array contains the donor atom, the hydrogen atom and the acceptor atom indices."
   ]
  },
  {
   "cell_type": "code",
   "execution_count": null,
   "id": "166ec715",
   "metadata": {},
   "outputs": [],
   "source": [
    "#hbonds = md.baker_hubbard(traj, freq=0.1, exclude_water=True, periodic=False, sidechain_only=False, distance_cutoff=0.25, angle_cutoff=120)\n",
    "\n",
    "#print(hbonds)"
   ]
  },
  {
   "cell_type": "code",
   "execution_count": null,
   "id": "a6fb525a",
   "metadata": {},
   "outputs": [],
   "source": [
    "#label = lambda hbond : '%s -- %s' % (traj.topology.atom(hbond[0]), traj.topology.atom(hbond[2]))"
   ]
  },
  {
   "cell_type": "code",
   "execution_count": null,
   "id": "3cae8e0c",
   "metadata": {},
   "outputs": [],
   "source": [
    "#for hbond in hbonds:\n",
    "  #  print (label(hbond))"
   ]
  },
  {
   "cell_type": "markdown",
   "id": "c37e9f4a",
   "metadata": {},
   "source": [
    "# Radius of gyration calculation"
   ]
  },
  {
   "cell_type": "markdown",
   "id": "899573ea",
   "metadata": {},
   "source": [
    "Calculating the radius of gyration for each simulation frame"
   ]
  },
  {
   "cell_type": "code",
   "execution_count": null,
   "id": "bb7f5273",
   "metadata": {},
   "outputs": [],
   "source": [
    "rog = md.compute_rg(traj)"
   ]
  },
  {
   "cell_type": "code",
   "execution_count": null,
   "id": "4d4a17e3",
   "metadata": {},
   "outputs": [],
   "source": [
    "rog"
   ]
  },
  {
   "cell_type": "markdown",
   "id": "d0229630",
   "metadata": {},
   "source": [
    "Calculating the mean radius of gyration:"
   ]
  },
  {
   "cell_type": "code",
   "execution_count": null,
   "id": "adfe6a9b",
   "metadata": {},
   "outputs": [],
   "source": [
    "rog_mean = np.mean(rog)\n",
    "rog_mean"
   ]
  },
  {
   "cell_type": "markdown",
   "id": "37447877",
   "metadata": {},
   "source": [
    "Plotting the radius of gyration over the course of the simulation:"
   ]
  },
  {
   "cell_type": "code",
   "execution_count": null,
   "id": "413a6583",
   "metadata": {},
   "outputs": [],
   "source": [
    "fig,ax = plt.subplots()\n",
    "ax.plot(t, rog)\n",
    "ax.set(xlabel='t (ns)', ylabel='Radius of gyration (nm)', title='Radius of gyration')\n",
    "ax.grid()\n",
    "\n",
    "fig.savefig(work_dir+'analysis/rog.png')\n",
    "plt.show()"
   ]
  },
  {
   "cell_type": "markdown",
   "id": "69bd735a",
   "metadata": {},
   "source": [
    "Comparing between different systems/replicates:"
   ]
  },
  {
   "cell_type": "code",
   "execution_count": null,
   "id": "594f0d76",
   "metadata": {},
   "outputs": [],
   "source": [
    "combo = 'ff96/GBn'"
   ]
  },
  {
   "cell_type": "code",
   "execution_count": null,
   "id": "605436d5",
   "metadata": {},
   "outputs": [],
   "source": [
    "rog_2 = md.compute_rg(traj_2)\n",
    "\n",
    "rog_mean_2 = np.mean(rog_2)\n",
    "rog_mean_2"
   ]
  },
  {
   "cell_type": "code",
   "execution_count": null,
   "id": "8e733b8a",
   "metadata": {},
   "outputs": [],
   "source": [
    "rog_3 = md.compute_rg(traj_3)\n",
    "\n",
    "rog_mean_3 = np.mean(rog_3)\n",
    "rog_mean_3"
   ]
  },
  {
   "cell_type": "code",
   "execution_count": null,
   "id": "bd5881d8",
   "metadata": {},
   "outputs": [],
   "source": [
    "fig,ax = plt.subplots()\n",
    "ax.plot(t, rog, label = 'replicate 1')\n",
    "ax.plot(t, rog_2, label = 'replicate 2', color = 'darkorange')\n",
    "ax.plot(t, rog_3, label = 'replicate 3', color = 'yellowgreen')\n",
    "\n",
    "ax.set(xlabel='t (ns)', ylabel='Radius of gyration (nm)', title=combo)\n",
    "ax.grid()\n",
    "ax.legend(bbox_to_anchor=(1,1), loc='upper left')\n",
    "\n",
    "fig.savefig(work_dir+'analysis/rog-comparison.png', bbox_inches=\"tight\")\n",
    "plt.show()"
   ]
  },
  {
   "cell_type": "markdown",
   "id": "0b10c3ca",
   "metadata": {},
   "source": [
    "# End-to-end distance calculation"
   ]
  },
  {
   "cell_type": "markdown",
   "id": "76ab6c55",
   "metadata": {},
   "source": [
    "end-to-end distance = distance between the first and last alpha carbon atoms"
   ]
  },
  {
   "cell_type": "code",
   "execution_count": null,
   "id": "976c4a41",
   "metadata": {},
   "outputs": [],
   "source": [
    "traj.topology.atoms"
   ]
  },
  {
   "cell_type": "code",
   "execution_count": null,
   "id": "e166641a",
   "metadata": {
    "scrolled": true
   },
   "outputs": [],
   "source": [
    "selection = traj.topology.select_expression('name CA and resid 1')\n",
    "print(selection)"
   ]
  },
  {
   "cell_type": "code",
   "execution_count": null,
   "id": "a974be08",
   "metadata": {},
   "outputs": [],
   "source": [
    "chain_length"
   ]
  },
  {
   "cell_type": "code",
   "execution_count": null,
   "id": "b01004dd",
   "metadata": {},
   "outputs": [],
   "source": [
    "traj.topology.residue(int(chain_length))"
   ]
  },
  {
   "cell_type": "code",
   "execution_count": null,
   "id": "102c5fa0",
   "metadata": {},
   "outputs": [],
   "source": [
    "first_ca = [atom.index for atom in traj.topology.atoms if ((atom.name == 'CA') and (atom.residue.index == 1))]"
   ]
  },
  {
   "cell_type": "code",
   "execution_count": null,
   "id": "d80eb2a4",
   "metadata": {},
   "outputs": [],
   "source": [
    "first_ca"
   ]
  },
  {
   "cell_type": "code",
   "execution_count": null,
   "id": "cf62f468",
   "metadata": {},
   "outputs": [],
   "source": [
    "last_ca = [atom.index for atom in traj.topology.atoms if ((atom.name == 'CA') and (atom.residue.index == chain_length))]"
   ]
  },
  {
   "cell_type": "code",
   "execution_count": null,
   "id": "2763cd41",
   "metadata": {},
   "outputs": [],
   "source": [
    "last_ca"
   ]
  },
  {
   "cell_type": "code",
   "execution_count": null,
   "id": "d2d6ecd7",
   "metadata": {},
   "outputs": [],
   "source": [
    "ca_end = np.array([[first_ca[0], last_ca[0]], [0,0]])"
   ]
  },
  {
   "cell_type": "code",
   "execution_count": null,
   "id": "f52ca1e4",
   "metadata": {},
   "outputs": [],
   "source": [
    "ca_end"
   ]
  },
  {
   "cell_type": "code",
   "execution_count": null,
   "id": "5b2cae89",
   "metadata": {},
   "outputs": [],
   "source": [
    "end_to_end = md.compute_distances(traj, ca_end)"
   ]
  },
  {
   "cell_type": "code",
   "execution_count": null,
   "id": "7d331ae6",
   "metadata": {},
   "outputs": [],
   "source": [
    "end_to_end"
   ]
  },
  {
   "cell_type": "code",
   "execution_count": null,
   "id": "646eb749",
   "metadata": {},
   "outputs": [],
   "source": [
    "end_to_end_mean = end_to_end.mean(axis=0)[0]"
   ]
  },
  {
   "cell_type": "code",
   "execution_count": null,
   "id": "4aac3a14",
   "metadata": {},
   "outputs": [],
   "source": [
    "end_to_end_mean"
   ]
  },
  {
   "cell_type": "code",
   "execution_count": null,
   "id": "b429f6ac",
   "metadata": {},
   "outputs": [],
   "source": [
    "end_to_end_list = []\n",
    "\n",
    "for end in end_to_end:\n",
    "    end_to_end_list.append(end[0])"
   ]
  },
  {
   "cell_type": "markdown",
   "id": "9acacc07",
   "metadata": {},
   "source": [
    "how to select one of the end-to-end distances from the array:"
   ]
  },
  {
   "cell_type": "code",
   "execution_count": null,
   "id": "884925c8",
   "metadata": {},
   "outputs": [],
   "source": [
    "#end_to_end[0][0]"
   ]
  },
  {
   "cell_type": "markdown",
   "id": "3f261fbd",
   "metadata": {},
   "source": [
    "Plotting the end-to-end distance over the course of the simulation:"
   ]
  },
  {
   "cell_type": "code",
   "execution_count": null,
   "id": "0f995b45",
   "metadata": {},
   "outputs": [],
   "source": [
    "fig,ax = plt.subplots()\n",
    "ax.plot(t, end_to_end_list)\n",
    "ax.set(xlabel='t (ns)', ylabel='End-to-end distance (nm)', title='End-to-end distance')\n",
    "ax.grid()\n",
    "\n",
    "fig.savefig(work_dir+'analysis/end-to-end.png')\n",
    "plt.show()"
   ]
  },
  {
   "cell_type": "markdown",
   "id": "eefbd468",
   "metadata": {},
   "source": [
    "##### Comparing between different systems/replicates:"
   ]
  },
  {
   "cell_type": "code",
   "execution_count": null,
   "id": "1891b0db",
   "metadata": {},
   "outputs": [],
   "source": [
    "end_to_end_2 = md.compute_distances(traj_2, ca_end)"
   ]
  },
  {
   "cell_type": "code",
   "execution_count": null,
   "id": "d1739fbc",
   "metadata": {},
   "outputs": [],
   "source": [
    "end_to_end_mean_2 = end_to_end_2.mean(axis=0)[0]\n",
    "end_to_end_mean_2"
   ]
  },
  {
   "cell_type": "code",
   "execution_count": null,
   "id": "d8d5cc88",
   "metadata": {},
   "outputs": [],
   "source": [
    "end_to_end_list_2 = []\n",
    "\n",
    "for end in end_to_end_2:\n",
    "    end_to_end_list_2.append(end[0])"
   ]
  },
  {
   "cell_type": "code",
   "execution_count": null,
   "id": "8a96339f",
   "metadata": {},
   "outputs": [],
   "source": [
    "end_to_end_3 = md.compute_distances(traj_3, ca_end)"
   ]
  },
  {
   "cell_type": "code",
   "execution_count": null,
   "id": "5fd3f054",
   "metadata": {},
   "outputs": [],
   "source": [
    "end_to_end_mean_3 = end_to_end_3.mean(axis=0)[0]\n",
    "end_to_end_mean_3"
   ]
  },
  {
   "cell_type": "code",
   "execution_count": null,
   "id": "f937f393",
   "metadata": {},
   "outputs": [],
   "source": [
    "end_to_end_list_3 = []\n",
    "\n",
    "for end in end_to_end_3:\n",
    "    end_to_end_list_3.append(end[0])"
   ]
  },
  {
   "cell_type": "code",
   "execution_count": null,
   "id": "fb88ffc0",
   "metadata": {},
   "outputs": [],
   "source": [
    "fig,ax = plt.subplots()\n",
    "ax.plot(t, end_to_end_list, label = 'replicate 1')\n",
    "ax.plot(t, end_to_end_list_2, label = 'replicate 2', color = 'darkorange')\n",
    "ax.plot(t, end_to_end_list_3, label = 'replicate 3', color = 'yellowgreen')\n",
    "\n",
    "ax.set(xlabel='t (ns)', ylabel='End-to-end distance (nm)', title=combo)\n",
    "ax.grid()\n",
    "ax.legend(bbox_to_anchor=(1,1), loc='upper left')\n",
    "\n",
    "fig.savefig(work_dir+'analysis/end-to-end-comparison.png', bbox_inches=\"tight\")\n",
    "plt.show()"
   ]
  },
  {
   "cell_type": "markdown",
   "id": "a904416b",
   "metadata": {},
   "source": [
    "##### Calculation of end-to-end distance for each chain, excluding first 20 ns (5000 frames)"
   ]
  },
  {
   "cell_type": "code",
   "execution_count": null,
   "id": "fd323fad",
   "metadata": {},
   "outputs": [],
   "source": [
    "traj_short.topology.atoms"
   ]
  },
  {
   "cell_type": "code",
   "execution_count": null,
   "id": "fbabda11",
   "metadata": {},
   "outputs": [],
   "source": [
    "selection = traj_short.topology.select_expression('name CA and resid 1')\n",
    "print(selection)"
   ]
  },
  {
   "cell_type": "code",
   "execution_count": null,
   "id": "e899a387",
   "metadata": {},
   "outputs": [],
   "source": [
    "chain_length"
   ]
  },
  {
   "cell_type": "markdown",
   "id": "1c45d7f0",
   "metadata": {},
   "source": [
    "Selecting the first and last C-alpha atoms of each chain (needs to be optimised for general use)"
   ]
  },
  {
   "cell_type": "code",
   "execution_count": null,
   "id": "cc69824a",
   "metadata": {},
   "outputs": [],
   "source": [
    "first_ca_1 = [atom.index for atom in traj_short.topology.atoms if ((atom.name == 'CA') and (atom.residue.index == 1))]\n",
    "last_ca_1 = [atom.index for atom in traj_short.topology.atoms if ((atom.name == 'CA') and (atom.residue.index == 30))]\n",
    "\n",
    "first_ca_2 = [atom.index for atom in traj_short.topology.atoms if ((atom.name == 'CA') and (atom.residue.index == 33))]\n",
    "last_ca_2 = [atom.index for atom in traj_short.topology.atoms if ((atom.name == 'CA') and (atom.residue.index == 62))]\n",
    "\n",
    "first_ca_3 = [atom.index for atom in traj_short.topology.atoms if ((atom.name == 'CA') and (atom.residue.index == 65))]\n",
    "last_ca_3 = [atom.index for atom in traj_short.topology.atoms if ((atom.name == 'CA') and (atom.residue.index == 94))]\n",
    "\n",
    "first_ca_4 = [atom.index for atom in traj_short.topology.atoms if ((atom.name == 'CA') and (atom.residue.index == 97))]\n",
    "last_ca_4 = [atom.index for atom in traj_short.topology.atoms if ((atom.name == 'CA') and (atom.residue.index == 126))]"
   ]
  },
  {
   "cell_type": "code",
   "execution_count": null,
   "id": "702b8133",
   "metadata": {},
   "outputs": [],
   "source": [
    "ca_end_1 = np.array([[first_ca_1[0], last_ca_1[0]], [0,0]])\n",
    "ca_end_2 = np.array([[first_ca_2[0], last_ca_2[0]], [0,0]])\n",
    "ca_end_3 = np.array([[first_ca_3[0], last_ca_3[0]], [0,0]])\n",
    "ca_end_4 = np.array([[first_ca_4[0], last_ca_4[0]], [0,0]])"
   ]
  },
  {
   "cell_type": "code",
   "execution_count": null,
   "id": "6218e3b5",
   "metadata": {},
   "outputs": [],
   "source": [
    "end_to_end_1 = md.compute_distances(traj_short, ca_end_1)\n",
    "end_to_end_2 = md.compute_distances(traj_short, ca_end_2)\n",
    "end_to_end_3 = md.compute_distances(traj_short, ca_end_3)\n",
    "end_to_end_4 = md.compute_distances(traj_short, ca_end_4)\n",
    "\n",
    "end_1=[]\n",
    "end_2=[]\n",
    "end_3=[]\n",
    "end_4=[]\n",
    "\n",
    "for end in end_to_end_1:\n",
    "    end_1.append(end[0])\n",
    "    \n",
    "for end in end_to_end_2:\n",
    "    end_2.append(end[0])\n",
    "    \n",
    "for end in end_to_end_3:\n",
    "    end_3.append(end[0])\n",
    "    \n",
    "for end in end_to_end_4:\n",
    "    end_4.append(end[0])"
   ]
  },
  {
   "cell_type": "code",
   "execution_count": null,
   "id": "248f7480",
   "metadata": {},
   "outputs": [],
   "source": [
    "fig,ax = plt.subplots()\n",
    "\n",
    "ax.plot(t_trunc, end_1, label = \"A\")\n",
    "ax.plot(t_trunc, end_2, label = \"B\")\n",
    "ax.plot(t_trunc, end_3, label = \"C\")\n",
    "ax.plot(t_trunc, end_4, label = \"D\")\n",
    "\n",
    "ax.set_xlim([0.0, 210.0])\n",
    "ax.set_ylim([0.0, 6.0])\n",
    "\n",
    "ax.set(xlabel='t (ns)', ylabel='end-to-end distance (nm)', title='')\n",
    "ax.grid()\n",
    "ax.legend(bbox_to_anchor=(1,1), loc='upper left')\n",
    "plt.gcf().set_size_inches(15,5)\n",
    "\n",
    "fig.savefig(work_dir+'analysis/end-to-end-distance-multiple.png', bbox_inches=\"tight\")\n",
    "plt.show()"
   ]
  },
  {
   "cell_type": "markdown",
   "id": "2dd521ef",
   "metadata": {},
   "source": [
    "## "
   ]
  }
 ],
 "metadata": {
  "kernelspec": {
   "display_name": "Python 3 (ipykernel)",
   "language": "python",
   "name": "python3"
  },
  "language_info": {
   "codemirror_mode": {
    "name": "ipython",
    "version": 3
   },
   "file_extension": ".py",
   "mimetype": "text/x-python",
   "name": "python",
   "nbconvert_exporter": "python",
   "pygments_lexer": "ipython3",
   "version": "3.8.8"
  }
 },
 "nbformat": 4,
 "nbformat_minor": 5
}
