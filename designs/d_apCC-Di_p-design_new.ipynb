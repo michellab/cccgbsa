{
 "cells": [
  {
   "cell_type": "code",
   "execution_count": 1,
   "id": "22443913",
   "metadata": {},
   "outputs": [
    {
     "data": {
      "application/vnd.jupyter.widget-view+json": {
       "model_id": "d4196f4b93614426bf672e25f9408ce9",
       "version_major": 2,
       "version_minor": 0
      },
      "text/plain": []
     },
     "metadata": {},
     "output_type": "display_data"
    }
   ],
   "source": [
    "import ampal\n",
    "import isambard\n",
    "import isambard.specifications as specs\n",
    "import isambard.modelling as modelling\n",
    "import isambard.optimisation.evo_optimizers as ev_opts\n",
    "from isambard.optimisation.evo_optimizers import Parameter\n",
    "import budeff\n",
    "\n",
    "import matplotlib.pyplot as plt\n",
    "import numpy as np\n",
    "import itertools\n",
    "from pprint import pprint\n",
    "import nglview as nv\n",
    "from contextlib import redirect_stdout\n",
    "\n",
    "%matplotlib inline"
   ]
  },
  {
   "cell_type": "code",
   "execution_count": 2,
   "id": "338c1b3d",
   "metadata": {},
   "outputs": [],
   "source": [
    "def show_ball_and_stick(ampal):\n",
    "    view = nv.show_text(ampal.pdb)\n",
    "    view.add_ball_and_stick()\n",
    "    view.remove_cartoon()\n",
    "    return view"
   ]
  },
  {
   "cell_type": "code",
   "execution_count": 3,
   "id": "51e1ead5",
   "metadata": {},
   "outputs": [],
   "source": [
    "REGISTER_ADJUST = {\n",
    "    'a': 0,\n",
    "    'b': 102.8,\n",
    "    'c': 205.6,\n",
    "    'd': 308.4,\n",
    "    'e': 51.4,\n",
    "    'f': 154.2,\n",
    "    'g': 257\n",
    "}"
   ]
  },
  {
   "cell_type": "code",
   "execution_count": 4,
   "id": "efb3eff3",
   "metadata": {},
   "outputs": [],
   "source": [
    "specification = specs.CoiledCoil.from_parameters"
   ]
  },
  {
   "cell_type": "code",
   "execution_count": 5,
   "id": "e5ebb15f",
   "metadata": {},
   "outputs": [],
   "source": [
    "sequences = ['GQLEQELAALDQQIAALKQRRAALKWQIQG', 'GQLEQELAALDQQIAALKQRRAALKWQIQG']"
   ]
  },
  {
   "cell_type": "code",
   "execution_count": 7,
   "id": "e12f69d1",
   "metadata": {},
   "outputs": [],
   "source": [
    "parameters = [\n",
    "    Parameter.static('Oligomeric State', 2),\n",
    "    Parameter.static('Helix Length', 30),\n",
    "    Parameter.dynamic('Radius', 5.0, 1.0),\n",
    "    Parameter.dynamic('Pitch', 200, 60),\n",
    "    Parameter.dynamic('PhiCA', REGISTER_ADJUST['b'], 27),  \n",
    "]"
   ]
  },
  {
   "cell_type": "code",
   "execution_count": 8,
   "id": "73cee7f3",
   "metadata": {},
   "outputs": [
    {
     "name": "stdout",
     "output_type": "stream",
     "text": [
      "[2, 30, 5.0, 200, 102.8]\n"
     ]
    }
   ],
   "source": [
    "default_values = [x.default_value for x in parameters]\n",
    "print(default_values)"
   ]
  },
  {
   "cell_type": "code",
   "execution_count": 9,
   "id": "839dd4e5",
   "metadata": {},
   "outputs": [],
   "source": [
    "def get_bude_total_energy(ampal_object):\n",
    "    return budeff.get_internal_energy(ampal_object).total_energy"
   ]
  },
  {
   "attachments": {},
   "cell_type": "markdown",
   "id": "a7ab800e",
   "metadata": {},
   "source": [
    "### Genetic Algorithm"
   ]
  },
  {
   "cell_type": "code",
   "execution_count": 10,
   "id": "33bdd976",
   "metadata": {},
   "outputs": [],
   "source": [
    "opt_ga = ev_opts.GA(specification, sequences, parameters, get_bude_total_energy)"
   ]
  },
  {
   "cell_type": "code",
   "execution_count": 11,
   "id": "92d7dbdb",
   "metadata": {},
   "outputs": [
    {
     "name": "stdout",
     "output_type": "stream",
     "text": [
      "gen\tevals\tavg     \tstd    \tmin     \tmax     \n",
      "0  \t57   \t-843.238\t43.3465\t-939.222\t-770.078\n",
      "1  \t84   \t-892.843\t23.3785\t-947.697\t-842.238\n",
      "2  \t74   \t-915.26 \t16.6732\t-947.697\t-892.239\n",
      "3  \t56   \t-927.472\t12.7523\t-948.673\t-904.713\n",
      "4  \t74   \t-937.787\t5.68118\t-950.885\t-926.296\n",
      "5  \t84   \t-942.322\t3.76118\t-952.412\t-938.48 \n",
      "6  \t71   \t-943.616\t3.81238\t-952.412\t-939.236\n",
      "7  \t72   \t-945.288\t3.37148\t-952.412\t-939.712\n",
      "8  \t66   \t-946.294\t2.88343\t-952.412\t-941.262\n",
      "9  \t79   \t-947.003\t2.64075\t-952.412\t-942.473\n",
      "10 \t79   \t-947.343\t2.53051\t-952.412\t-942.818\n",
      "11 \t79   \t-948.216\t2.19343\t-952.412\t-943.376\n",
      "12 \t62   \t-948.323\t2.35151\t-952.412\t-943.376\n",
      "13 \t66   \t-948.834\t1.90803\t-952.412\t-945.834\n",
      "14 \t68   \t-949.244\t1.86151\t-952.412\t-946.521\n",
      "15 \t75   \t-949.278\t1.83816\t-952.485\t-946.754\n",
      "16 \t65   \t-949.402\t1.89449\t-952.485\t-946.754\n",
      "17 \t66   \t-949.499\t1.89006\t-952.485\t-946.485\n",
      "18 \t91   \t-949.851\t1.80152\t-952.485\t-946.888\n",
      "19 \t73   \t-949.946\t1.81426\t-952.485\t-946.979\n",
      "20 \t73   \t-949.619\t2.29272\t-952.502\t-939.757\n",
      "21 \t68   \t-950.526\t1.81602\t-952.502\t-947.187\n",
      "22 \t88   \t-951.42 \t1.46376\t-952.502\t-947.603\n",
      "23 \t69   \t-952.226\t0.495458\t-952.502\t-951.01 \n",
      "24 \t53   \t-952.402\t0.267133\t-952.502\t-951.396\n",
      "25 \t77   \t-952.497\t0.00766945\t-952.502\t-952.485\n",
      "26 \t77   \t-952.502\t0.00227137\t-952.502\t-952.485\n",
      "27 \t71   \t-952.502\t1.13687e-13\t-952.502\t-952.502\n",
      "28 \t79   \t-952.502\t1.13687e-13\t-952.502\t-952.502\n",
      "29 \t67   \t-952.502\t1.13687e-13\t-952.502\t-952.502\n",
      "Evaluated 2263 models in total in 0:06:09.494863\n",
      "Best fitness is (-952.5023636230629,)\n",
      "Best parameters are [2, 30, 4.460508711234381, 176.5776247752659, 125.76476990977437]\n"
     ]
    }
   ],
   "source": [
    "opt_ga.run_opt(100, 30, cores=8)"
   ]
  },
  {
   "cell_type": "code",
   "execution_count": 12,
   "id": "f167056b",
   "metadata": {},
   "outputs": [],
   "source": [
    "optimized_model_ga = opt_ga.best_model"
   ]
  },
  {
   "cell_type": "code",
   "execution_count": 13,
   "id": "fab6decd",
   "metadata": {},
   "outputs": [
    {
     "data": {
      "text/plain": [
       "-952.5023636230629"
      ]
     },
     "execution_count": 13,
     "metadata": {},
     "output_type": "execute_result"
    }
   ],
   "source": [
    "budeff.get_internal_energy(optimized_model_ga).total_energy"
   ]
  },
  {
   "cell_type": "code",
   "execution_count": 14,
   "id": "568bb2f4",
   "metadata": {},
   "outputs": [],
   "source": [
    "funnel_data_ga = opt_ga.make_energy_funnel_data()"
   ]
  },
  {
   "cell_type": "code",
   "execution_count": 15,
   "id": "e6ce85e4",
   "metadata": {},
   "outputs": [],
   "source": [
    "xs = [x[0] for x in funnel_data_ga]\n",
    "ys = [x[1] for x in funnel_data_ga]\n",
    "zs = [x[2] for x in funnel_data_ga]"
   ]
  },
  {
   "cell_type": "code",
   "execution_count": 16,
   "id": "79276356",
   "metadata": {},
   "outputs": [
    {
     "data": {
      "image/png": "[encoded data removed]",
      "text/plain": [
       "<Figure size 288x288 with 1 Axes>"
      ]
     },
     "metadata": {
      "needs_background": "light"
     },
     "output_type": "display_data"
    }
   ],
   "source": [
    "fig, ax = plt.subplots(1, 1)\n",
    "fig.set_size_inches(4, 4)\n",
    "#ax.grid()\n",
    "ax.scatter(xs, ys, c=zs)\n",
    "ax.set_xlabel('RMSD (Å)')\n",
    "ax.set_ylabel('BUFF Internal Energy')\n",
    "\n",
    "fig.savefig('ga.png')"
   ]
  },
  {
   "cell_type": "code",
   "execution_count": 17,
   "id": "9bbdc50a",
   "metadata": {},
   "outputs": [],
   "source": [
    "f = open('d_CC-Di_p-optimized-model-ga.pdb', 'w')\n",
    "\n",
    "with redirect_stdout(f):\n",
    "    print(optimized_model_ga.pdb)"
   ]
  },
  {
   "attachments": {},
   "cell_type": "markdown",
   "id": "fad16a26",
   "metadata": {},
   "source": [
    "### Differential Evolution"
   ]
  },
  {
   "cell_type": "code",
   "execution_count": 18,
   "id": "a262e6b0",
   "metadata": {},
   "outputs": [
    {
     "name": "stderr",
     "output_type": "stream",
     "text": [
      "/home/eva/anaconda3/lib/python3.9/site-packages/deap/creator.py:138: RuntimeWarning: A class named 'FitnessMin' has already been created and it will be overwritten. Consider deleting previous creation of that class or rename it.\n",
      "  warnings.warn(\"A class named '{0}' has already been created and it \"\n",
      "/home/eva/anaconda3/lib/python3.9/site-packages/deap/creator.py:138: RuntimeWarning: A class named 'Individual' has already been created and it will be overwritten. Consider deleting previous creation of that class or rename it.\n",
      "  warnings.warn(\"A class named '{0}' has already been created and it \"\n"
     ]
    }
   ],
   "source": [
    "opt_de = ev_opts.DE(specification, sequences, parameters, get_bude_total_energy)"
   ]
  },
  {
   "cell_type": "code",
   "execution_count": 19,
   "id": "a7c939e8",
   "metadata": {},
   "outputs": [
    {
     "name": "stdout",
     "output_type": "stream",
     "text": [
      "gen\tevals\tavg    \tstd    \tmin     \tmax     \n",
      "0  \t100  \t-810.28\t100.349\t-919.429\t-219.611\n",
      "1  \t100  \t-841.863\t47.5683\t-919.429\t-640.459\n",
      "2  \t100  \t-869.75 \t33.5713\t-949.817\t-764.653\n",
      "3  \t100  \t-887.493\t26.0456\t-949.817\t-812.402\n",
      "4  \t100  \t-897.803\t19.4185\t-949.817\t-849.682\n",
      "5  \t100  \t-903.202\t18.9043\t-949.817\t-849.682\n",
      "6  \t100  \t-909.347\t17.5969\t-949.817\t-866.712\n",
      "7  \t100  \t-917.056\t16.6265\t-949.817\t-887.811\n"
     ]
    }
   ],
   "source": [
    "opt_de.run_opt(100, 30, cores=8)"
   ]
  },
  {
   "cell_type": "code",
   "execution_count": null,
   "id": "6409e11c",
   "metadata": {},
   "outputs": [],
   "source": [
    "optimized_model_de = opt_de.best_model\n",
    "budeff.get_internal_energy(optimized_model_de).total_energy"
   ]
  },
  {
   "cell_type": "code",
   "execution_count": null,
   "id": "8266a6d5",
   "metadata": {},
   "outputs": [],
   "source": [
    "funnel_data_de = opt_de.make_energy_funnel_data()"
   ]
  },
  {
   "cell_type": "code",
   "execution_count": null,
   "id": "f8f0eb0e",
   "metadata": {},
   "outputs": [],
   "source": [
    "xs = [x[0] for x in funnel_data_de]\n",
    "ys = [x[1] for x in funnel_data_de]\n",
    "zs = [x[2] for x in funnel_data_de]"
   ]
  },
  {
   "cell_type": "code",
   "execution_count": null,
   "id": "e745835f",
   "metadata": {},
   "outputs": [],
   "source": [
    "fig, ax = plt.subplots(1, 1)\n",
    "fig.set_size_inches(4, 4)\n",
    "#ax.grid()\n",
    "ax.scatter(xs, ys, c=zs)\n",
    "ax.set_xlabel('RMSD (Å)')\n",
    "ax.set_ylabel('BUFF Internal Energy')\n",
    "\n",
    "fig.savefig('de.png')"
   ]
  },
  {
   "cell_type": "code",
   "execution_count": null,
   "id": "d4374985",
   "metadata": {},
   "outputs": [],
   "source": [
    "f = open('d_CC-Di_p-optimized-model-de.pdb', 'w')\n",
    "\n",
    "with redirect_stdout(f):\n",
    "    print(optimized_model_de.pdb)"
   ]
  },
  {
   "attachments": {},
   "cell_type": "markdown",
   "id": "91e576f8",
   "metadata": {},
   "source": [
    "### Particle Swarm Optimisation"
   ]
  },
  {
   "cell_type": "code",
   "execution_count": null,
   "id": "aee4a196",
   "metadata": {},
   "outputs": [],
   "source": [
    "opt_pso = ev_opts.PSO(specification, sequences, parameters, get_bude_total_energy)"
   ]
  },
  {
   "cell_type": "code",
   "execution_count": null,
   "id": "3354b1a8",
   "metadata": {},
   "outputs": [],
   "source": [
    "opt_pso.run_opt(100, 30, cores=8)"
   ]
  },
  {
   "cell_type": "code",
   "execution_count": null,
   "id": "38e7c9ed",
   "metadata": {},
   "outputs": [],
   "source": [
    "optimized_model_pso = opt_pso.best_model\n",
    "budeff.get_internal_energy(optimized_model_pso).total_energy"
   ]
  },
  {
   "cell_type": "code",
   "execution_count": null,
   "id": "6f13e293",
   "metadata": {},
   "outputs": [],
   "source": [
    "funnel_data_pso = opt_pso.make_energy_funnel_data()"
   ]
  },
  {
   "cell_type": "code",
   "execution_count": null,
   "id": "7f8dd317",
   "metadata": {},
   "outputs": [],
   "source": [
    "xs = [x[0] for x in funnel_data_pso]\n",
    "ys = [x[1] for x in funnel_data_pso]\n",
    "zs = [x[2] for x in funnel_data_pso]"
   ]
  },
  {
   "cell_type": "code",
   "execution_count": null,
   "id": "de149ce1",
   "metadata": {},
   "outputs": [],
   "source": [
    "fig, ax = plt.subplots(1, 1)\n",
    "fig.set_size_inches(4, 4)\n",
    "#ax.grid()\n",
    "ax.scatter(xs, ys, c=zs)\n",
    "ax.set_xlabel('RMSD (Å)')\n",
    "ax.set_ylabel('BUFF Internal Energy')\n",
    "\n",
    "fig.savefig('pso.png')"
   ]
  },
  {
   "cell_type": "code",
   "execution_count": null,
   "id": "3766ab8c",
   "metadata": {},
   "outputs": [],
   "source": [
    "f = open('d_CC-Di_p-optimized-model-pso.pdb', 'w')\n",
    "\n",
    "with redirect_stdout(f):\n",
    "    print(optimized_model_pso.pdb)"
   ]
  },
  {
   "attachments": {},
   "cell_type": "markdown",
   "id": "c7b01524",
   "metadata": {},
   "source": [
    "### Covariance Matrix Adaptive Evolutionary Strategy"
   ]
  },
  {
   "cell_type": "code",
   "execution_count": null,
   "id": "4194fcf9",
   "metadata": {},
   "outputs": [],
   "source": [
    "opt_cmaes = ev_opts.CMAES(specification, sequences, parameters, get_bude_total_energy)"
   ]
  },
  {
   "cell_type": "code",
   "execution_count": null,
   "id": "ee2be746",
   "metadata": {},
   "outputs": [],
   "source": [
    "opt_cmaes.run_opt(100, 30, cores=8)"
   ]
  },
  {
   "cell_type": "code",
   "execution_count": null,
   "id": "82e7c62f",
   "metadata": {},
   "outputs": [],
   "source": [
    "optimized_model_cmaes = opt_cmaes.best_model\n",
    "budeff.get_internal_energy(optimized_model_cmaes).total_energy"
   ]
  },
  {
   "cell_type": "code",
   "execution_count": null,
   "id": "827f68ca",
   "metadata": {},
   "outputs": [],
   "source": [
    "funnel_data_cmaes = opt_cmaes.make_energy_funnel_data()"
   ]
  },
  {
   "cell_type": "code",
   "execution_count": null,
   "id": "beb8d41b",
   "metadata": {},
   "outputs": [],
   "source": [
    "xs = [x[0] for x in funnel_data_cmaes]\n",
    "ys = [x[1] for x in funnel_data_cmaes]\n",
    "zs = [x[2] for x in funnel_data_cmaes]"
   ]
  },
  {
   "cell_type": "code",
   "execution_count": null,
   "id": "ac1cd7ee",
   "metadata": {},
   "outputs": [],
   "source": [
    "fig, ax = plt.subplots(1, 1)\n",
    "fig.set_size_inches(4, 4)\n",
    "#ax.grid()\n",
    "ax.scatter(xs, ys, c=zs)\n",
    "ax.set_xlabel('RMSD (Å)')\n",
    "ax.set_ylabel('BUFF Internal Energy')\n",
    "\n",
    "fig.savefig('cmaes.png')"
   ]
  },
  {
   "cell_type": "code",
   "execution_count": null,
   "id": "59d90949",
   "metadata": {},
   "outputs": [],
   "source": [
    "f = open('d_CC-Di_p-optimized-model-cmaes.pdb', 'w')\n",
    "\n",
    "with redirect_stdout(f):\n",
    "    print(optimized_model_cmaes.pdb)"
   ]
  }
 ],
 "metadata": {
  "kernelspec": {
   "display_name": "Python 3 (ipykernel)",
   "language": "python",
   "name": "python3"
  },
  "language_info": {
   "codemirror_mode": {
    "name": "ipython",
    "version": 3
   },
   "file_extension": ".py",
   "mimetype": "text/x-python",
   "name": "python",
   "nbconvert_exporter": "python",
   "pygments_lexer": "ipython3",
   "version": "3.9.12"
  }
 },
 "nbformat": 4,
 "nbformat_minor": 5
}
