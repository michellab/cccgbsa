{
 "cells": [
  {
   "cell_type": "code",
   "execution_count": 1,
   "metadata": {},
   "outputs": [
    {
     "data": {
      "application/vnd.jupyter.widget-view+json": {
       "model_id": "4deed8282dd34b67972be3406f2b9b19",
       "version_major": 2,
       "version_minor": 0
      },
      "text/plain": []
     },
     "metadata": {},
     "output_type": "display_data"
    }
   ],
   "source": [
    "import ampal\n",
    "import isambard\n",
    "import isambard.specifications as specifications\n",
    "import isambard.modelling as modelling\n",
    "import isambard.optimisation as optimisation\n",
    "import isambard.optimisation.evo_optimizers as ev_opts\n",
    "from isambard.optimisation.evo_optimizers import Parameter\n",
    "import budeff\n",
    "\n",
    "import matplotlib.pyplot as plt\n",
    "import numpy as np\n",
    "import itertools\n",
    "from pprint import pprint\n",
    "import nglview as nv\n",
    "from contextlib import redirect_stdout\n",
    "\n",
    "%matplotlib inline"
   ]
  },
  {
   "cell_type": "code",
   "execution_count": 2,
   "metadata": {},
   "outputs": [],
   "source": [
    "def show_ball_and_stick(ampal):\n",
    "    view = nv.show_text(ampal.pdb)\n",
    "    view.add_ball_and_stick()\n",
    "    view.remove_cartoon()\n",
    "    return view"
   ]
  },
  {
   "cell_type": "code",
   "execution_count": 3,
   "metadata": {},
   "outputs": [],
   "source": [
    "class APHomoDimer(specifications.CoiledCoil):\n",
    "    \"\"\"Specification for creating anti-parallel, homodimeric coiled coils.\"\"\"\n",
    "    \n",
    "    oligomeric_state = 2\n",
    "    \n",
    "    # The only thing that we need to define is a new `__init__` method, which defines\n",
    "    # how the class is created. We get all the rest of the functionality off the\n",
    "    # parent class `CoiledCoil`.\n",
    "    def __init__(self, helix_length, radius, pitch, phica, zshift):\n",
    "        # To kick everything off, this class runs the standard setup of the `CoiledCoil`\n",
    "        # class, which gives our class all of the same attributes and methods. The\n",
    "        # `super` function gives us access to the parent class. As we want to modify\n",
    "        # some of the parameters before building the model, we set `auto_build` to false\n",
    "        super().__init__(self.oligomeric_state, auto_build=False)\n",
    "        \n",
    "        # Next, we redefine the relevant default values that `CoiledCoil` has set. As\n",
    "        # we have 2 helices, we have 2 values for each of these, but in this case they\n",
    "        # are the same as we're making a homodimer\n",
    "        self.aas = [helix_length, helix_length]\n",
    "        self.major_radii = [radius, radius]\n",
    "        self.major_pitches = [pitch, pitch]\n",
    "        self.z_shifts = [0, zshift]\n",
    "        self.phi_c_alphas = [phica, phica]\n",
    "        \n",
    "        # We need to set the orientation of the helices to be anti-parallel, so one\n",
    "        # needs to have a +1 orientation and the other needs a -1 orientation\n",
    "        self.orientations = [1, -1]\n",
    "\n",
    "        # Now we've redefined these values, we need to build the model from these\n",
    "        # parameters. We can do this using the build method, which comes from\n",
    "        # `CoiledCoil`\n",
    "        self.build()"
   ]
  },
  {
   "cell_type": "code",
   "execution_count": 4,
   "metadata": {},
   "outputs": [],
   "source": [
    "REGISTER_ADJUST = {\n",
    "    'a': 0,\n",
    "    'b': 102.8,\n",
    "    'c': 205.6,\n",
    "    'd': 308.4,\n",
    "    'e': 51.4,\n",
    "    'f': 154.2,\n",
    "    'g': 257\n",
    "}"
   ]
  },
  {
   "cell_type": "code",
   "execution_count": 5,
   "metadata": {},
   "outputs": [],
   "source": [
    "sequences = ['GEIAALKQEIAALKKENAALKWEIAALKQGYY', 'GEIAALKQEIAALKKENAALKWEIAALKQGYY']"
   ]
  },
  {
   "cell_type": "code",
   "execution_count": 6,
   "metadata": {},
   "outputs": [],
   "source": [
    "def get_bude_total_energy(ampal_object):\n",
    "    return budeff.get_internal_energy(ampal_object).total_energy"
   ]
  },
  {
   "cell_type": "code",
   "execution_count": 7,
   "metadata": {},
   "outputs": [],
   "source": [
    "parameters = [\n",
    "    optimisation.Parameter.static('Helix Length', 32),\n",
    "    optimisation.Parameter.dynamic('Radius', 5.0, 1.0),\n",
    "    optimisation.Parameter.dynamic('Pitch', 200, 60),\n",
    "    optimisation.Parameter.dynamic('PhiCA', REGISTER_ADJUST['f'], 27),\n",
    "    optimisation.Parameter.dynamic('ZShift', 10, 10),\n",
    "]"
   ]
  },
  {
   "cell_type": "code",
   "execution_count": 8,
   "metadata": {},
   "outputs": [
    {
     "name": "stdout",
     "output_type": "stream",
     "text": [
      "[32, 5.0, 200, 154.2, 10]\n"
     ]
    }
   ],
   "source": [
    "default_values = [x.default_value for x in parameters]\n",
    "print(default_values)"
   ]
  },
  {
   "attachments": {},
   "cell_type": "markdown",
   "metadata": {},
   "source": [
    "### Genetic Algorithm"
   ]
  },
  {
   "cell_type": "code",
   "execution_count": 9,
   "metadata": {},
   "outputs": [],
   "source": [
    "opt_ga = ev_opts.GA(APHomoDimer, sequences, parameters, get_bude_total_energy)"
   ]
  },
  {
   "cell_type": "code",
   "execution_count": 10,
   "metadata": {},
   "outputs": [],
   "source": [
    "opt_ga.run_opt(100, 30, cores=8)"
   ]
  },
  {
   "cell_type": "code",
   "execution_count": null,
   "metadata": {},
   "outputs": [],
   "source": [
    "optimized_model_ga = opt_ga.best_model"
   ]
  },
  {
   "cell_type": "code",
   "execution_count": null,
   "metadata": {},
   "outputs": [],
   "source": [
    "budeff.get_internal_energy(optimized_model_ga).total_energy"
   ]
  },
  {
   "cell_type": "code",
   "execution_count": null,
   "metadata": {},
   "outputs": [],
   "source": [
    "funnel_data_ga = opt_ga.make_energy_funnel_data()"
   ]
  },
  {
   "cell_type": "code",
   "execution_count": null,
   "metadata": {},
   "outputs": [],
   "source": [
    "xs = [x[0] for x in funnel_data_ga]\n",
    "ys = [x[1] for x in funnel_data_ga]\n",
    "zs = [x[2] for x in funnel_data_ga]"
   ]
  },
  {
   "cell_type": "code",
   "execution_count": null,
   "metadata": {},
   "outputs": [],
   "source": [
    "fig, ax = plt.subplots(1, 1)\n",
    "fig.set_size_inches(4, 4)\n",
    "#ax.grid()\n",
    "ax.scatter(xs, ys, c=zs)\n",
    "ax.set_xlabel('RMSD (Å)')\n",
    "ax.set_ylabel('BUFF Internal Energy')\n",
    "\n",
    "fig.savefig('ga.png')"
   ]
  },
  {
   "cell_type": "code",
   "execution_count": null,
   "metadata": {},
   "outputs": [],
   "source": [
    "f = open('d_CC-Di_ap-optimized-model-ga.pdb', 'w')\n",
    "\n",
    "with redirect_stdout(f):\n",
    "    print(optimized_model_ga.pdb)"
   ]
  },
  {
   "attachments": {},
   "cell_type": "markdown",
   "metadata": {},
   "source": [
    "### Differential Evolution"
   ]
  },
  {
   "cell_type": "code",
   "execution_count": null,
   "metadata": {},
   "outputs": [],
   "source": [
    "opt_de = ev_opts.DE(APHomoDimer, sequences, parameters, get_bude_total_energy)"
   ]
  },
  {
   "cell_type": "code",
   "execution_count": null,
   "metadata": {},
   "outputs": [],
   "source": [
    "opt_de.run_opt(100, 30, cores=8)"
   ]
  },
  {
   "cell_type": "code",
   "execution_count": null,
   "metadata": {},
   "outputs": [],
   "source": [
    "optimized_model_de = opt_de.best_model\n",
    "budeff.get_internal_energy(optimized_model_de).total_energy"
   ]
  },
  {
   "cell_type": "code",
   "execution_count": null,
   "metadata": {},
   "outputs": [],
   "source": [
    "funnel_data_de = opt_de.make_energy_funnel_data()"
   ]
  },
  {
   "cell_type": "code",
   "execution_count": null,
   "metadata": {},
   "outputs": [],
   "source": [
    "xs = [x[0] for x in funnel_data_de]\n",
    "ys = [x[1] for x in funnel_data_de]\n",
    "zs = [x[2] for x in funnel_data_de]"
   ]
  },
  {
   "cell_type": "code",
   "execution_count": null,
   "metadata": {},
   "outputs": [],
   "source": [
    "fig, ax = plt.subplots(1, 1)\n",
    "fig.set_size_inches(4, 4)\n",
    "#ax.grid()\n",
    "ax.scatter(xs, ys, c=zs)\n",
    "ax.set_xlabel('RMSD (Å)')\n",
    "ax.set_ylabel('BUFF Internal Energy')\n",
    "\n",
    "fig.savefig('de.png')"
   ]
  },
  {
   "cell_type": "code",
   "execution_count": null,
   "metadata": {},
   "outputs": [],
   "source": [
    "f = open('d_CC-Di_ap-optimized-model-de.pdb', 'w')\n",
    "\n",
    "with redirect_stdout(f):\n",
    "    print(optimized_model_de.pdb)"
   ]
  },
  {
   "attachments": {},
   "cell_type": "markdown",
   "metadata": {},
   "source": [
    "### Particle Swarm Optimisation"
   ]
  },
  {
   "cell_type": "code",
   "execution_count": null,
   "metadata": {},
   "outputs": [],
   "source": [
    "opt_pso = ev_opts.PSO(APHomoDimer, sequences, parameters, get_bude_total_energy)"
   ]
  },
  {
   "cell_type": "code",
   "execution_count": null,
   "metadata": {},
   "outputs": [],
   "source": [
    "opt_pso.run_opt(100, 30, cores=8)"
   ]
  },
  {
   "cell_type": "code",
   "execution_count": null,
   "metadata": {},
   "outputs": [],
   "source": [
    "optimized_model_pso = opt_pso.best_model\n",
    "budeff.get_internal_energy(optimized_model_pso).total_energy"
   ]
  },
  {
   "cell_type": "code",
   "execution_count": null,
   "metadata": {},
   "outputs": [],
   "source": [
    "funnel_data_pso = opt_pso.make_energy_funnel_data()"
   ]
  },
  {
   "cell_type": "code",
   "execution_count": null,
   "metadata": {},
   "outputs": [],
   "source": [
    "xs = [x[0] for x in funnel_data_pso]\n",
    "ys = [x[1] for x in funnel_data_pso]\n",
    "zs = [x[2] for x in funnel_data_pso]"
   ]
  },
  {
   "cell_type": "code",
   "execution_count": null,
   "metadata": {},
   "outputs": [],
   "source": [
    "fig, ax = plt.subplots(1, 1)\n",
    "fig.set_size_inches(4, 4)\n",
    "#ax.grid()\n",
    "ax.scatter(xs, ys, c=zs)\n",
    "ax.set_xlabel('RMSD (Å)')\n",
    "ax.set_ylabel('BUFF Internal Energy')\n",
    "\n",
    "fig.savefig('pso.png')"
   ]
  },
  {
   "cell_type": "code",
   "execution_count": null,
   "metadata": {},
   "outputs": [],
   "source": [
    "f = open('d_CC-Di_ap-optimized-model-pso.pdb', 'w')\n",
    "\n",
    "with redirect_stdout(f):\n",
    "    print(optimized_model_pso.pdb)"
   ]
  },
  {
   "attachments": {},
   "cell_type": "markdown",
   "metadata": {},
   "source": [
    "### Covariance Matrix Adaptive Evolutionary Strategy"
   ]
  },
  {
   "cell_type": "code",
   "execution_count": null,
   "metadata": {},
   "outputs": [],
   "source": [
    "opt_cmaes = ev_opts.CMAES(APHomoDimer, sequences, parameters, get_bude_total_energy)"
   ]
  },
  {
   "cell_type": "code",
   "execution_count": null,
   "metadata": {},
   "outputs": [],
   "source": [
    "opt_cmaes.run_opt(100, 30, cores=8)"
   ]
  },
  {
   "cell_type": "code",
   "execution_count": null,
   "metadata": {},
   "outputs": [],
   "source": [
    "optimized_model_cmaes = opt_cmaes.best_model\n",
    "budeff.get_internal_energy(optimized_model_cmaes).total_energy"
   ]
  },
  {
   "cell_type": "code",
   "execution_count": null,
   "metadata": {},
   "outputs": [],
   "source": [
    "funnel_data_cmaes = opt_cmaes.make_energy_funnel_data()"
   ]
  },
  {
   "cell_type": "code",
   "execution_count": null,
   "metadata": {},
   "outputs": [],
   "source": [
    "xs = [x[0] for x in funnel_data_cmaes]\n",
    "ys = [x[1] for x in funnel_data_cmaes]\n",
    "zs = [x[2] for x in funnel_data_cmaes]"
   ]
  },
  {
   "cell_type": "code",
   "execution_count": null,
   "metadata": {},
   "outputs": [],
   "source": [
    "fig, ax = plt.subplots(1, 1)\n",
    "fig.set_size_inches(4, 4)\n",
    "#ax.grid()\n",
    "ax.scatter(xs, ys, c=zs)\n",
    "ax.set_xlabel('RMSD (Å)')\n",
    "ax.set_ylabel('BUFF Internal Energy')\n",
    "\n",
    "fig.savefig('cmaes.png')"
   ]
  },
  {
   "cell_type": "code",
   "execution_count": null,
   "metadata": {},
   "outputs": [],
   "source": [
    "f = open('d_CC-Di_ap-optimized-model-cmaes.pdb', 'w')\n",
    "\n",
    "with redirect_stdout(f):\n",
    "    print(optimized_model_cmaes.pdb)"
   ]
  },
  {
   "cell_type": "code",
   "execution_count": null,
   "metadata": {},
   "outputs": [],
   "source": []
  }
 ],
 "metadata": {
  "kernelspec": {
   "display_name": "base",
   "language": "python",
   "name": "python3"
  },
  "language_info": {
   "codemirror_mode": {
    "name": "ipython",
    "version": 3
   },
   "file_extension": ".py",
   "mimetype": "text/x-python",
   "name": "python",
   "nbconvert_exporter": "python",
   "pygments_lexer": "ipython3",
   "version": "3.9.12"
  },
  "orig_nbformat": 4
 },
 "nbformat": 4,
 "nbformat_minor": 2
}
