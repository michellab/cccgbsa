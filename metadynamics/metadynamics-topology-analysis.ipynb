{
 "cells": [
  {
   "cell_type": "code",
   "execution_count": null,
   "metadata": {},
   "outputs": [],
   "source": [
    "import mdtraj as md\n",
    "import numpy as np\n",
    "import matplotlib.pyplot as plt"
   ]
  },
  {
   "cell_type": "code",
   "execution_count": null,
   "metadata": {},
   "outputs": [],
   "source": [
    "struct_dir = '/home/eva/Documents/designs/p-IL-dimer/simulation-input/'\n",
    "pdb_file = struct_dir+'p-IL_fromtleap.pdb'\n",
    "prmtop_file = struct_dir+'p-IL.prmtop'\n",
    "inpcrd_file = struct_dir+'p-IL.inpcrd'\n",
    "work_dir = '/home/eva/Documents/gbsa-sims/cv-sims/metadynamics/p-IL-dimer/year2/pIL-6/'"
   ]
  },
  {
   "cell_type": "code",
   "execution_count": null,
   "metadata": {},
   "outputs": [],
   "source": [
    "#struct_dir = '/home/eva/Documents/structures/structures-obc2-ff96/apCC-Di/'\n",
    "#pdb_file = struct_dir+'apCC-Di_fromtleap.pdb'\n",
    "#prmtop_file = struct_dir+'apCC-Di.prmtop'\n",
    "#inpcrd_file = struct_dir+'apCC-Di.inpcrd'\n",
    "#work_dir = '/home/eva/Documents/gbsa-sims/cv-sims/metadynamics/apCC-Di/apCC-Di-1/'"
   ]
  },
  {
   "cell_type": "code",
   "execution_count": null,
   "metadata": {},
   "outputs": [],
   "source": [
    "system_code = 'p-IL dimer'"
   ]
  },
  {
   "cell_type": "code",
   "execution_count": null,
   "metadata": {},
   "outputs": [],
   "source": [
    "t = np.arange(0.0, 1000.0, 0.004)"
   ]
  },
  {
   "cell_type": "code",
   "execution_count": null,
   "metadata": {},
   "outputs": [],
   "source": [
    "traj = md.load(work_dir+'output.dcd', top = prmtop_file)\n",
    "traj"
   ]
  },
  {
   "cell_type": "code",
   "execution_count": null,
   "metadata": {},
   "outputs": [],
   "source": [
    "traj_2 = md.load(work_dir+'replicate-2/output.dcd', top = prmtop_file)\n",
    "traj_2"
   ]
  },
  {
   "cell_type": "code",
   "execution_count": null,
   "metadata": {},
   "outputs": [],
   "source": [
    "traj_3 = md.load(work_dir+'replicate-3/output.dcd', top = prmtop_file)\n",
    "traj_3"
   ]
  },
  {
   "cell_type": "code",
   "execution_count": null,
   "metadata": {},
   "outputs": [],
   "source": [
    "prot = md.load_pdb(pdb_file)\n",
    "\n",
    "chain1 = [atom.index for atom in prot.topology.chain(0).atoms] #chain1\n",
    "chain2 = [atom.index for atom in prot.topology.chain(1).atoms] #chain2\n",
    "assembly = [atom.index for atom in prot.topology.atoms] #full assembly\n",
    "\n",
    "chain1_top = md.load_pdb(pdb_file, atom_indices=chain1)\n",
    "chain2_top = md.load_pdb(pdb_file, atom_indices=chain2)"
   ]
  },
  {
   "cell_type": "code",
   "execution_count": null,
   "metadata": {},
   "outputs": [],
   "source": [
    "chain1_res = [res.name for res in chain1_top.topology.residues]\n",
    "\n",
    "chain2_res = [res.name for res in chain2_top.topology.residues]"
   ]
  },
  {
   "cell_type": "code",
   "execution_count": null,
   "metadata": {},
   "outputs": [],
   "source": [
    "if 'ACE' in chain1_res: # exlude caps from end-to-end calculation\n",
    "    nter_1_res_idx = 1\n",
    "    chain1_length = len(chain1_res)\n",
    "    first_ca_chain1 = [atom.index for atom in prot.topology.chain(0).atoms if ((atom.residue.index == nter_1_res_idx) and (atom.name == 'CA'))]\n",
    "    last_ca_chain1 = [atom.index for atom in prot.topology.chain(0).atoms if ((atom.residue.index == chain1_length-2) and (atom.name == 'CA'))]\n",
    "\n",
    "else:\n",
    "    nter_1_res_idx = 0\n",
    "    chain1_length = len(chain1_res)\n",
    "    first_ca_chain1 = [atom.index for atom in prot.topology.chain(0).atoms if ((atom.residue.index == nter_1_res_idx) and (atom.name == 'CA'))]\n",
    "    last_ca_chain1 = [atom.index for atom in prot.topology.chain(0).atoms if ((atom.residue.index == chain1_length-1) and (atom.name == 'CA'))]\n",
    "\n",
    "if 'ACE' in chain2_res:\n",
    "    nter_2_res_idx = 1\n",
    "    chain2_length = len(chain2_res)\n",
    "    first_ca_chain2 = [atom.index for atom in prot.topology.chain(1).atoms if ((atom.residue.index == chain1_length+1) and (atom.name == 'CA'))]\n",
    "    last_ca_chain2 = [atom.index for atom in prot.topology.chain(1).atoms if ((atom.residue.index == 2*chain1_length-2) and (atom.name == 'CA'))]\n",
    "else:\n",
    "    nter_2_res_idx = 0\n",
    "    chain2_length = len(chain2_res)\n",
    "    first_ca_chain2 = [atom.index for atom in prot.topology.chain(1).atoms if ((atom.residue.index == chain1_length) and (atom.name == 'CA'))]\n",
    "    last_ca_chain2 = [atom.index for atom in prot.topology.chain(1).atoms if ((atom.residue.index == 2*chain1_length-1) and (atom.name == 'CA'))]\n"
   ]
  },
  {
   "cell_type": "code",
   "execution_count": null,
   "metadata": {},
   "outputs": [],
   "source": [
    "first_ca_array = np.array([[first_ca_chain1[0], first_ca_chain2[0]], [0,0]])\n",
    "last_ca_array = np.array([[last_ca_chain1[0], last_ca_chain2[0]], [0,0]])"
   ]
  },
  {
   "cell_type": "code",
   "execution_count": null,
   "metadata": {},
   "outputs": [],
   "source": [
    "first_ca_end2end_1 = md.compute_distances(traj, first_ca_array)\n",
    "first_ca_end2end_2 = md.compute_distances(traj_2, first_ca_array)\n",
    "first_ca_end2end_3 = md.compute_distances(traj_3, first_ca_array)"
   ]
  },
  {
   "cell_type": "code",
   "execution_count": null,
   "metadata": {},
   "outputs": [],
   "source": [
    "first_ca_end2end_A_1 = []\n",
    "\n",
    "for i in first_ca_end2end_1:\n",
    "    first_ca_end2end_A_1.append(10*i[0])\n",
    "\n",
    "first_ca_end2end_A_2 = []\n",
    "\n",
    "for i in first_ca_end2end_2:\n",
    "    first_ca_end2end_A_2.append(10*i[0])\n",
    "\n",
    "first_ca_end2end_A_3 = []\n",
    "\n",
    "for i in first_ca_end2end_3:\n",
    "    first_ca_end2end_A_3.append(10*i[0])"
   ]
  },
  {
   "cell_type": "code",
   "execution_count": null,
   "metadata": {},
   "outputs": [],
   "source": [
    "last_ca_end2end_1 = md.compute_distances(traj, last_ca_array)\n",
    "last_ca_end2end_2 = md.compute_distances(traj_2, last_ca_array)\n",
    "last_ca_end2end_3 = md.compute_distances(traj_3, last_ca_array)"
   ]
  },
  {
   "cell_type": "code",
   "execution_count": null,
   "metadata": {},
   "outputs": [],
   "source": [
    "last_ca_end2end_A_1 = []\n",
    "\n",
    "for i in last_ca_end2end_1:\n",
    "    last_ca_end2end_A_1.append(10*i[0])\n",
    "\n",
    "last_ca_end2end_A_2 = []\n",
    "\n",
    "for i in last_ca_end2end_2:\n",
    "    last_ca_end2end_A_2.append(10*i[0])\n",
    "\n",
    "last_ca_end2end_A_3 = []\n",
    "\n",
    "for i in last_ca_end2end_3:\n",
    "    last_ca_end2end_A_3.append(10*i[0])"
   ]
  },
  {
   "cell_type": "code",
   "execution_count": null,
   "metadata": {},
   "outputs": [],
   "source": [
    "fig,ax = plt.subplots(3, sharex=True, sharey=True, figsize=(8,8))\n",
    "fig.tight_layout(h_pad=2)\n",
    "fig.suptitle(system_code, fontsize=15,y=1)\n",
    "ax[0].plot(t, first_ca_end2end_A_1, label = 'replicate 1', color='blue')\n",
    "ax[0].set_title('replicate 1', fontsize=10)\n",
    "plt.tight_layout\n",
    "ax[1].plot(t, first_ca_end2end_A_2, label = 'replicate 2', color='steelblue')\n",
    "ax[1].set_title('replicate 2', fontsize=10)\n",
    "ax[2].plot(t, first_ca_end2end_A_3, label = 'replicate 3', color='cornflowerblue')\n",
    "ax[2].set_title('replicate 3', fontsize=10)\n",
    "fig.supxlabel('t (ns)')\n",
    "fig.supylabel('N-termini CA distance ($\\AA$)')\n",
    "fig.tight_layout()\n",
    "fig.savefig(work_dir+'N-termini-dist.png')\n",
    "plt.show()\n"
   ]
  },
  {
   "cell_type": "code",
   "execution_count": null,
   "metadata": {},
   "outputs": [],
   "source": [
    "fig,ax = plt.subplots(3, sharex=True, sharey=True, figsize=(8,8))\n",
    "fig.tight_layout(h_pad=2)\n",
    "fig.suptitle(system_code, fontsize=15,y=1)\n",
    "ax[0].plot(t, last_ca_end2end_A_1, label = 'replicate 1', color='firebrick')\n",
    "ax[0].set_title('replicate 1', fontsize=10)\n",
    "plt.tight_layout\n",
    "ax[1].plot(t, last_ca_end2end_A_2, label = 'replicate 2', color='red')\n",
    "ax[1].set_title('replicate 2', fontsize=10)\n",
    "ax[2].plot(t, last_ca_end2end_A_3, label = 'replicate 3', color='tomato')\n",
    "ax[2].set_title('replicate 3', fontsize=10)\n",
    "fig.supxlabel('t (ns)')\n",
    "fig.supylabel('C-termini CA distance ($\\AA$)')\n",
    "fig.tight_layout()\n",
    "fig.savefig(work_dir+'C-termini-dist.png')\n",
    "plt.show()\n"
   ]
  },
  {
   "cell_type": "code",
   "execution_count": null,
   "metadata": {},
   "outputs": [],
   "source": [
    "# also need to make N-C termini distance and C-N termini distance to see if they adopt opposite topologies"
   ]
  },
  {
   "cell_type": "code",
   "execution_count": null,
   "metadata": {},
   "outputs": [],
   "source": [
    "first_ca1_last_ca2_array = np.array([[first_ca_chain1[0], last_ca_chain2[0]], [0,0]])\n",
    "last_ca1_first_ca2_array = np.array([[last_ca_chain1[0], first_ca_chain2[0]], [0,0]])"
   ]
  },
  {
   "cell_type": "code",
   "execution_count": null,
   "metadata": {},
   "outputs": [],
   "source": [
    "first_ca1_last_ca2_end2end_1 = md.compute_distances(traj, first_ca1_last_ca2_array)\n",
    "first_ca1_last_ca2_end2end_2 = md.compute_distances(traj_2, first_ca1_last_ca2_array)\n",
    "first_ca1_last_ca2_end2end_3 = md.compute_distances(traj_3, first_ca1_last_ca2_array)"
   ]
  },
  {
   "cell_type": "code",
   "execution_count": null,
   "metadata": {},
   "outputs": [],
   "source": [
    "first_ca1_last_ca2_end2end_A_1 = []\n",
    "\n",
    "for i in first_ca1_last_ca2_end2end_1:\n",
    "    first_ca1_last_ca2_end2end_A_1.append(10*i[0])\n",
    "\n",
    "first_ca1_last_ca2_end2end_A_2 = []\n",
    "\n",
    "for i in first_ca1_last_ca2_end2end_2:\n",
    "    first_ca1_last_ca2_end2end_A_2.append(10*i[0])\n",
    "\n",
    "first_ca1_last_ca2_end2end_A_3 = []\n",
    "\n",
    "for i in first_ca1_last_ca2_end2end_3:\n",
    "    first_ca1_last_ca2_end2end_A_3.append(10*i[0])"
   ]
  },
  {
   "cell_type": "code",
   "execution_count": null,
   "metadata": {},
   "outputs": [],
   "source": [
    "fig,ax = plt.subplots(3, sharex=True, sharey=True, figsize=(8,8))\n",
    "fig.tight_layout(h_pad=2)\n",
    "fig.suptitle(system_code, fontsize=15,y=1)\n",
    "ax[0].plot(t, first_ca1_last_ca2_end2end_A_1, label = 'replicate 1', color='darkgreen')\n",
    "ax[0].set_title('replicate 1', fontsize=10)\n",
    "plt.tight_layout\n",
    "ax[1].plot(t, first_ca1_last_ca2_end2end_A_2, label = 'replicate 2', color='seagreen')\n",
    "ax[1].set_title('replicate 2', fontsize=10)\n",
    "ax[2].plot(t, first_ca1_last_ca2_end2end_A_3, label = 'replicate 3', color='limegreen')\n",
    "ax[2].set_title('replicate 3', fontsize=10)\n",
    "fig.supxlabel('t (ns)')\n",
    "fig.supylabel('N-C termini CA distance ($\\AA$)')\n",
    "fig.tight_layout()\n",
    "fig.savefig(work_dir+'NC-termini-dist.png')\n",
    "plt.show()\n"
   ]
  },
  {
   "cell_type": "code",
   "execution_count": null,
   "metadata": {},
   "outputs": [],
   "source": [
    "last_ca1_first_ca2_end2end_1 = md.compute_distances(traj, last_ca1_first_ca2_array)\n",
    "last_ca1_first_ca2_end2end_2 = md.compute_distances(traj_2, last_ca1_first_ca2_array)\n",
    "last_ca1_first_ca2_end2end_3 = md.compute_distances(traj_3, last_ca1_first_ca2_array)"
   ]
  },
  {
   "cell_type": "code",
   "execution_count": null,
   "metadata": {},
   "outputs": [],
   "source": [
    "last_ca1_first_ca2_end2end_A_1 = []\n",
    "\n",
    "for i in last_ca1_first_ca2_end2end_1:\n",
    "    last_ca1_first_ca2_end2end_A_1.append(10*i[0])\n",
    "\n",
    "last_ca1_first_ca2_end2end_A_2 = []\n",
    "\n",
    "for i in last_ca1_first_ca2_end2end_2:\n",
    "    last_ca1_first_ca2_end2end_A_2.append(10*i[0])\n",
    "\n",
    "last_ca1_first_ca2_end2end_A_3 = []\n",
    "\n",
    "for i in last_ca1_first_ca2_end2end_3:\n",
    "    last_ca1_first_ca2_end2end_A_3.append(10*i[0])"
   ]
  },
  {
   "cell_type": "code",
   "execution_count": null,
   "metadata": {},
   "outputs": [],
   "source": [
    "fig,ax = plt.subplots(3, sharex=True, sharey=True, figsize=(8,8))\n",
    "fig.tight_layout(h_pad=2)\n",
    "fig.suptitle(system_code, fontsize=15,y=1)\n",
    "ax[0].plot(t, last_ca1_first_ca2_end2end_A_1, label = 'replicate 1', color='indigo')\n",
    "ax[0].set_title('replicate 1', fontsize=10)\n",
    "plt.tight_layout\n",
    "ax[1].plot(t, last_ca1_first_ca2_end2end_A_2, label = 'replicate 2', color='darkviolet')\n",
    "ax[1].set_title('replicate 2', fontsize=10)\n",
    "ax[2].plot(t, last_ca1_first_ca2_end2end_A_3, label = 'replicate 3', color='violet')\n",
    "ax[2].set_title('replicate 3', fontsize=10)\n",
    "fig.supxlabel('t (ns)')\n",
    "fig.supylabel('C-N termini CA distance ($\\AA$)')\n",
    "fig.tight_layout()\n",
    "fig.savefig(work_dir+'CN-termini-dist.png')\n",
    "plt.show()"
   ]
  },
  {
   "cell_type": "code",
   "execution_count": null,
   "metadata": {},
   "outputs": [],
   "source": [
    "fig,ax = plt.subplots(2,2, sharex=True, sharey=True, figsize=(11,11))\n",
    "fig.tight_layout(h_pad=2)\n",
    "fig.suptitle(system_code, fontsize=15,y=1)\n",
    "ax[0,0].plot(t, first_ca_end2end_A_1, label = 'N-N', color='cornflowerblue')\n",
    "ax[0,0].set_title('N-N', fontsize=10)\n",
    "ax[0,1].plot(t, last_ca_end2end_A_1, label = 'C-C', color='firebrick')\n",
    "ax[0,1].set_title('C-C', fontsize=10)\n",
    "ax[1,0].plot(t, first_ca1_last_ca2_end2end_A_1, label = 'N-C', color='seagreen')\n",
    "ax[1,0].set_title('N-C', fontsize=10)\n",
    "ax[1,1].plot(t, last_ca1_first_ca2_end2end_A_1, label = 'C-N', color='darkviolet')\n",
    "ax[1,1].set_title('C-N', fontsize=10)\n",
    "fig.supxlabel('t (ns)')\n",
    "fig.supylabel('terminal CA distance ($\\AA$)')\n",
    "fig.tight_layout()\n",
    "fig.savefig(work_dir+'rep1-termini-dist.png')\n",
    "plt.show()\n"
   ]
  },
  {
   "cell_type": "code",
   "execution_count": null,
   "metadata": {},
   "outputs": [],
   "source": [
    "fig,ax = plt.subplots(2,2, sharex=True, sharey=True, figsize=(11,11))\n",
    "fig.tight_layout(h_pad=2)\n",
    "fig.suptitle(system_code, fontsize=15,y=1)\n",
    "ax[0,0].plot(t, first_ca_end2end_A_2, label = 'N-N', color='cornflowerblue')\n",
    "ax[0,0].set_title('N-N', fontsize=10)\n",
    "ax[0,1].plot(t, last_ca_end2end_A_2, label = 'C-C', color='firebrick')\n",
    "ax[0,1].set_title('C-C', fontsize=10)\n",
    "ax[1,0].plot(t, first_ca1_last_ca2_end2end_A_2, label = 'N-C', color='seagreen')\n",
    "ax[1,0].set_title('N-C', fontsize=10)\n",
    "ax[1,1].plot(t, last_ca1_first_ca2_end2end_A_2, label = 'C-N', color='darkviolet')\n",
    "ax[1,1].set_title('C-N', fontsize=10)\n",
    "fig.supxlabel('t (ns)')\n",
    "fig.supylabel('terminal CA distance ($\\AA$)')\n",
    "fig.tight_layout()\n",
    "fig.savefig(work_dir+'rep2-termini-dist.png')\n",
    "plt.show()\n"
   ]
  },
  {
   "cell_type": "code",
   "execution_count": null,
   "metadata": {},
   "outputs": [],
   "source": [
    "fig,ax = plt.subplots(2,2, sharex=True, sharey=True, figsize=(11,11))\n",
    "fig.tight_layout(h_pad=2)\n",
    "fig.suptitle(system_code, fontsize=15,y=1)\n",
    "ax[0,0].plot(t, first_ca_end2end_A_3, label = 'N-N', color='cornflowerblue')\n",
    "ax[0,0].set_title('N-N', fontsize=10)\n",
    "ax[0,1].plot(t, last_ca_end2end_A_3, label = 'C-C', color='firebrick')\n",
    "ax[0,1].set_title('C-C', fontsize=10)\n",
    "ax[1,0].plot(t, first_ca1_last_ca2_end2end_A_3, label = 'N-C', color='seagreen')\n",
    "ax[1,0].set_title('N-C', fontsize=10)\n",
    "ax[1,1].plot(t, last_ca1_first_ca2_end2end_A_3, label = 'C-N', color='darkviolet')\n",
    "ax[1,1].set_title('C-N', fontsize=10)\n",
    "fig.supxlabel('t (ns)')\n",
    "fig.supylabel('terminal CA distance ($\\AA$)')\n",
    "fig.tight_layout()\n",
    "fig.savefig(work_dir+'rep3-termini-dist.png')\n",
    "plt.show()\n"
   ]
  }
 ],
 "metadata": {
  "kernelspec": {
   "display_name": "Python 3.9.12 ('base')",
   "language": "python",
   "name": "python3"
  },
  "language_info": {
   "codemirror_mode": {
    "name": "ipython",
    "version": 3
   },
   "file_extension": ".py",
   "mimetype": "text/x-python",
   "name": "python",
   "nbconvert_exporter": "python",
   "pygments_lexer": "ipython3",
   "version": "3.9.12"
  },
  "orig_nbformat": 4,
  "vscode": {
   "interpreter": {
    "hash": "695f82c0633f4c1f722dbd62a390a332158c8c391b71194eea38c748518aa5db"
   }
  }
 },
 "nbformat": 4,
 "nbformat_minor": 2
}
