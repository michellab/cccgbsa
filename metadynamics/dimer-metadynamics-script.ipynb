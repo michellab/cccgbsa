{
 "cells": [
  {
   "cell_type": "code",
   "execution_count": null,
   "id": "3ade9ae7",
   "metadata": {},
   "outputs": [],
   "source": [
    "from simtk.openmm.app import *\n",
    "from simtk.openmm import *\n",
    "from simtk.unit import *\n",
    "from sys import stdout\n",
    "import time\n",
    "import mdtraj as md\n",
    "import numpy as np\n",
    "import matplotlib.pyplot as plt"
   ]
  },
  {
   "cell_type": "code",
   "execution_count": null,
   "id": "3894331e",
   "metadata": {},
   "outputs": [],
   "source": [
    "prot = md.load_pdb('/home/eva/Documents/designs/p-IL-dimer/simulation-input/p-IL_fromtleap.pdb')\n",
    "topology = prot.topology"
   ]
  },
  {
   "cell_type": "code",
   "execution_count": null,
   "id": "b060f11b",
   "metadata": {},
   "outputs": [],
   "source": [
    "g1 = [atom.index for atom in topology.chain(0).atoms]\n",
    "g2 = [atom.index for atom in topology.chain(1).atoms]"
   ]
  },
  {
   "cell_type": "code",
   "execution_count": null,
   "id": "d50d1657",
   "metadata": {},
   "outputs": [],
   "source": [
    "coord = md.load('/home/eva/Documents/designs/p-IL-dimer/simulation-input/p-IL.inpcrd', top = '/home/eva/Documents/designs/p-IL-dimer/simulation-input/p-IL.prmtop')"
   ]
  },
  {
   "cell_type": "code",
   "execution_count": null,
   "id": "2b386e69",
   "metadata": {},
   "outputs": [],
   "source": [
    "phi_array = md.compute_phi(coord)\n",
    "psi_array = md.compute_psi(coord)\n",
    "\n",
    "phi_atoms = phi_array[0].tolist()\n",
    "psi_atoms = psi_array[0].tolist()\n",
    "\n",
    "phi_atoms_res_5_25 = phi_atoms[4:25]+phi_atoms[34:55]\n",
    "psi_atoms_res_5_25 = psi_atoms[4:25]+psi_atoms[34:55]"
   ]
  },
  {
   "cell_type": "code",
   "execution_count": null,
   "id": "37c28876",
   "metadata": {},
   "outputs": [],
   "source": [
    "start_time = time.time()\n",
    "\n",
    "prmtop = AmberPrmtopFile('/home/eva/Documents/designs/p-IL-dimer/simulation-input/p-IL.prmtop')\n",
    "inpcrd = AmberInpcrdFile('/home/eva/Documents/designs/p-IL-dimer/simulation-input/p-IL.inpcrd')\n",
    "pdb = PDBFile('/home/eva/Documents/designs/p-IL-dimer/simulation-input/p-IL_fromtleap.pdb')\n",
    "\n",
    "system = prmtop.createSystem(nonbondedMethod=NoCutoff, constraints=HBonds, hydrogenMass=1.5*amu, \n",
    "                             implicitSolvent=OBC2)\n",
    "cvmin = 0.1\n",
    "cvmax = 10.0\n",
    "\n",
    "expr = 'distance(g1,g2)'\n",
    "#in metadynamics, the expression inside the Force object needs to be the CV, not an energy expression\n",
    "\n",
    "dist_force_1 = openmm.CustomCentroidBondForce(2, expr)\n",
    "dist_force_1.addGroup(g1)\n",
    "dist_force_1.addGroup(g2)\n",
    "dist_force_1.addBond([0,1])\n",
    "#dist_force.setForceGroup(1)\n",
    "#do not add force to the system manually, it will get added in the metadynamics step as a CV force\n",
    "dist_bias_1 = BiasVariable(dist_force_1, cvmin, cvmax, 0.05, False)\n",
    "\n",
    "#average alpha helix phi and psi dihedrals\n",
    "phi_avg = (-57.0*np.pi)/180.0\n",
    "psi_avg = (-47.0*np.pi)/180.0\n",
    "\n",
    "#Ramachandran plot region for right-handed alpha-helix (in deg)\n",
    "phi_min = -130.0\n",
    "phi_max = -30.0\n",
    "psi_min = -68.0\n",
    "psi_max = 30.0\n",
    "\n",
    "phi0 = (phi_min +phi_max)/2.0\n",
    "psi0 = (psi_min+psi_max)/2.0\n",
    "phicutoff = abs(phi_max-phi_min)/2.0\n",
    "psicutoff = abs(psi_max-psi_min)/2.0\n",
    "        \n",
    "phiforce = CustomTorsionForce('select({},{},{})'.format('step(-k_dihed*cos(theta-phi0)-(-k_dihed*cos_phicutoff))', '-k_dihed*cos(theta-phi0)', '-k_dihed*cos_phicutoff'))\n",
    "phiforce.addGlobalParameter('k_dihed', 100.0*kilojoules_per_mole)\n",
    "phiforce.addGlobalParameter('phi0', (phi0*np.pi/180.0)*radians)\n",
    "phiforce.addGlobalParameter('cos_phicutoff', cos(phicutoff*np.pi/180.0))\n",
    "\n",
    "psiforce = CustomTorsionForce('select({},{},{})'.format('step(-k_dihed*cos(theta-psi0)-(-k_dihed*cos_psicutoff))', '-k_dihed*cos(theta-psi0)', '-k_dihed*cos_psicutoff'))\n",
    "psiforce.addGlobalParameter('k_dihed', 100.0*kilojoules_per_mole)\n",
    "psiforce.addGlobalParameter('psi0', (psi0*np.pi/180.0)*radians)\n",
    "psiforce.addGlobalParameter('cos_psicutoff', cos(psicutoff*np.pi/180.0))\n",
    "\n",
    "\n",
    "for i in range(len(phi_atoms_res_5_25)):\n",
    "    phiforce.addTorsion(phi_atoms_res_5_25[i][0], phi_atoms_res_5_25[i][1], phi_atoms_res_5_25[i][2], phi_atoms_res_5_25[i][3])\n",
    "    psiforce.addTorsion(psi_atoms_res_5_25[i][0], psi_atoms_res_5_25[i][1], psi_atoms_res_5_25[i][2], psi_atoms_res_5_25[i][3])\n",
    "    \n",
    "phiforce.setForceGroup(2)\n",
    "psiforce.setForceGroup(3)\n",
    "system.addForce(phiforce)\n",
    "system.addForce(psiforce)\n",
    "\n",
    "upper_wall = CustomCentroidBondForce(2, 'k_upper*max(distance(g1,g2)-cvmax, 0)^2')\n",
    "upper_wall.addGroup(g1)\n",
    "upper_wall.addGroup(g2)\n",
    "upper_wall.addBond([0,1])\n",
    "upper_wall.addGlobalParameter('k_upper', 10000.0*kilojoules_per_mole/nanometers**2)\n",
    "upper_wall.addGlobalParameter('cvmax', cvmax)\n",
    "upper_wall.setForceGroup(4)\n",
    "system.addForce(upper_wall)\n",
    "\n",
    "\n",
    "meta = Metadynamics(system, [dist_bias_1], 298.15*kelvin, 15.0, 0.8*kilojoule_per_mole, 500)\n",
    "\n",
    "integrator = LangevinMiddleIntegrator(298.15*kelvin, 1/picosecond, 0.004*picoseconds)\n",
    "\n",
    "platform = Platform.getPlatformByName('CUDA')\n",
    "properties = {'Precision': 'mixed'}\n",
    "\n",
    "simulation = Simulation(prmtop.topology, system, integrator, platform, properties)\n",
    "\n",
    "simulation.context.setPositions(inpcrd.positions)\n",
    "simulation.minimizeEnergy()\n",
    "simulation.reporters.append(DCDReporter('output.dcd', 1000))\n",
    "simulation.reporters.append(StateDataReporter(stdout, 1000, step=True,\n",
    "        potentialEnergy=True, temperature=True))\n",
    "\n",
    "meta.step(simulation, 250000000)\n",
    "\n",
    "print (\"simulation time:\", time.time() - start_time, \"s\")"
   ]
  },
  {
   "cell_type": "code",
   "execution_count": null,
   "id": "5816dabe",
   "metadata": {},
   "outputs": [],
   "source": [
    "traj = md.load('output.dcd', top = '/home/eva/Documents/designs/p-IL-dimer/simulation-input/p-IL.prmtop')\n",
    "\n",
    "cv_tuple=[]\n",
    "\n",
    "for crd in traj.xyz: #getting atom coordinates in each frame to make the simulation context\n",
    "    simulation.context.setPositions(crd)\n",
    "    cv_tuple.append(meta.getCollectiveVariables(simulation)) #get CV per frame\n"
   ]
  },
  {
   "cell_type": "code",
   "execution_count": null,
   "id": "d6e37f41",
   "metadata": {},
   "outputs": [],
   "source": [
    "fe = []\n",
    "for i in meta.getFreeEnergy():\n",
    "    fe.append(i._value)"
   ]
  },
  {
   "cell_type": "code",
   "execution_count": null,
   "id": "84851c6d",
   "metadata": {},
   "outputs": [],
   "source": [
    "f = open('cv.txt', 'w')\n",
    "for i in cv_tuple:\n",
    "    f.write(str(i[0])+'\\n') \n",
    "f.close()\n",
    "\n",
    "f2 = open('fe.txt', 'w')\n",
    "for i in fe:\n",
    "    f2.write(str(i)+'\\n')\n",
    "f2.close()\n",
    "\n",
    "f3 = open('total-bias.txt', 'w')\n",
    "for i in meta._totalBias:\n",
    "    f3.write(str(i)+'\\n')  \n",
    "f3.close()"
   ]
  }
 ],
 "metadata": {
  "kernelspec": {
   "display_name": "Python 3 (ipykernel)",
   "language": "python",
   "name": "python3"
  },
  "language_info": {
   "codemirror_mode": {
    "name": "ipython",
    "version": 3
   },
   "file_extension": ".py",
   "mimetype": "text/x-python",
   "name": "python",
   "nbconvert_exporter": "python",
   "pygments_lexer": "ipython3",
   "version": "3.9.12"
  }
 },
 "nbformat": 4,
 "nbformat_minor": 5
}
