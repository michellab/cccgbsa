{
 "cells": [
  {
   "cell_type": "code",
   "execution_count": null,
   "metadata": {},
   "outputs": [],
   "source": [
    "import mdtraj as md\n",
    "import numpy as np\n",
    "import matplotlib.pyplot as plt"
   ]
  },
  {
   "cell_type": "markdown",
   "metadata": {},
   "source": [
    "Reading in the CV, Free Energy and Total Bias values from the output files:"
   ]
  },
  {
   "cell_type": "code",
   "execution_count": null,
   "metadata": {},
   "outputs": [],
   "source": [
    "cv = []\n",
    "\n",
    "with open('cv.txt') as f:\n",
    "    for line in f:\n",
    "        line=line.rstrip()\n",
    "        cv.append(float(line))"
   ]
  },
  {
   "cell_type": "code",
   "execution_count": null,
   "metadata": {},
   "outputs": [],
   "source": [
    "fe = []\n",
    "\n",
    "with open('fe.txt') as f2:\n",
    "    for line in f2:\n",
    "        line=line.rstrip()\n",
    "        fe.append(float(line))"
   ]
  },
  {
   "cell_type": "code",
   "execution_count": null,
   "metadata": {},
   "outputs": [],
   "source": [
    "total_bias = []\n",
    "\n",
    "with open('total-bias.txt') as f3:\n",
    "    for line in f3:\n",
    "        line=line.rstrip()\n",
    "        total_bias.append(float(line))"
   ]
  },
  {
   "cell_type": "code",
   "execution_count": null,
   "metadata": {},
   "outputs": [],
   "source": [
    "t = np.arange(0.0, 2000.0, 0.004)"
   ]
  },
  {
   "cell_type": "code",
   "execution_count": null,
   "metadata": {},
   "outputs": [],
   "source": [
    "cv_range = np.arange(0.1, 10, 0.01) # distance in nm"
   ]
  },
  {
   "cell_type": "code",
   "execution_count": null,
   "metadata": {},
   "outputs": [],
   "source": [
    "fig,ax = plt.subplots()\n",
    "ax.plot(t, cv)\n",
    "ax.set(xlabel='t (ns)', ylabel='CV (nm)', title='')\n",
    "#ax.grid()\n",
    "#ax.set_ylim([0.5, 25.0])\n",
    "\n",
    "fig.savefig('cv.png', bbox_inches='tight')\n",
    "plt.show()"
   ]
  },
  {
   "cell_type": "code",
   "execution_count": null,
   "metadata": {},
   "outputs": [],
   "source": [
    "fig,ax = plt.subplots()\n",
    "ax.plot(cv_range, fe)\n",
    "ax.set(xlabel='CV (nm)', ylabel='Free Energy (kJ/mol)', title='')\n",
    "#ax.grid()\n",
    "ax.set_xlim([0.0, 10.0])\n",
    "\n",
    "fig.savefig('fe.png', bbox_inches='tight')\n",
    "plt.show()"
   ]
  },
  {
   "cell_type": "markdown",
   "metadata": {},
   "source": [
    "Assigning 0 to the free energy minimum:"
   ]
  },
  {
   "cell_type": "code",
   "execution_count": null,
   "metadata": {},
   "outputs": [],
   "source": [
    "minimum = min(fe)\n",
    "print('the minimum free energy is', minimum, 'kJ/mol')\n",
    "\n",
    "fe_norm = []\n",
    "\n",
    "for i in range(len(fe)):\n",
    "    fe_norm.append(fe[i]-minimum)"
   ]
  },
  {
   "cell_type": "code",
   "execution_count": null,
   "metadata": {},
   "outputs": [],
   "source": [
    "fig,ax = plt.subplots()\n",
    "ax.plot(cv_range, fe_norm)\n",
    "ax.set(xlabel='distance between monomers (nm)', ylabel='Free Energy (kJ/mol)', title='')\n",
    "#ax.grid()\n",
    "ax.set_xlim([0.0, 10.0])\n",
    "\n",
    "fig.savefig('fe-norm.png', bbox_inches='tight')\n",
    "plt.show()"
   ]
  },
  {
   "cell_type": "markdown",
   "metadata": {},
   "source": [
    "Average free energy for the 3 replicates"
   ]
  },
  {
   "cell_type": "code",
   "execution_count": null,
   "metadata": {},
   "outputs": [],
   "source": [
    "fe2 = []\n",
    "\n",
    "with open('replicate-2/fe.txt') as f4:\n",
    "    for line in f4:\n",
    "        line=line.rstrip()\n",
    "        fe2.append(float(line))\n",
    "\n",
    "minimum2 = min(fe2)\n",
    "\n",
    "fe_norm2 = []\n",
    "\n",
    "for i in range(len(fe2)):\n",
    "    fe_norm2.append(fe2[i]-minimum2)"
   ]
  },
  {
   "cell_type": "code",
   "execution_count": null,
   "metadata": {},
   "outputs": [],
   "source": [
    "fe3 = []\n",
    "\n",
    "with open('replicate-3/fe.txt') as f5:\n",
    "    for line in f5:\n",
    "        line=line.rstrip()\n",
    "        fe3.append(float(line))\n",
    "\n",
    "minimum3 = min(fe3)\n",
    "\n",
    "fe_norm3 = []\n",
    "\n",
    "for i in range(len(fe3)):\n",
    "    fe_norm3.append(fe3[i]-minimum3)"
   ]
  },
  {
   "cell_type": "code",
   "execution_count": null,
   "metadata": {},
   "outputs": [],
   "source": [
    "fig,ax = plt.subplots()\n",
    "ax.plot(cv_range, fe_norm, color='blue', label='replicate 1')\n",
    "ax.plot(cv_range, fe_norm2, color='orange', label='replicate 2')\n",
    "ax.plot(cv_range, fe_norm3, color='green', label='replicate 3')\n",
    "ax.set(xlabel='distance between monomers (nm)', ylabel='Free Energy (kJ/mol)', title='')\n",
    "#ax.grid()\n",
    "ax.set_xlim([0.0, 10.0])\n",
    "ax.set_ylim([0.0, 110.0])\n",
    "ax.legend(bbox_to_anchor=(1,1), loc='upper left')\n",
    "\n",
    "fig.savefig('fe-norm_all_replicates.png', bbox_inches='tight')\n",
    "plt.show()"
   ]
  },
  {
   "cell_type": "code",
   "execution_count": null,
   "metadata": {},
   "outputs": [],
   "source": [
    "fe_tuple = []\n",
    "\n",
    "for i in range(len(fe_norm)):\n",
    "    fe_tuple.append((fe_norm[i], fe_norm2[i], fe_norm3[i])) \n",
    "\n",
    "fe_avg = []\n",
    "fe_std = []\n",
    "\n",
    "for i in fe_tuple:\n",
    "    fe_avg.append(np.mean(i))\n",
    "    fe_std.append(np.std(i))"
   ]
  },
  {
   "cell_type": "code",
   "execution_count": null,
   "metadata": {},
   "outputs": [],
   "source": [
    "cv_range2 = np.arange(1.0, 100.0, 0.1) # distance in A"
   ]
  },
  {
   "cell_type": "code",
   "execution_count": null,
   "metadata": {},
   "outputs": [],
   "source": [
    "fig,ax = plt.subplots()\n",
    "\n",
    "ax.set(xlabel='distance between monomer centre of mass ($\\AA$)', ylabel='$\\Delta G$ (kJ/mol)')\n",
    "#ax.grid()\n",
    "ax.set_xlim([0.0, 100.0])\n",
    "ax.set_ylim([0.0, 100.0])\n",
    "ax.errorbar(cv_range2, fe_avg, yerr = fe_std, fmt = 'none', ecolor='papayawhip', elinewidth = 0.6, capsize = 1)\n",
    "ax.plot(cv_range2, fe_avg, color='darkorange')\n",
    "\n",
    "fig.savefig('fe-with-errors-all-replicates.png', bbox_inches='tight')\n",
    "plt.show()"
   ]
  },
  {
   "cell_type": "markdown",
   "metadata": {},
   "source": [
    "Again, assigning 0 to the free energy minimum:"
   ]
  },
  {
   "cell_type": "code",
   "execution_count": null,
   "metadata": {},
   "outputs": [],
   "source": [
    "minimum_avg = min(fe_avg)\n",
    "\n",
    "fe_norm_avg = []\n",
    "\n",
    "for i in range(len(fe_avg)):\n",
    "    fe_norm_avg.append(fe_avg[i]-minimum_avg)"
   ]
  },
  {
   "cell_type": "code",
   "execution_count": null,
   "metadata": {},
   "outputs": [],
   "source": [
    "fig,ax = plt.subplots()\n",
    "\n",
    "ax.set(xlabel='distance between monomer centre of mass ($\\AA$)', ylabel='$\\Delta G$ (kJ/mol)', title='p-IL dimer')\n",
    "#ax.grid()\n",
    "ax.set_xlim([0.0, 100.0])\n",
    "ax.set_ylim([0.0, 120.0])\n",
    "ax.errorbar(cv_range2, fe_norm_avg, yerr = fe_std, fmt = 'none', ecolor='papayawhip', elinewidth = 0.6, capsize = 1)\n",
    "ax.plot(cv_range2, fe_norm_avg, color='darkorange')\n",
    "\n",
    "fig.savefig('fe-norm-with-errors-all-replicates.png', bbox_inches='tight')\n",
    "plt.show()"
   ]
  },
  {
   "cell_type": "markdown",
   "metadata": {},
   "source": [
    "Converting free energies to kcal/mol"
   ]
  },
  {
   "cell_type": "code",
   "execution_count": null,
   "metadata": {},
   "outputs": [],
   "source": [
    "fe_norm_avg_kcal = []\n",
    "\n",
    "for i in fe_norm_avg:\n",
    "    fe_norm_avg_kcal.append(i/4.184)\n",
    "    \n",
    "fe_std_kcal = []\n",
    "\n",
    "for i in fe_std:\n",
    "    fe_std_kcal.append(i/4.184)"
   ]
  },
  {
   "cell_type": "code",
   "execution_count": null,
   "metadata": {},
   "outputs": [],
   "source": [
    "fig,ax = plt.subplots()\n",
    "\n",
    "ax.set(xlabel='distance between monomer centre of mass ($\\AA$)', ylabel='$\\Delta G$ (kcal/mol)', title='p-IL dimer')\n",
    "#ax.grid()\n",
    "ax.set_xlim([0.0, 100.0])\n",
    "ax.set_ylim([0.0, 20.0])\n",
    "ax.errorbar(cv_range2, fe_norm_avg_kcal, yerr = fe_std_kcal, fmt = 'none', ecolor='papayawhip', elinewidth = 0.6, capsize = 1)\n",
    "ax.plot(cv_range2, fe_norm_avg_kcal, color='darkorange')\n",
    "\n",
    "fig.savefig('fe-norm-with-errors_kcal-all-replicates.png', bbox_inches='tight')\n",
    "plt.show()"
   ]
  }
 ],
 "metadata": {
  "kernelspec": {
   "display_name": "Python 3.9.5 64-bit",
   "language": "python",
   "name": "python3"
  },
  "language_info": {
   "name": "python",
   "version": "3.9.5"
  },
  "orig_nbformat": 4,
  "vscode": {
   "interpreter": {
    "hash": "f9f85f796d01129d0dd105a088854619f454435301f6ffec2fea96ecbd9be4ac"
   }
  }
 },
 "nbformat": 4,
 "nbformat_minor": 2
}
